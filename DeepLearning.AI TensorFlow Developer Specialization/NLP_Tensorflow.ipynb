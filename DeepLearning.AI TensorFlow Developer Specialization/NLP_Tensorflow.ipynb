{
 "cells": [
  {
   "cell_type": "code",
   "execution_count": 1,
   "metadata": {},
   "outputs": [
    {
     "name": "stdout",
     "output_type": "stream",
     "text": [
      "\n",
      "Word Index =  {'<OOV>': 1, 'my': 2, 'love': 3, 'dog': 4, 'i': 5, 'you': 6, 'cat': 7, 'do': 8, 'think': 9, 'is': 10, 'amazing': 11}\n",
      "\n",
      "Sequences =  [[5, 3, 2, 4], [5, 3, 2, 7], [6, 3, 2, 4], [8, 6, 9, 2, 4, 10, 11]]\n",
      "\n",
      "Padded Sequences:\n",
      "[[ 0  5  3  2  4]\n",
      " [ 0  5  3  2  7]\n",
      " [ 0  6  3  2  4]\n",
      " [ 9  2  4 10 11]]\n",
      "\n",
      "Test Sequence =  [[5, 1, 3, 2, 4], [2, 4, 1, 2, 1]]\n",
      "\n",
      "Padded Test Sequence: \n",
      "[[0 0 0 0 0 5 1 3 2 4]\n",
      " [0 0 0 0 0 2 4 1 2 1]]\n"
     ]
    }
   ],
   "source": [
    "import tensorflow as tf\n",
    "from tensorflow import keras\n",
    "\n",
    "\n",
    "from tensorflow.keras.preprocessing.text import Tokenizer\n",
    "from tensorflow.keras.preprocessing.sequence import pad_sequences\n",
    "\n",
    "sentences = [\n",
    "    'I love my dog',\n",
    "    'I love my cat',\n",
    "    'You love my dog!',\n",
    "    'Do you think my dog is amazing?'\n",
    "]\n",
    "\n",
    "tokenizer = Tokenizer(num_words = 100, oov_token=\"<OOV>\")\n",
    "tokenizer.fit_on_texts(sentences)\n",
    "word_index = tokenizer.word_index\n",
    "\n",
    "sequences = tokenizer.texts_to_sequences(sentences)\n",
    "\n",
    "padded = pad_sequences(sequences, maxlen=5)\n",
    "print(\"\\nWord Index = \" , word_index)\n",
    "print(\"\\nSequences = \" , sequences)\n",
    "print(\"\\nPadded Sequences:\")\n",
    "print(padded)\n",
    "\n",
    "\n",
    "# Try with words that the tokenizer wasn't fit to\n",
    "test_data = [\n",
    "    'i really love my dog',\n",
    "    'my dog loves my manatee'\n",
    "]\n",
    "\n",
    "test_seq = tokenizer.texts_to_sequences(test_data)\n",
    "print(\"\\nTest Sequence = \", test_seq)\n",
    "\n",
    "padded = pad_sequences(test_seq, maxlen=10)\n",
    "print(\"\\nPadded Test Sequence: \")\n",
    "print(padded)"
   ]
  },
  {
   "cell_type": "code",
   "execution_count": 7,
   "metadata": {},
   "outputs": [
    {
     "name": "stdout",
     "output_type": "stream",
     "text": [
      "29657\n",
      "[  308 15115   679  3337  2298    48   382  2576 15116     6  2577  8434\n",
      "     0     0     0     0     0     0     0     0     0     0     0     0\n",
      "     0     0     0     0     0     0     0     0     0     0     0     0\n",
      "     0     0     0     0]\n",
      "(26709, 40)\n"
     ]
    }
   ],
   "source": [
    "import json\n",
    "\n",
    "with open(\"sarcasm.json\", 'r') as f:\n",
    "    datastore = json.load(f)\n",
    "\n",
    "\n",
    "sentences = [] \n",
    "labels = []\n",
    "urls = []\n",
    "for item in datastore:\n",
    "    sentences.append(item['headline'])\n",
    "    labels.append(item['is_sarcastic'])\n",
    "    urls.append(item['article_link'])\n",
    "\n",
    "\n",
    "\n",
    "from tensorflow.keras.preprocessing.text import Tokenizer\n",
    "from tensorflow.keras.preprocessing.sequence import pad_sequences\n",
    "tokenizer = Tokenizer(oov_token=\"<OOV>\")\n",
    "tokenizer.fit_on_texts(sentences)\n",
    "\n",
    "word_index = tokenizer.word_index\n",
    "print(len(word_index))\n",
    "# print(word_index)\n",
    "sequences = tokenizer.texts_to_sequences(sentences)\n",
    "padded = pad_sequences(sequences, padding='post')\n",
    "print(padded[0])\n",
    "print(padded.shape)"
   ]
  },
  {
   "cell_type": "markdown",
   "metadata": {},
   "source": [
    "## **Word Embeddings**"
   ]
  },
  {
   "cell_type": "markdown",
   "metadata": {},
   "source": [
    "Word embeddings are a type of word representation that allows words with similar meaning to have a similar representation.\n",
    "\n",
    "They are a distributed representation for text that is perhaps one of the key breakthroughs for the impressive performance of deep learning methods on challenging natural language processing problems.\n",
    "\n",
    "**\"One of the benefits of using dense and low-dimensional vectors is computational: the majority of neural network toolkits do not play well with very high-dimensional, sparse vectors. … The main benefit of the dense representations is generalization power: if we believe some features may provide similar clues, it is worthwhile to provide a representation that is able to capture these similarities\"**\n",
    "\n",
    "Three techniques that can be used to learn a word embedding from text data.\n",
    "- Embedding Layer\n",
    "- Word2Vec\n",
    "1. Continuous Bag-of-Words model  (CBOW)\n",
    "2. Skip-gram model\n",
    "- GloVe"
   ]
  },
  {
   "cell_type": "markdown",
   "metadata": {},
   "source": [
    "## Week 2 - Lab 1"
   ]
  },
  {
   "cell_type": "code",
   "execution_count": 9,
   "metadata": {},
   "outputs": [],
   "source": [
    "import tensorflow_datasets as tfds\n",
    "imdb, info = tfds.load(\"imdb_reviews\", with_info=True, as_supervised=True)"
   ]
  },
  {
   "cell_type": "code",
   "execution_count": 10,
   "metadata": {},
   "outputs": [],
   "source": [
    "import numpy as np\n",
    "\n",
    "train_data, test_data = imdb['train'], imdb['test']\n",
    "\n",
    "training_sentences = []\n",
    "training_labels = []\n",
    "\n",
    "testing_sentences = []\n",
    "testing_labels = []\n",
    "\n",
    "# str(s.tonumpy()) is needed in Python3 instead of just s.numpy()\n",
    "for s,l in train_data:\n",
    "  training_sentences.append(s.numpy().decode('utf8'))\n",
    "  training_labels.append(l.numpy())\n",
    "  \n",
    "for s,l in test_data:\n",
    "  testing_sentences.append(s.numpy().decode('utf8'))\n",
    "  testing_labels.append(l.numpy())\n",
    "  \n",
    "training_labels_final = np.array(training_labels)\n",
    "testing_labels_final = np.array(testing_labels)"
   ]
  },
  {
   "cell_type": "code",
   "execution_count": 11,
   "metadata": {},
   "outputs": [],
   "source": [
    "vocab_size = 10000\n",
    "embedding_dim = 16\n",
    "max_length = 120\n",
    "trunc_type='post'\n",
    "oov_tok = \"<OOV>\"\n",
    "\n",
    "\n",
    "from tensorflow.keras.preprocessing.text import Tokenizer\n",
    "from tensorflow.keras.preprocessing.sequence import pad_sequences\n",
    "\n",
    "tokenizer = Tokenizer(num_words = vocab_size, oov_token=oov_tok)\n",
    "tokenizer.fit_on_texts(training_sentences)\n",
    "word_index = tokenizer.word_index\n",
    "sequences = tokenizer.texts_to_sequences(training_sentences)\n",
    "padded = pad_sequences(sequences,maxlen=max_length, truncating=trunc_type)\n",
    "\n",
    "testing_sequences = tokenizer.texts_to_sequences(testing_sentences)\n",
    "testing_padded = pad_sequences(testing_sequences,maxlen=max_length)"
   ]
  },
  {
   "cell_type": "code",
   "execution_count": 12,
   "metadata": {},
   "outputs": [
    {
     "name": "stdout",
     "output_type": "stream",
     "text": [
      "? ? ? ? ? ? ? ? ? ? ? ? ? ? ? ? ? ? ? ? ? ? ? ? ? ? ? ? ? ? ? this is the kind of film for a snowy sunday afternoon when the rest of the world can go ahead with its own business as you <OOV> into a big arm chair and <OOV> for a couple of hours wonderful performances from cher and nicolas cage as always gently row the plot along there are no <OOV> to cross no dangerous waters just a warm and witty <OOV> through new york life at its best a family film in every sense and one that deserves the praise it received\n",
      "This is the kind of film for a snowy Sunday afternoon when the rest of the world can go ahead with its own business as you descend into a big arm-chair and mellow for a couple of hours. Wonderful performances from Cher and Nicolas Cage (as always) gently row the plot along. There are no rapids to cross, no dangerous waters, just a warm and witty paddle through New York life at its best. A family film in every sense and one that deserves the praise it received.\n"
     ]
    }
   ],
   "source": [
    "reverse_word_index = dict([(value, key) for (key, value) in word_index.items()])\n",
    "\n",
    "def decode_review(text):\n",
    "    return ' '.join([reverse_word_index.get(i, '?') for i in text])\n",
    "\n",
    "print(decode_review(padded[3]))\n",
    "print(training_sentences[3])"
   ]
  },
  {
   "cell_type": "code",
   "execution_count": 13,
   "metadata": {},
   "outputs": [
    {
     "name": "stdout",
     "output_type": "stream",
     "text": [
      "Model: \"sequential\"\n",
      "_________________________________________________________________\n",
      "Layer (type)                 Output Shape              Param #   \n",
      "=================================================================\n",
      "embedding (Embedding)        (None, 120, 16)           160000    \n",
      "_________________________________________________________________\n",
      "flatten (Flatten)            (None, 1920)              0         \n",
      "_________________________________________________________________\n",
      "dense (Dense)                (None, 6)                 11526     \n",
      "_________________________________________________________________\n",
      "dense_1 (Dense)              (None, 1)                 7         \n",
      "=================================================================\n",
      "Total params: 171,533\n",
      "Trainable params: 171,533\n",
      "Non-trainable params: 0\n",
      "_________________________________________________________________\n"
     ]
    }
   ],
   "source": [
    "model = tf.keras.Sequential([\n",
    "    tf.keras.layers.Embedding(vocab_size, embedding_dim, input_length=max_length),\n",
    "    tf.keras.layers.Flatten(),\n",
    "    tf.keras.layers.Dense(6, activation='relu'),\n",
    "    tf.keras.layers.Dense(1, activation='sigmoid')\n",
    "])\n",
    "model.compile(loss='binary_crossentropy',optimizer='adam',metrics=['accuracy'])\n",
    "model.summary()"
   ]
  },
  {
   "cell_type": "code",
   "execution_count": 14,
   "metadata": {},
   "outputs": [
    {
     "name": "stdout",
     "output_type": "stream",
     "text": [
      "Epoch 1/10\n",
      "782/782 [==============================] - 3s 3ms/step - loss: 0.4962 - accuracy: 0.7370 - val_loss: 0.3434 - val_accuracy: 0.8504\n",
      "Epoch 2/10\n",
      "782/782 [==============================] - 3s 4ms/step - loss: 0.2457 - accuracy: 0.9048 - val_loss: 0.3650 - val_accuracy: 0.8436\n",
      "Epoch 3/10\n",
      "782/782 [==============================] - 4s 5ms/step - loss: 0.0988 - accuracy: 0.9746 - val_loss: 0.4463 - val_accuracy: 0.8294\n",
      "Epoch 4/10\n",
      "782/782 [==============================] - 2s 3ms/step - loss: 0.0276 - accuracy: 0.9962 - val_loss: 0.5286 - val_accuracy: 0.8279\n",
      "Epoch 5/10\n",
      "782/782 [==============================] - 2s 3ms/step - loss: 0.0082 - accuracy: 0.9992 - val_loss: 0.5795 - val_accuracy: 0.8285- accu\n",
      "Epoch 6/10\n",
      "782/782 [==============================] - 3s 4ms/step - loss: 0.0024 - accuracy: 0.9999 - val_loss: 0.6291 - val_accuracy: 0.8309\n",
      "Epoch 7/10\n",
      "782/782 [==============================] - 2s 3ms/step - loss: 9.2174e-04 - accuracy: 1.0000 - val_loss: 0.6730 - val_accuracy: 0.8316\n",
      "Epoch 8/10\n",
      "782/782 [==============================] - 2s 3ms/step - loss: 4.9221e-04 - accuracy: 1.0000 - val_loss: 0.7176 - val_accuracy: 0.8308\n",
      "Epoch 9/10\n",
      "782/782 [==============================] - 2s 3ms/step - loss: 2.8757e-04 - accuracy: 1.0000 - val_loss: 0.7524 - val_accuracy: 0.8314\n",
      "Epoch 10/10\n",
      "782/782 [==============================] - 2s 3ms/step - loss: 1.7261e-04 - accuracy: 1.0000 - val_loss: 0.7863 - val_accuracy: 0.8319\n"
     ]
    },
    {
     "data": {
      "text/plain": [
       "<tensorflow.python.keras.callbacks.History at 0x1ec27fc8788>"
      ]
     },
     "execution_count": 14,
     "metadata": {},
     "output_type": "execute_result"
    }
   ],
   "source": [
    "num_epochs = 10\n",
    "model.fit(padded, training_labels_final, epochs=num_epochs, validation_data=(testing_padded, testing_labels_final))"
   ]
  },
  {
   "cell_type": "code",
   "execution_count": 15,
   "metadata": {},
   "outputs": [
    {
     "name": "stdout",
     "output_type": "stream",
     "text": [
      "(10000, 16)\n"
     ]
    }
   ],
   "source": [
    "e = model.layers[0]\n",
    "weights = e.get_weights()[0]\n",
    "print(weights.shape) # shape: (vocab_size, embedding_dim)"
   ]
  },
  {
   "cell_type": "code",
   "execution_count": 16,
   "metadata": {},
   "outputs": [],
   "source": [
    "import io\n",
    "\n",
    "out_v = io.open('vecs.tsv', 'w', encoding='utf-8')\n",
    "out_m = io.open('meta.tsv', 'w', encoding='utf-8')\n",
    "for word_num in range(1, vocab_size):\n",
    "  word = reverse_word_index[word_num]\n",
    "  embeddings = weights[word_num]\n",
    "  out_m.write(word + \"\\n\")\n",
    "  out_v.write('\\t'.join([str(x) for x in embeddings]) + \"\\n\")\n",
    "out_v.close()\n",
    "out_m.close()"
   ]
  },
  {
   "cell_type": "code",
   "execution_count": 18,
   "metadata": {},
   "outputs": [
    {
     "name": "stdout",
     "output_type": "stream",
     "text": [
      "[[11, 64, 102, 12, 7, 478, 1200]]\n"
     ]
    }
   ],
   "source": [
    "sentence = \"I really think this is amazing. honest.\"\n",
    "sequence = tokenizer.texts_to_sequences([sentence])\n",
    "print(sequence)"
   ]
  },
  {
   "cell_type": "markdown",
   "metadata": {},
   "source": [
    "## Scarasm data (lab 2)"
   ]
  },
  {
   "cell_type": "code",
   "execution_count": 7,
   "metadata": {},
   "outputs": [],
   "source": [
    "import json\n",
    "import tensorflow as tf\n",
    "\n",
    "from tensorflow.keras.preprocessing.text import Tokenizer\n",
    "from tensorflow.keras.preprocessing.sequence import pad_sequences\n",
    "vocab_size = 10000\n",
    "embedding_dim = 16\n",
    "max_length = 100\n",
    "trunc_type='post'\n",
    "padding_type='post'\n",
    "oov_tok = \"<OOV>\"\n",
    "training_size = 20000"
   ]
  },
  {
   "cell_type": "code",
   "execution_count": 21,
   "metadata": {},
   "outputs": [],
   "source": [
    "with open(\"sarcasm.json\", 'r') as f:\n",
    "    datastore = json.load(f)\n",
    "\n",
    "sentences = []\n",
    "labels = []\n",
    "\n",
    "for item in datastore:\n",
    "    sentences.append(item['headline'])\n",
    "    labels.append(item['is_sarcastic'])"
   ]
  },
  {
   "cell_type": "code",
   "execution_count": 22,
   "metadata": {},
   "outputs": [],
   "source": [
    "training_sentences = sentences[0:training_size]\n",
    "testing_sentences = sentences[training_size:]\n",
    "training_labels = labels[0:training_size]\n",
    "testing_labels = labels[training_size:]"
   ]
  },
  {
   "cell_type": "code",
   "execution_count": 23,
   "metadata": {},
   "outputs": [],
   "source": [
    "tokenizer = Tokenizer(num_words=vocab_size, oov_token=oov_tok)\n",
    "tokenizer.fit_on_texts(training_sentences)\n",
    "\n",
    "word_index = tokenizer.word_index\n",
    "\n",
    "training_sequences = tokenizer.texts_to_sequences(training_sentences)\n",
    "training_padded = pad_sequences(training_sequences, maxlen=max_length, padding=padding_type, truncating=trunc_type)\n",
    "\n",
    "testing_sequences = tokenizer.texts_to_sequences(testing_sentences)\n",
    "testing_padded = pad_sequences(testing_sequences, maxlen=max_length, padding=padding_type, truncating=trunc_type)"
   ]
  },
  {
   "cell_type": "code",
   "execution_count": 24,
   "metadata": {},
   "outputs": [],
   "source": [
    "# Need this block to get it to work with TensorFlow 2.x\n",
    "import numpy as np\n",
    "training_padded = np.array(training_padded)\n",
    "training_labels = np.array(training_labels)\n",
    "testing_padded = np.array(testing_padded)\n",
    "testing_labels = np.array(testing_labels)"
   ]
  },
  {
   "cell_type": "code",
   "execution_count": 25,
   "metadata": {},
   "outputs": [],
   "source": [
    "model = tf.keras.Sequential([\n",
    "    tf.keras.layers.Embedding(vocab_size, embedding_dim, input_length=max_length),\n",
    "    tf.keras.layers.GlobalAveragePooling1D(),\n",
    "    tf.keras.layers.Dense(24, activation='relu'),\n",
    "    tf.keras.layers.Dense(1, activation='sigmoid')\n",
    "])\n",
    "model.compile(loss='binary_crossentropy',optimizer='adam',metrics=['accuracy'])"
   ]
  },
  {
   "cell_type": "code",
   "execution_count": 26,
   "metadata": {},
   "outputs": [
    {
     "name": "stdout",
     "output_type": "stream",
     "text": [
      "Model: \"sequential_1\"\n",
      "_________________________________________________________________\n",
      "Layer (type)                 Output Shape              Param #   \n",
      "=================================================================\n",
      "embedding_1 (Embedding)      (None, 100, 16)           160000    \n",
      "_________________________________________________________________\n",
      "global_average_pooling1d (Gl (None, 16)                0         \n",
      "_________________________________________________________________\n",
      "dense_2 (Dense)              (None, 24)                408       \n",
      "_________________________________________________________________\n",
      "dense_3 (Dense)              (None, 1)                 25        \n",
      "=================================================================\n",
      "Total params: 160,433\n",
      "Trainable params: 160,433\n",
      "Non-trainable params: 0\n",
      "_________________________________________________________________\n"
     ]
    }
   ],
   "source": [
    "model.summary()"
   ]
  },
  {
   "cell_type": "code",
   "execution_count": 27,
   "metadata": {},
   "outputs": [
    {
     "name": "stdout",
     "output_type": "stream",
     "text": [
      "Epoch 1/30\n",
      "625/625 - 2s - loss: 0.6831 - accuracy: 0.5586 - val_loss: 0.6699 - val_accuracy: 0.5639\n",
      "Epoch 2/30\n",
      "625/625 - 1s - loss: 0.5083 - accuracy: 0.7796 - val_loss: 0.4057 - val_accuracy: 0.8302\n",
      "Epoch 3/30\n",
      "625/625 - 1s - loss: 0.3345 - accuracy: 0.8669 - val_loss: 0.3679 - val_accuracy: 0.8396\n",
      "Epoch 4/30\n",
      "625/625 - 1s - loss: 0.2781 - accuracy: 0.8906 - val_loss: 0.3440 - val_accuracy: 0.8539\n",
      "Epoch 5/30\n",
      "625/625 - 2s - loss: 0.2423 - accuracy: 0.9065 - val_loss: 0.3417 - val_accuracy: 0.8538\n",
      "Epoch 6/30\n",
      "625/625 - 2s - loss: 0.2149 - accuracy: 0.9171 - val_loss: 0.3427 - val_accuracy: 0.8541\n",
      "Epoch 7/30\n",
      "625/625 - 2s - loss: 0.1920 - accuracy: 0.9262 - val_loss: 0.3503 - val_accuracy: 0.8565\n",
      "Epoch 8/30\n",
      "625/625 - 2s - loss: 0.1736 - accuracy: 0.9341 - val_loss: 0.3582 - val_accuracy: 0.8536\n",
      "Epoch 9/30\n",
      "625/625 - 2s - loss: 0.1569 - accuracy: 0.9430 - val_loss: 0.3748 - val_accuracy: 0.8514\n",
      "Epoch 10/30\n",
      "625/625 - 1s - loss: 0.1419 - accuracy: 0.9491 - val_loss: 0.3841 - val_accuracy: 0.8538\n",
      "Epoch 11/30\n",
      "625/625 - 1s - loss: 0.1308 - accuracy: 0.9542 - val_loss: 0.4073 - val_accuracy: 0.8487\n",
      "Epoch 12/30\n",
      "625/625 - 2s - loss: 0.1199 - accuracy: 0.9589 - val_loss: 0.4181 - val_accuracy: 0.8505\n",
      "Epoch 13/30\n",
      "625/625 - 1s - loss: 0.1102 - accuracy: 0.9627 - val_loss: 0.4378 - val_accuracy: 0.8490\n",
      "Epoch 14/30\n",
      "625/625 - 2s - loss: 0.1011 - accuracy: 0.9667 - val_loss: 0.4703 - val_accuracy: 0.8417\n",
      "Epoch 15/30\n",
      "625/625 - 1s - loss: 0.0936 - accuracy: 0.9694 - val_loss: 0.4899 - val_accuracy: 0.8386\n",
      "Epoch 16/30\n",
      "625/625 - 1s - loss: 0.0859 - accuracy: 0.9729 - val_loss: 0.5038 - val_accuracy: 0.8402\n",
      "Epoch 17/30\n",
      "625/625 - 2s - loss: 0.0800 - accuracy: 0.9737 - val_loss: 0.5253 - val_accuracy: 0.8404\n",
      "Epoch 18/30\n",
      "625/625 - 1s - loss: 0.0728 - accuracy: 0.9768 - val_loss: 0.5528 - val_accuracy: 0.8381\n",
      "Epoch 19/30\n",
      "625/625 - 1s - loss: 0.0684 - accuracy: 0.9789 - val_loss: 0.5780 - val_accuracy: 0.8334\n",
      "Epoch 20/30\n",
      "625/625 - 1s - loss: 0.0623 - accuracy: 0.9815 - val_loss: 0.6094 - val_accuracy: 0.8334\n",
      "Epoch 21/30\n",
      "625/625 - 1s - loss: 0.0611 - accuracy: 0.9804 - val_loss: 0.6337 - val_accuracy: 0.8308\n",
      "Epoch 22/30\n",
      "625/625 - 1s - loss: 0.0556 - accuracy: 0.9838 - val_loss: 0.6566 - val_accuracy: 0.8334\n",
      "Epoch 23/30\n",
      "625/625 - 1s - loss: 0.0509 - accuracy: 0.9848 - val_loss: 0.6906 - val_accuracy: 0.8302\n",
      "Epoch 24/30\n",
      "625/625 - 1s - loss: 0.0463 - accuracy: 0.9869 - val_loss: 0.7125 - val_accuracy: 0.8308\n",
      "Epoch 25/30\n",
      "625/625 - 1s - loss: 0.0438 - accuracy: 0.9882 - val_loss: 0.7414 - val_accuracy: 0.8275\n",
      "Epoch 26/30\n",
      "625/625 - 1s - loss: 0.0403 - accuracy: 0.9887 - val_loss: 0.7925 - val_accuracy: 0.8246\n",
      "Epoch 27/30\n",
      "625/625 - 1s - loss: 0.0382 - accuracy: 0.9896 - val_loss: 0.7972 - val_accuracy: 0.8258\n",
      "Epoch 28/30\n",
      "625/625 - 1s - loss: 0.0350 - accuracy: 0.9907 - val_loss: 0.8318 - val_accuracy: 0.8180\n",
      "Epoch 29/30\n",
      "625/625 - 1s - loss: 0.0330 - accuracy: 0.9912 - val_loss: 0.8778 - val_accuracy: 0.8210\n",
      "Epoch 30/30\n",
      "625/625 - 1s - loss: 0.0310 - accuracy: 0.9917 - val_loss: 0.9189 - val_accuracy: 0.8202\n"
     ]
    }
   ],
   "source": [
    "num_epochs = 30\n",
    "history = model.fit(training_padded, training_labels, epochs=num_epochs, validation_data=(testing_padded, testing_labels), verbose=2)"
   ]
  },
  {
   "cell_type": "code",
   "execution_count": 28,
   "metadata": {},
   "outputs": [
    {
     "data": {
      "image/png": "[encoded data removed]",
      "text/plain": [
       "<Figure size 432x288 with 1 Axes>"
      ]
     },
     "metadata": {
      "needs_background": "light"
     },
     "output_type": "display_data"
    },
    {
     "data": {
      "image/png": "[encoded data removed]",
      "text/plain": [
       "<Figure size 432x288 with 1 Axes>"
      ]
     },
     "metadata": {
      "needs_background": "light"
     },
     "output_type": "display_data"
    }
   ],
   "source": [
    "import matplotlib.pyplot as plt\n",
    "\n",
    "\n",
    "def plot_graphs(history, string):\n",
    "  plt.plot(history.history[string])\n",
    "  plt.plot(history.history['val_'+string])\n",
    "  plt.xlabel(\"Epochs\")\n",
    "  plt.ylabel(string)\n",
    "  plt.legend([string, 'val_'+string])\n",
    "  plt.show()\n",
    "  \n",
    "plot_graphs(history, \"accuracy\")\n",
    "plot_graphs(history, \"loss\")"
   ]
  },
  {
   "cell_type": "code",
   "execution_count": 29,
   "metadata": {},
   "outputs": [
    {
     "name": "stdout",
     "output_type": "stream",
     "text": [
      "former <OOV> store clerk sues over secret 'black <OOV> for minority shoppers ? ? ? ? ? ? ? ? ? ? ? ? ? ? ? ? ? ? ? ? ? ? ? ? ? ? ? ? ? ? ? ? ? ? ? ? ? ? ? ? ? ? ? ? ? ? ? ? ? ? ? ? ? ? ? ? ? ? ? ? ? ? ? ? ? ? ? ? ? ? ? ? ? ? ? ? ? ? ? ? ? ? ? ? ? ? ? ?\n",
      "mom starting to fear son's web series closest thing she will have to grandchild\n",
      "1\n"
     ]
    }
   ],
   "source": [
    "reverse_word_index = dict([(value, key) for (key, value) in word_index.items()])\n",
    "\n",
    "def decode_sentence(text):\n",
    "    return ' '.join([reverse_word_index.get(i, '?') for i in text])\n",
    "\n",
    "print(decode_sentence(training_padded[0]))\n",
    "print(training_sentences[2])\n",
    "print(labels[2])"
   ]
  },
  {
   "cell_type": "code",
   "execution_count": 30,
   "metadata": {},
   "outputs": [
    {
     "name": "stdout",
     "output_type": "stream",
     "text": [
      "(10000, 16)\n"
     ]
    }
   ],
   "source": [
    "e = model.layers[0]\n",
    "weights = e.get_weights()[0]\n",
    "print(weights.shape) # shape: (vocab_size, embedding_dim)"
   ]
  },
  {
   "cell_type": "code",
   "execution_count": 31,
   "metadata": {},
   "outputs": [
    {
     "name": "stdout",
     "output_type": "stream",
     "text": [
      "[[0.9906756 ]\n",
      " [0.00160077]]\n"
     ]
    }
   ],
   "source": [
    "sentence = [\"granny starting to fear spiders in the garden might be real\", \"game of thrones season finale showing this sunday night\"]\n",
    "sequences = tokenizer.texts_to_sequences(sentence)\n",
    "padded = pad_sequences(sequences, maxlen=max_length, padding=padding_type, truncating=trunc_type)\n",
    "print(model.predict(padded))"
   ]
  },
  {
   "cell_type": "markdown",
   "metadata": {},
   "source": [
    "## lab 3"
   ]
  },
  {
   "cell_type": "code",
   "execution_count": 32,
   "metadata": {},
   "outputs": [
    {
     "name": "stderr",
     "output_type": "stream",
     "text": [
      "WARNING:absl:TFDS datasets with text encoding are deprecated and will be removed in a future version. Instead, you should use the plain text version and tokenize the text using `tensorflow_text` (See: https://www.tensorflow.org/tutorials/tensorflow_text/intro#tfdata_example)\n"
     ]
    },
    {
     "name": "stdout",
     "output_type": "stream",
     "text": [
      "\u001b[1mDownloading and preparing dataset Unknown size (download: Unknown size, generated: Unknown size, total: Unknown size) to C:\\Users\\Yash\\tensorflow_datasets\\imdb_reviews\\subwords8k\\1.0.0...\u001b[0m\n"
     ]
    },
    {
     "name": "stderr",
     "output_type": "stream",
     "text": [
      "Dl Size...: 100%|██████████| 84125825/84125825 [00:00<00:00, 581726775.48 MiB/s]\n",
      "Dl Completed...: 100%|██████████| 1/1 [00:00<00:00,  6.64 url/s]\n",
      "WARNING:absl:Dataset is using deprecated text encoder API which will be removed soon. Please use the plain_text version of the dataset and migrate to `tensorflow_text`.\n"
     ]
    },
    {
     "name": "stdout",
     "output_type": "stream",
     "text": [
      "\u001b[1mDataset imdb_reviews downloaded and prepared to C:\\Users\\Yash\\tensorflow_datasets\\imdb_reviews\\subwords8k\\1.0.0. Subsequent calls will reuse this data.\u001b[0m\n"
     ]
    }
   ],
   "source": [
    "import tensorflow_datasets as tfds\n",
    "imdb, info = tfds.load(\"imdb_reviews/subwords8k\", with_info=True, as_supervised=True)"
   ]
  },
  {
   "cell_type": "code",
   "execution_count": 33,
   "metadata": {},
   "outputs": [],
   "source": [
    "train_data, test_data = imdb['train'], imdb['test']"
   ]
  },
  {
   "cell_type": "code",
   "execution_count": 34,
   "metadata": {},
   "outputs": [],
   "source": [
    "tokenizer = info.features['text'].encoder"
   ]
  },
  {
   "cell_type": "code",
   "execution_count": 43,
   "metadata": {},
   "outputs": [],
   "source": [
    "# print(tokenizer.subwords)"
   ]
  },
  {
   "cell_type": "code",
   "execution_count": 36,
   "metadata": {},
   "outputs": [
    {
     "name": "stdout",
     "output_type": "stream",
     "text": [
      "Tokenized string is [6307, 2327, 4043, 2120, 2, 48, 4249, 4429, 7, 2652, 8050]\n",
      "The original string: TensorFlow, from basics to mastery\n"
     ]
    }
   ],
   "source": [
    "sample_string = 'TensorFlow, from basics to mastery'\n",
    "\n",
    "tokenized_string = tokenizer.encode(sample_string)\n",
    "print ('Tokenized string is {}'.format(tokenized_string))\n",
    "\n",
    "original_string = tokenizer.decode(tokenized_string)\n",
    "print ('The original string: {}'.format(original_string))"
   ]
  },
  {
   "cell_type": "code",
   "execution_count": 37,
   "metadata": {},
   "outputs": [
    {
     "name": "stdout",
     "output_type": "stream",
     "text": [
      "6307 ----> Ten\n",
      "2327 ----> sor\n",
      "4043 ----> Fl\n",
      "2120 ----> ow\n",
      "2 ----> , \n",
      "48 ----> from \n",
      "4249 ----> basi\n",
      "4429 ----> cs \n",
      "7 ----> to \n",
      "2652 ----> master\n",
      "8050 ----> y\n"
     ]
    }
   ],
   "source": [
    "for ts in tokenized_string:\n",
    "  print ('{} ----> {}'.format(ts, tokenizer.decode([ts])))"
   ]
  },
  {
   "cell_type": "code",
   "execution_count": 38,
   "metadata": {},
   "outputs": [],
   "source": [
    "BUFFER_SIZE = 10000\n",
    "BATCH_SIZE = 64\n",
    "\n",
    "train_dataset = train_data.shuffle(BUFFER_SIZE)\n",
    "train_dataset = train_dataset.padded_batch(BATCH_SIZE, tf.compat.v1.data.get_output_shapes(train_dataset))\n",
    "test_dataset = test_data.padded_batch(BATCH_SIZE, tf.compat.v1.data.get_output_shapes(test_data))"
   ]
  },
  {
   "cell_type": "code",
   "execution_count": 39,
   "metadata": {},
   "outputs": [
    {
     "name": "stdout",
     "output_type": "stream",
     "text": [
      "Model: \"sequential_2\"\n",
      "_________________________________________________________________\n",
      "Layer (type)                 Output Shape              Param #   \n",
      "=================================================================\n",
      "embedding_2 (Embedding)      (None, None, 64)          523840    \n",
      "_________________________________________________________________\n",
      "global_average_pooling1d_1 ( (None, 64)                0         \n",
      "_________________________________________________________________\n",
      "dense_4 (Dense)              (None, 6)                 390       \n",
      "_________________________________________________________________\n",
      "dense_5 (Dense)              (None, 1)                 7         \n",
      "=================================================================\n",
      "Total params: 524,237\n",
      "Trainable params: 524,237\n",
      "Non-trainable params: 0\n",
      "_________________________________________________________________\n"
     ]
    }
   ],
   "source": [
    "embedding_dim = 64\n",
    "model = tf.keras.Sequential([\n",
    "    tf.keras.layers.Embedding(tokenizer.vocab_size, embedding_dim),\n",
    "    tf.keras.layers.GlobalAveragePooling1D(),\n",
    "    tf.keras.layers.Dense(6, activation='relu'),\n",
    "    tf.keras.layers.Dense(1, activation='sigmoid')\n",
    "])\n",
    "\n",
    "model.summary()"
   ]
  },
  {
   "cell_type": "code",
   "execution_count": 40,
   "metadata": {},
   "outputs": [
    {
     "name": "stdout",
     "output_type": "stream",
     "text": [
      "Epoch 1/10\n",
      "391/391 [==============================] - 23s 60ms/step - loss: 0.6754 - accuracy: 0.5976 - val_loss: 0.6357 - val_accuracy: 0.6360\n",
      "Epoch 2/10\n",
      "391/391 [==============================] - 24s 61ms/step - loss: 0.5568 - accuracy: 0.7904 - val_loss: 0.4970 - val_accuracy: 0.8488\n",
      "Epoch 3/10\n",
      "391/391 [==============================] - 21s 55ms/step - loss: 0.4311 - accuracy: 0.8688 - val_loss: 0.4211 - val_accuracy: 0.8431\n",
      "Epoch 4/10\n",
      "391/391 [==============================] - 20s 52ms/step - loss: 0.3522 - accuracy: 0.8998 - val_loss: 0.3669 - val_accuracy: 0.8731\n",
      "Epoch 5/10\n",
      "391/391 [==============================] - 21s 55ms/step - loss: 0.3018 - accuracy: 0.9122 - val_loss: 0.3422 - val_accuracy: 0.8778\n",
      "Epoch 6/10\n",
      "391/391 [==============================] - 22s 57ms/step - loss: 0.2660 - accuracy: 0.9201 - val_loss: 0.3259 - val_accuracy: 0.8797\n",
      "Epoch 7/10\n",
      "391/391 [==============================] - 23s 58ms/step - loss: 0.2374 - accuracy: 0.9281 - val_loss: 0.3321 - val_accuracy: 0.8716\n",
      "Epoch 8/10\n",
      "391/391 [==============================] - 25s 63ms/step - loss: 0.2151 - accuracy: 0.9350 - val_loss: 0.3167 - val_accuracy: 0.8798\n",
      "Epoch 9/10\n",
      "391/391 [==============================] - 28s 71ms/step - loss: 0.1969 - accuracy: 0.9399 - val_loss: 0.3223 - val_accuracy: 0.8785\n",
      "Epoch 10/10\n",
      "391/391 [==============================] - 27s 70ms/step - loss: 0.1815 - accuracy: 0.9459 - val_loss: 0.3487 - val_accuracy: 0.8718\n"
     ]
    }
   ],
   "source": [
    "num_epochs = 10\n",
    "\n",
    "model.compile(loss='binary_crossentropy',optimizer='adam',metrics=['accuracy'])\n",
    "\n",
    "history = model.fit(train_dataset, epochs=num_epochs, validation_data=test_dataset)"
   ]
  },
  {
   "cell_type": "code",
   "execution_count": 41,
   "metadata": {},
   "outputs": [
    {
     "data": {
      "image/png": "[encoded data removed]",
      "text/plain": [
       "<Figure size 432x288 with 1 Axes>"
      ]
     },
     "metadata": {
      "needs_background": "light"
     },
     "output_type": "display_data"
    },
    {
     "data": {
      "image/png": "[encoded data removed]",
      "text/plain": [
       "<Figure size 432x288 with 1 Axes>"
      ]
     },
     "metadata": {
      "needs_background": "light"
     },
     "output_type": "display_data"
    }
   ],
   "source": [
    "import matplotlib.pyplot as plt\n",
    "\n",
    "\n",
    "def plot_graphs(history, string):\n",
    "  plt.plot(history.history[string])\n",
    "  plt.plot(history.history['val_'+string])\n",
    "  plt.xlabel(\"Epochs\")\n",
    "  plt.ylabel(string)\n",
    "  plt.legend([string, 'val_'+string])\n",
    "  plt.show()\n",
    "  \n",
    "plot_graphs(history, \"accuracy\")\n",
    "plot_graphs(history, \"loss\")"
   ]
  },
  {
   "cell_type": "code",
   "execution_count": 42,
   "metadata": {},
   "outputs": [
    {
     "name": "stdout",
     "output_type": "stream",
     "text": [
      "(8185, 64)\n"
     ]
    }
   ],
   "source": [
    "e = model.layers[0]\n",
    "weights = e.get_weights()[0]\n",
    "print(weights.shape) # shape: (vocab_size, embedding_dim)\n",
    "\n",
    "import io\n",
    "\n",
    "out_v = io.open('vecs.tsv', 'w', encoding='utf-8')\n",
    "out_m = io.open('meta.tsv', 'w', encoding='utf-8')\n",
    "for word_num in range(1, tokenizer.vocab_size):\n",
    "  word = tokenizer.decode([word_num])\n",
    "  embeddings = weights[word_num]\n",
    "  out_m.write(word + \"\\n\")\n",
    "  out_v.write('\\t'.join([str(x) for x in embeddings]) + \"\\n\")\n",
    "out_v.close()\n",
    "out_m.close()\n"
   ]
  },
  {
   "cell_type": "markdown",
   "metadata": {},
   "source": [
    "## **Sequence Model**"
   ]
  },
  {
   "cell_type": "markdown",
   "metadata": {},
   "source": [
    "week 3 - lab 1 & 2"
   ]
  },
  {
   "cell_type": "markdown",
   "metadata": {},
   "source": [
    "#### **Single layer LSTM**"
   ]
  },
  {
   "cell_type": "code",
   "execution_count": 1,
   "metadata": {},
   "outputs": [],
   "source": [
    "from __future__ import absolute_import, division, print_function, unicode_literals\n",
    "import tensorflow_datasets as tfds"
   ]
  },
  {
   "cell_type": "code",
   "execution_count": 3,
   "metadata": {},
   "outputs": [
    {
     "name": "stderr",
     "output_type": "stream",
     "text": [
      "WARNING:absl:TFDS datasets with text encoding are deprecated and will be removed in a future version. Instead, you should use the plain text version and tokenize the text using `tensorflow_text` (See: https://www.tensorflow.org/tutorials/tensorflow_text/intro#tfdata_example)\n"
     ]
    }
   ],
   "source": [
    "# Get the data\n",
    "dataset, info = tfds.load('imdb_reviews/subwords8k', with_info=True, as_supervised=True)\n",
    "train_dataset, test_dataset = dataset['train'], dataset['test']"
   ]
  },
  {
   "cell_type": "code",
   "execution_count": 4,
   "metadata": {},
   "outputs": [],
   "source": [
    "tokenizer = info.features['text'].encoder"
   ]
  },
  {
   "cell_type": "code",
   "execution_count": 8,
   "metadata": {},
   "outputs": [],
   "source": [
    "BUFFER_SIZE = 10000\n",
    "BATCH_SIZE = 64\n",
    "\n",
    "train_dataset = train_dataset.shuffle(BUFFER_SIZE)\n",
    "train_dataset = train_dataset.padded_batch(BATCH_SIZE, tf.compat.v1.data.get_output_shapes(train_dataset))\n",
    "test_dataset = test_dataset.padded_batch(BATCH_SIZE, tf.compat.v1.data.get_output_shapes(test_dataset))"
   ]
  },
  {
   "cell_type": "code",
   "execution_count": 9,
   "metadata": {},
   "outputs": [],
   "source": [
    "model = tf.keras.Sequential([\n",
    "    tf.keras.layers.Embedding(tokenizer.vocab_size, 64),\n",
    "    tf.keras.layers.Bidirectional(tf.keras.layers.LSTM(64)),\n",
    "    tf.keras.layers.Dense(64, activation='relu'),\n",
    "    tf.keras.layers.Dense(1, activation='sigmoid')\n",
    "])"
   ]
  },
  {
   "cell_type": "code",
   "execution_count": 10,
   "metadata": {},
   "outputs": [
    {
     "name": "stdout",
     "output_type": "stream",
     "text": [
      "Model: \"sequential\"\n",
      "_________________________________________________________________\n",
      "Layer (type)                 Output Shape              Param #   \n",
      "=================================================================\n",
      "embedding (Embedding)        (None, None, 64)          523840    \n",
      "_________________________________________________________________\n",
      "bidirectional (Bidirectional (None, 128)               66048     \n",
      "_________________________________________________________________\n",
      "dense (Dense)                (None, 64)                8256      \n",
      "_________________________________________________________________\n",
      "dense_1 (Dense)              (None, 1)                 65        \n",
      "=================================================================\n",
      "Total params: 598,209\n",
      "Trainable params: 598,209\n",
      "Non-trainable params: 0\n",
      "_________________________________________________________________\n"
     ]
    }
   ],
   "source": [
    "model.summary()\n"
   ]
  },
  {
   "cell_type": "code",
   "execution_count": 11,
   "metadata": {},
   "outputs": [],
   "source": [
    "model.compile(loss='binary_crossentropy', optimizer='adam', metrics=['accuracy'])"
   ]
  },
  {
   "cell_type": "code",
   "execution_count": 13,
   "metadata": {},
   "outputs": [],
   "source": [
    "NUM_EPOCHS = 10\n",
    "history = model.fit(train_dataset, epochs=NUM_EPOCHS, validation_data=test_dataset)"
   ]
  },
  {
   "cell_type": "code",
   "execution_count": null,
   "metadata": {},
   "outputs": [],
   "source": [
    "import matplotlib.pyplot as plt\n",
    "\n",
    "\n",
    "def plot_graphs(history, string):\n",
    "  plt.plot(history.history[string])\n",
    "  plt.plot(history.history['val_'+string])\n",
    "  plt.xlabel(\"Epochs\")\n",
    "  plt.ylabel(string)\n",
    "  plt.legend([string, 'val_'+string])\n",
    "  plt.show()"
   ]
  },
  {
   "cell_type": "code",
   "execution_count": null,
   "metadata": {},
   "outputs": [],
   "source": [
    "plot_graphs(history, 'accuracy')"
   ]
  },
  {
   "cell_type": "code",
   "execution_count": null,
   "metadata": {},
   "outputs": [],
   "source": [
    "plot_graphs(history, 'loss')"
   ]
  },
  {
   "cell_type": "markdown",
   "metadata": {},
   "source": [
    "#### **Multiple Layer LSTM**\n"
   ]
  },
  {
   "cell_type": "code",
   "execution_count": null,
   "metadata": {},
   "outputs": [],
   "source": [
    "tokenizer = info.features['text'].encoder"
   ]
  },
  {
   "cell_type": "code",
   "execution_count": null,
   "metadata": {},
   "outputs": [],
   "source": [
    "BUFFER_SIZE = 10000\n",
    "BATCH_SIZE = 64\n",
    "\n",
    "train_dataset = train_dataset.shuffle(BUFFER_SIZE)\n",
    "train_dataset = train_dataset.padded_batch(BATCH_SIZE, tf.compat.v1.data.get_output_shapes(train_dataset))\n",
    "test_dataset = test_dataset.padded_batch(BATCH_SIZE, tf.compat.v1.data.get_output_shapes(test_dataset))"
   ]
  },
  {
   "cell_type": "code",
   "execution_count": null,
   "metadata": {},
   "outputs": [],
   "source": [
    "model = tf.keras.Sequential([\n",
    "    tf.keras.layers.Embedding(tokenizer.vocab_size, 64),\n",
    "    tf.keras.layers.Bidirectional(tf.keras.layers.LSTM(64, return_sequences=True)),\n",
    "    tf.keras.layers.Bidirectional(tf.keras.layers.LSTM(32)),\n",
    "    tf.keras.layers.Dense(64, activation='relu'),\n",
    "    tf.keras.layers.Dense(1, activation='sigmoid')\n",
    "])"
   ]
  },
  {
   "cell_type": "code",
   "execution_count": null,
   "metadata": {},
   "outputs": [],
   "source": [
    "model.summary()\n"
   ]
  },
  {
   "cell_type": "code",
   "execution_count": null,
   "metadata": {},
   "outputs": [],
   "source": [
    "model.compile(loss='binary_crossentropy', optimizer='adam', metrics=['accuracy'])\n"
   ]
  },
  {
   "cell_type": "code",
   "execution_count": null,
   "metadata": {},
   "outputs": [],
   "source": [
    "NUM_EPOCHS = 10\n",
    "history = model.fit(train_dataset, epochs=NUM_EPOCHS, validation_data=test_dataset)"
   ]
  },
  {
   "cell_type": "code",
   "execution_count": null,
   "metadata": {},
   "outputs": [],
   "source": [
    "import matplotlib.pyplot as plt\n",
    "\n",
    "\n",
    "def plot_graphs(history, string):\n",
    "  plt.plot(history.history[string])\n",
    "  plt.plot(history.history['val_'+string])\n",
    "  plt.xlabel(\"Epochs\")\n",
    "  plt.ylabel(string)\n",
    "  plt.legend([string, 'val_'+string])\n",
    "  plt.show()"
   ]
  },
  {
   "cell_type": "code",
   "execution_count": null,
   "metadata": {},
   "outputs": [],
   "source": [
    "plot_graphs(history, 'accuracy')"
   ]
  },
  {
   "cell_type": "code",
   "execution_count": null,
   "metadata": {},
   "outputs": [],
   "source": [
    "plot_graphs(history, 'loss')"
   ]
  },
  {
   "cell_type": "markdown",
   "metadata": {},
   "source": [
    "## lab 3 "
   ]
  },
  {
   "cell_type": "code",
   "execution_count": null,
   "metadata": {},
   "outputs": [],
   "source": [
    "tokenizer = info.features['text'].encoder"
   ]
  },
  {
   "cell_type": "code",
   "execution_count": null,
   "metadata": {},
   "outputs": [],
   "source": [
    "BUFFER_SIZE = 10000\n",
    "BATCH_SIZE = 64\n",
    "\n",
    "train_dataset = train_dataset.shuffle(BUFFER_SIZE)\n",
    "train_dataset = train_dataset.padded_batch(BATCH_SIZE, tf.compat.v1.data.get_output_shapes(train_dataset))\n",
    "test_dataset = test_dataset.padded_batch(BATCH_SIZE, tf.compat.v1.data.get_output_shapes(test_dataset))"
   ]
  },
  {
   "cell_type": "code",
   "execution_count": null,
   "metadata": {},
   "outputs": [],
   "source": [
    "model = tf.keras.Sequential([\n",
    "    tf.keras.layers.Embedding(tokenizer.vocab_size, 64),\n",
    "    tf.keras.layers.Conv1D(128, 5, activation='relu'),\n",
    "    tf.keras.layers.GlobalAveragePooling1D(),\n",
    "    tf.keras.layers.Dense(64, activation='relu'),\n",
    "    tf.keras.layers.Dense(1, activation='sigmoid')\n",
    "])"
   ]
  },
  {
   "cell_type": "code",
   "execution_count": null,
   "metadata": {},
   "outputs": [],
   "source": [
    "model.summary()"
   ]
  },
  {
   "cell_type": "code",
   "execution_count": null,
   "metadata": {},
   "outputs": [],
   "source": [
    "model.compile(loss='binary_crossentropy', optimizer='adam', metrics=['accuracy'])"
   ]
  },
  {
   "cell_type": "code",
   "execution_count": null,
   "metadata": {},
   "outputs": [],
   "source": [
    "NUM_EPOCHS = 10\n",
    "history = model.fit(train_dataset, epochs=NUM_EPOCHS, validation_data=test_dataset)"
   ]
  },
  {
   "cell_type": "code",
   "execution_count": null,
   "metadata": {},
   "outputs": [],
   "source": [
    "import matplotlib.pyplot as plt\n",
    "\n",
    "\n",
    "def plot_graphs(history, string):\n",
    "  plt.plot(history.history[string])\n",
    "  plt.plot(history.history['val_'+string])\n",
    "  plt.xlabel(\"Epochs\")\n",
    "  plt.ylabel(string)\n",
    "  plt.legend([string, 'val_'+string])\n",
    "  plt.show()"
   ]
  },
  {
   "cell_type": "code",
   "execution_count": null,
   "metadata": {},
   "outputs": [],
   "source": [
    "plot_graphs(history, 'accuracy')\n",
    "plot_graphs(history, 'loss')"
   ]
  },
  {
   "cell_type": "markdown",
   "metadata": {},
   "source": [
    "## lab 4"
   ]
  },
  {
   "cell_type": "markdown",
   "metadata": {},
   "source": [
    "import numpy as np\n",
    "\n",
    "train_data, test_data = imdb['train'], imdb['test']\n",
    "\n",
    "training_sentences = []\n",
    "training_labels = []\n",
    "\n",
    "testing_sentences = []\n",
    "testing_labels = []\n",
    "\n",
    "# str(s.tonumpy()) is needed in Python3 instead of just s.numpy()\n",
    "for s,l in train_data:\n",
    "  training_sentences.append(str(s.numpy()))\n",
    "  training_labels.append(l.numpy())\n",
    "  \n",
    "for s,l in test_data:\n",
    "  testing_sentences.append(str(s.numpy()))\n",
    "  testing_labels.append(l.numpy())\n",
    "  \n",
    "training_labels_final = np.array(training_labels)\n",
    "testing_labels_final = np.array(testing_labels)"
   ]
  },
  {
   "cell_type": "code",
   "execution_count": null,
   "metadata": {},
   "outputs": [],
   "source": [
    "vocab_size = 10000\n",
    "embedding_dim = 16\n",
    "max_length = 120\n",
    "trunc_type='post'\n",
    "oov_tok = \"<OOV>\"\n",
    "\n",
    "\n",
    "from tensorflow.keras.preprocessing.text import Tokenizer\n",
    "from tensorflow.keras.preprocessing.sequence import pad_sequences\n",
    "\n",
    "tokenizer = Tokenizer(num_words = vocab_size, oov_token=oov_tok)\n",
    "tokenizer.fit_on_texts(training_sentences)\n",
    "word_index = tokenizer.word_index\n",
    "sequences = tokenizer.texts_to_sequences(training_sentences)\n",
    "padded = pad_sequences(sequences,maxlen=max_length, truncating=trunc_type)\n",
    "\n",
    "testing_sequences = tokenizer.texts_to_sequences(testing_sentences)\n",
    "testing_padded = pad_sequences(testing_sequences,maxlen=max_length)"
   ]
  },
  {
   "cell_type": "code",
   "execution_count": null,
   "metadata": {},
   "outputs": [],
   "source": [
    "reverse_word_index = dict([(value, key) for (key, value) in word_index.items()])\n",
    "\n",
    "def decode_review(text):\n",
    "    return ' '.join([reverse_word_index.get(i, '?') for i in text])\n",
    "\n",
    "print(decode_review(padded[1]))\n",
    "print(training_sentences[1])"
   ]
  },
  {
   "cell_type": "code",
   "execution_count": null,
   "metadata": {},
   "outputs": [],
   "source": [
    "model = tf.keras.Sequential([\n",
    "    tf.keras.layers.Embedding(vocab_size, embedding_dim, input_length=max_length),\n",
    "    tf.keras.layers.Bidirectional(tf.keras.layers.GRU(32)),\n",
    "    tf.keras.layers.Dense(6, activation='relu'),\n",
    "    tf.keras.layers.Dense(1, activation='sigmoid')\n",
    "])\n",
    "model.compile(loss='binary_crossentropy',optimizer='adam',metrics=['accuracy'])\n",
    "model.summary()"
   ]
  },
  {
   "cell_type": "code",
   "execution_count": null,
   "metadata": {},
   "outputs": [],
   "source": [
    "num_epochs = 50\n",
    "history = model.fit(padded, training_labels_final, epochs=num_epochs, validation_data=(testing_padded, testing_labels_final))"
   ]
  },
  {
   "cell_type": "code",
   "execution_count": null,
   "metadata": {},
   "outputs": [],
   "source": [
    "import matplotlib.pyplot as plt\n",
    "\n",
    "\n",
    "def plot_graphs(history, string):\n",
    "  plt.plot(history.history[string])\n",
    "  plt.plot(history.history['val_'+string])\n",
    "  plt.xlabel(\"Epochs\")\n",
    "  plt.ylabel(string)\n",
    "  plt.legend([string, 'val_'+string])\n",
    "  plt.show()\n",
    "\n",
    "plot_graphs(history, 'accuracy')\n",
    "plot_graphs(history, 'loss')"
   ]
  },
  {
   "cell_type": "code",
   "execution_count": null,
   "metadata": {},
   "outputs": [],
   "source": [
    "# Model Definition with LSTM\n",
    "model = tf.keras.Sequential([\n",
    "    tf.keras.layers.Embedding(vocab_size, embedding_dim, input_length=max_length),\n",
    "    tf.keras.layers.Bidirectional(tf.keras.layers.LSTM(32)),\n",
    "    tf.keras.layers.Dense(6, activation='relu'),\n",
    "    tf.keras.layers.Dense(1, activation='sigmoid')\n",
    "])\n",
    "model.compile(loss='binary_crossentropy',optimizer='adam',metrics=['accuracy'])\n",
    "model.summary()"
   ]
  },
  {
   "cell_type": "code",
   "execution_count": null,
   "metadata": {},
   "outputs": [],
   "source": [
    "# Model Definition with Conv1D\n",
    "model = tf.keras.Sequential([\n",
    "    tf.keras.layers.Embedding(vocab_size, embedding_dim, input_length=max_length),\n",
    "    tf.keras.layers.Conv1D(128, 5, activation='relu'),\n",
    "    tf.keras.layers.GlobalAveragePooling1D(),\n",
    "    tf.keras.layers.Dense(6, activation='relu'),\n",
    "    tf.keras.layers.Dense(1, activation='sigmoid')\n",
    "])\n",
    "model.compile(loss='binary_crossentropy',optimizer='adam',metrics=['accuracy'])\n",
    "model.summary()"
   ]
  },
  {
   "cell_type": "markdown",
   "metadata": {},
   "source": [
    "## Lab 5 & 6"
   ]
  },
  {
   "cell_type": "code",
   "execution_count": null,
   "metadata": {},
   "outputs": [],
   "source": [
    "import numpy as np\n",
    "\n",
    "import json\n",
    "import tensorflow as tf\n",
    "\n",
    "from tensorflow.keras.preprocessing.text import Tokenizer\n",
    "from tensorflow.keras.preprocessing.sequence import pad_sequences\n",
    "\n",
    "vocab_size = 1000\n",
    "embedding_dim = 16\n",
    "max_length = 120\n",
    "trunc_type='post'\n",
    "padding_type='post'\n",
    "oov_tok = \"<OOV>\"\n",
    "training_size = 20000\n",
    "\n",
    "\n",
    "with open(\"sarcasm.json\", 'r') as f:\n",
    "    datastore = json.load(f)\n",
    "\n",
    "\n",
    "sentences = []\n",
    "labels = []\n",
    "urls = []\n",
    "for item in datastore:\n",
    "    sentences.append(item['headline'])\n",
    "    labels.append(item['is_sarcastic'])\n",
    "\n",
    "training_sentences = sentences[0:training_size]\n",
    "testing_sentences = sentences[training_size:]\n",
    "training_labels = labels[0:training_size]\n",
    "testing_labels = labels[training_size:]\n",
    "\n",
    "tokenizer = Tokenizer(num_words=vocab_size, oov_token=oov_tok)\n",
    "tokenizer.fit_on_texts(training_sentences)\n",
    "\n",
    "word_index = tokenizer.word_index\n",
    "\n",
    "training_sequences = tokenizer.texts_to_sequences(training_sentences)\n",
    "training_padded = pad_sequences(training_sequences, maxlen=max_length, padding=padding_type, truncating=trunc_type)\n",
    "\n",
    "testing_sequences = tokenizer.texts_to_sequences(testing_sentences)\n",
    "testing_padded = pad_sequences(testing_sequences, maxlen=max_length, padding=padding_type, truncating=trunc_type)\n",
    "\n",
    "model = tf.keras.Sequential([\n",
    "    tf.keras.layers.Embedding(vocab_size, embedding_dim, input_length=max_length),\n",
    "    tf.keras.layers.Bidirectional(tf.keras.layers.LSTM(32)),\n",
    "    tf.keras.layers.Dense(24, activation='relu'),\n",
    "    tf.keras.layers.Dense(1, activation='sigmoid')\n",
    "])\n",
    "model.compile(loss='binary_crossentropy',optimizer='adam',metrics=['accuracy'])\n",
    "model.summary()\n",
    "\n",
    "num_epochs = 50\n",
    "training_padded = np.array(training_padded)\n",
    "training_labels = np.array(training_labels)\n",
    "testing_padded = np.array(testing_padded)\n",
    "testing_labels = np.array(testing_labels)\n",
    "history = model.fit(training_padded, training_labels, epochs=num_epochs, validation_data=(testing_padded, testing_labels), verbose=1)"
   ]
  },
  {
   "cell_type": "code",
   "execution_count": null,
   "metadata": {},
   "outputs": [],
   "source": [
    "import matplotlib.pyplot as plt\n",
    "\n",
    "\n",
    "def plot_graphs(history, string):\n",
    "  plt.plot(history.history[string])\n",
    "  plt.plot(history.history['val_'+string])\n",
    "  plt.xlabel(\"Epochs\")\n",
    "  plt.ylabel(string)\n",
    "  plt.legend([string, 'val_'+string])\n",
    "  plt.show()\n",
    "\n",
    "plot_graphs(history, 'accuracy')\n",
    "plot_graphs(history, 'loss')"
   ]
  },
  {
   "cell_type": "code",
   "execution_count": null,
   "metadata": {},
   "outputs": [],
   "source": [
    "model.save(\"test.h5\")"
   ]
  },
  {
   "cell_type": "code",
   "execution_count": null,
   "metadata": {},
   "outputs": [],
   "source": [
    "##################################################################################################################################"
   ]
  },
  {
   "cell_type": "code",
   "execution_count": null,
   "metadata": {},
   "outputs": [],
   "source": [
    "import numpy as np\n",
    "\n",
    "import json\n",
    "import tensorflow as tf\n",
    "\n",
    "from tensorflow.keras.preprocessing.text import Tokenizer\n",
    "from tensorflow.keras.preprocessing.sequence import pad_sequences\n",
    "\n",
    "\n",
    "vocab_size = 1000\n",
    "embedding_dim = 16\n",
    "max_length = 120\n",
    "trunc_type='post'\n",
    "padding_type='post'\n",
    "oov_tok = \"<OOV>\"\n",
    "training_size = 20000\n",
    "\n",
    "\n",
    "with open(\"./sarcasm.json\", 'r') as f:\n",
    "    datastore = json.load(f)\n",
    "\n",
    "\n",
    "sentences = []\n",
    "labels = []\n",
    "urls = []\n",
    "for item in datastore:\n",
    "    sentences.append(item['headline'])\n",
    "    labels.append(item['is_sarcastic'])\n",
    "\n",
    "training_sentences = sentences[0:training_size]\n",
    "testing_sentences = sentences[training_size:]\n",
    "training_labels = labels[0:training_size]\n",
    "testing_labels = labels[training_size:]\n",
    "\n",
    "tokenizer = Tokenizer(num_words=vocab_size, oov_token=oov_tok)\n",
    "tokenizer.fit_on_texts(training_sentences)\n",
    "\n",
    "word_index = tokenizer.word_index\n",
    "\n",
    "training_sequences = tokenizer.texts_to_sequences(training_sentences)\n",
    "training_padded = pad_sequences(training_sequences, maxlen=max_length, padding=padding_type, truncating=trunc_type)\n",
    "\n",
    "testing_sequences = tokenizer.texts_to_sequences(testing_sentences)\n",
    "testing_padded = pad_sequences(testing_sequences, maxlen=max_length, padding=padding_type, truncating=trunc_type)\n",
    "\n",
    "model = tf.keras.Sequential([\n",
    "    tf.keras.layers.Embedding(vocab_size, embedding_dim, input_length=max_length),\n",
    "    tf.keras.layers.Conv1D(128, 5, activation='relu'),\n",
    "    tf.keras.layers.GlobalMaxPooling1D(),\n",
    "    tf.keras.layers.Dense(24, activation='relu'),\n",
    "    tf.keras.layers.Dense(1, activation='sigmoid')\n",
    "])\n",
    "model.compile(loss='binary_crossentropy',optimizer='adam',metrics=['accuracy'])\n",
    "model.summary()\n",
    "\n",
    "num_epochs = 50\n",
    "\n",
    "training_padded = np.array(training_padded)\n",
    "training_labels = np.array(training_labels)\n",
    "testing_padded = np.array(testing_padded)\n",
    "testing_labels = np.array(testing_labels)\n",
    "history = model.fit(training_padded, training_labels, epochs=num_epochs, validation_data=(testing_padded, testing_labels), verbose=1)\n"
   ]
  },
  {
   "cell_type": "code",
   "execution_count": null,
   "metadata": {},
   "outputs": [],
   "source": [
    "import matplotlib.pyplot as plt\n",
    "\n",
    "\n",
    "def plot_graphs(history, string):\n",
    "  plt.plot(history.history[string])\n",
    "  plt.plot(history.history['val_'+string])\n",
    "  plt.xlabel(\"Epochs\")\n",
    "  plt.ylabel(string)\n",
    "  plt.legend([string, 'val_'+string])\n",
    "  plt.show()\n",
    "\n",
    "plot_graphs(history, 'accuracy')\n",
    "plot_graphs(history, 'loss')\n",
    "model.save(\"test.h5\")"
   ]
  },
  {
   "cell_type": "markdown",
   "metadata": {},
   "source": [
    "## **Sequence model and prediction**"
   ]
  },
  {
   "cell_type": "markdown",
   "metadata": {},
   "source": [
    "Week 4 - lab 1"
   ]
  },
  {
   "cell_type": "code",
   "execution_count": 15,
   "metadata": {},
   "outputs": [],
   "source": [
    "import tensorflow as tf\n",
    "\n",
    "from tensorflow.keras.preprocessing.sequence import pad_sequences\n",
    "from tensorflow.keras.layers import Embedding, LSTM, Dense, Bidirectional\n",
    "from tensorflow.keras.preprocessing.text import Tokenizer\n",
    "from tensorflow.keras.models import Sequential\n",
    "from tensorflow.keras.optimizers import Adam\n",
    "import numpy as np "
   ]
  },
  {
   "cell_type": "code",
   "execution_count": 16,
   "metadata": {},
   "outputs": [
    {
     "name": "stdout",
     "output_type": "stream",
     "text": [
      "{'and': 1, 'the': 2, 'a': 3, 'in': 4, 'all': 5, 'i': 6, 'for': 7, 'of': 8, 'lanigans': 9, 'ball': 10, 'were': 11, 'at': 12, 'to': 13, 'she': 14, 'stepped': 15, 'his': 16, 'girls': 17, 'as': 18, 'they': 19, 'til': 20, 'he': 21, 'again': 22, 'got': 23, 'boys': 24, 'round': 25, 'that': 26, 'her': 27, 'there': 28, 'three': 29, 'weeks': 30, 'up': 31, 'out': 32, 'him': 33, 'was': 34, 'spent': 35, 'learning': 36, 'new': 37, 'steps': 38, 'long': 39, 'away': 40, 'left': 41, 'friends': 42, 'relations': 43, 'when': 44, 'wall': 45, 'myself': 46, 'nice': 47, 'just': 48, 'dancing': 49, 'merry': 50, 'tipped': 51, 'me': 52, 'soon': 53, 'time': 54, 'old': 55, 'their': 56, 'them': 57, 'danced': 58, 'dublin': 59, 'an': 60, 'put': 61, 'leg': 62, 'miss': 63, 'fainted': 64, 'from': 65, 'town': 66, 'athy': 67, 'one': 68, 'jeremy': 69, 'lanigan': 70, 'battered': 71, 'hadnt': 72, 'pound': 73, 'father': 74, 'died': 75, 'made': 76, 'man': 77, 'farm': 78, 'ten': 79, 'acres': 80, 'ground': 81, 'gave': 82, 'grand': 83, 'party': 84, 'who': 85, 'didnt': 86, 'forget': 87, 'come': 88, 'if': 89, 'youll': 90, 'but': 91, 'listen': 92, 'ill': 93, 'make': 94, 'your': 95, 'eyes': 96, 'glisten': 97, 'rows': 98, 'ructions': 99, 'be': 100, 'sure': 101, 'free': 102, 'invitation': 103, 'might': 104, 'ask': 105, 'minute': 106, 'both': 107, 'bees': 108, 'cask': 109, 'judy': 110, 'odaly': 111, 'little': 112, 'milliner': 113, 'wink': 114, 'give': 115, 'call': 116, 'arrived': 117, 'with': 118, 'peggy': 119, 'mcgilligan': 120, 'lashings': 121, 'punch': 122, 'wine': 123, 'ladies': 124, 'potatoes': 125, 'cakes': 126, 'bacon': 127, 'tea': 128, 'nolans': 129, 'dolans': 130, 'ogradys': 131, 'courting': 132, 'songs': 133, 'went': 134, 'plenty': 135, 'water': 136, 'harp': 137, 'once': 138, 'sounded': 139, 'taras': 140, 'hall': 141, 'sweet': 142, 'nelly': 143, 'gray': 144, 'rat': 145, 'catchers': 146, 'daughter': 147, 'singing': 148, 'together': 149, 'doing': 150, 'kinds': 151, 'nonsensical': 152, 'polkas': 153, 'room': 154, 'whirligig': 155, 'julia': 156, 'we': 157, 'banished': 158, 'nonsense': 159, 'twist': 160, 'reel': 161, 'jig': 162, 'ach': 163, 'mavrone': 164, 'how': 165, 'mad': 166, 'youd': 167, 'think': 168, 'ceiling': 169, 'would': 170, 'fall': 171, 'brooks': 172, 'academy': 173, 'learn': 174, 'nothing': 175, 'hearty': 176, 'around': 177, 'couples': 178, 'groups': 179, 'accident': 180, 'happened': 181, 'young': 182, 'terrance': 183, 'mccarthy': 184, 'right': 185, 'through': 186, 'finnertys': 187, 'hoops': 188, 'poor': 189, 'creature': 190, 'cried': 191, 'meelia': 192, 'murther': 193, 'called': 194, 'brothers': 195, 'gathered': 196, 'carmody': 197, 'swore': 198, 'hed': 199, 'go': 200, 'no': 201, 'further': 202, 'had': 203, 'satisfaction': 204, 'midst': 205, 'row': 206, 'kerrigan': 207, 'cheeks': 208, 'same': 209, 'red': 210, 'rose': 211, 'some': 212, 'lads': 213, 'declared': 214, 'painted': 215, 'took': 216, 'small': 217, 'drop': 218, 'too': 219, 'much': 220, 'suppose': 221, 'sweetheart': 222, 'ned': 223, 'morgan': 224, 'so': 225, 'powerful': 226, 'able': 227, 'saw': 228, 'fair': 229, 'colleen': 230, 'stretched': 231, 'by': 232, 'tore': 233, 'under': 234, 'table': 235, 'smashed': 236, 'chaneys': 237, 'oh': 238, 'twas': 239, 'then': 240, 'runctions': 241, 'lick': 242, 'big': 243, 'phelim': 244, 'mchugh': 245, 'replied': 246, 'introduction': 247, 'kicked': 248, 'terrible': 249, 'hullabaloo': 250, 'casey': 251, 'piper': 252, 'near': 253, 'being': 254, 'strangled': 255, 'squeezed': 256, 'pipes': 257, 'bellows': 258, 'chanters': 259, 'ribbons': 260, 'entangled': 261, 'end': 262}\n",
      "263\n"
     ]
    }
   ],
   "source": [
    "tokenizer = Tokenizer()\n",
    "\n",
    "data=\"In the town of Athy one Jeremy Lanigan \\n Battered away til he hadnt a pound. \\nHis father died and made him a man again \\n Left him a farm and ten acres of ground. \\nHe gave a grand party for friends and relations \\nWho didnt forget him when come to the wall, \\nAnd if youll but listen Ill make your eyes glisten \\nOf the rows and the ructions of Lanigans Ball. \\nMyself to be sure got free invitation, \\nFor all the nice girls and boys I might ask, \\nAnd just in a minute both friends and relations \\nWere dancing round merry as bees round a cask. \\nJudy ODaly, that nice little milliner, \\nShe tipped me a wink for to give her a call, \\nAnd I soon arrived with Peggy McGilligan \\nJust in time for Lanigans Ball. \\nThere were lashings of punch and wine for the ladies, \\nPotatoes and cakes; there was bacon and tea, \\nThere were the Nolans, Dolans, OGradys \\nCourting the girls and dancing away. \\nSongs they went round as plenty as water, \\nThe harp that once sounded in Taras old hall,\\nSweet Nelly Gray and The Rat Catchers Daughter,\\nAll singing together at Lanigans Ball. \\nThey were doing all kinds of nonsensical polkas \\nAll round the room in a whirligig. \\nJulia and I, we banished their nonsense \\nAnd tipped them the twist of a reel and a jig. \\nAch mavrone, how the girls got all mad at me \\nDanced til youd think the ceiling would fall. \\nFor I spent three weeks at Brooks Academy \\nLearning new steps for Lanigans Ball. \\nThree long weeks I spent up in Dublin, \\nThree long weeks to learn nothing at all,\\n Three long weeks I spent up in Dublin, \\nLearning new steps for Lanigans Ball. \\nShe stepped out and I stepped in again, \\nI stepped out and she stepped in again, \\nShe stepped out and I stepped in again, \\nLearning new steps for Lanigans Ball. \\nBoys were all merry and the girls they were hearty \\nAnd danced all around in couples and groups, \\nTil an accident happened, young Terrance McCarthy \\nPut his right leg through miss Finnertys hoops. \\nPoor creature fainted and cried Meelia murther, \\nCalled for her brothers and gathered them all. \\nCarmody swore that hed go no further \\nTil he had satisfaction at Lanigans Ball. \\nIn the midst of the row miss Kerrigan fainted, \\nHer cheeks at the same time as red as a rose. \\nSome of the lads declared she was painted, \\nShe took a small drop too much, I suppose. \\nHer sweetheart, Ned Morgan, so powerful and able, \\nWhen he saw his fair colleen stretched out by the wall, \\nTore the left leg from under the table \\nAnd smashed all the Chaneys at Lanigans Ball. \\nBoys, oh boys, twas then there were runctions. \\nMyself got a lick from big Phelim McHugh. \\nI soon replied to his introduction \\nAnd kicked up a terrible hullabaloo. \\nOld Casey, the piper, was near being strangled. \\nThey squeezed up his pipes, bellows, chanters and all. \\nThe girls, in their ribbons, they got all entangled \\nAnd that put an end to Lanigans Ball.\"\n",
    "\n",
    "corpus = data.lower().split(\"\\n\")\n",
    "\n",
    "tokenizer.fit_on_texts(corpus)\n",
    "total_words = len(tokenizer.word_index) + 1\n",
    "\n",
    "print(tokenizer.word_index)\n",
    "print(total_words)\n"
   ]
  },
  {
   "cell_type": "code",
   "execution_count": 17,
   "metadata": {},
   "outputs": [],
   "source": [
    "input_sequences = []\n",
    "for line in corpus:\n",
    "\ttoken_list = tokenizer.texts_to_sequences([line])[0]\n",
    "\tfor i in range(1, len(token_list)):\n",
    "\t\tn_gram_sequence = token_list[:i+1]\n",
    "\t\tinput_sequences.append(n_gram_sequence)\n",
    "\n",
    "# pad sequences \n",
    "max_sequence_len = max([len(x) for x in input_sequences])\n",
    "input_sequences = np.array(pad_sequences(input_sequences, maxlen=max_sequence_len, padding='pre'))\n",
    "\n",
    "# create predictors and label\n",
    "xs, labels = input_sequences[:,:-1],input_sequences[:,-1]\n",
    "\n",
    "ys = tf.keras.utils.to_categorical(labels, num_classes=total_words)"
   ]
  },
  {
   "cell_type": "code",
   "execution_count": 18,
   "metadata": {},
   "outputs": [
    {
     "name": "stdout",
     "output_type": "stream",
     "text": [
      "4\n",
      "2\n",
      "66\n",
      "8\n",
      "67\n",
      "68\n",
      "69\n",
      "70\n"
     ]
    }
   ],
   "source": [
    "print(tokenizer.word_index['in'])\n",
    "print(tokenizer.word_index['the'])\n",
    "print(tokenizer.word_index['town'])\n",
    "print(tokenizer.word_index['of'])\n",
    "print(tokenizer.word_index['athy'])\n",
    "print(tokenizer.word_index['one'])\n",
    "print(tokenizer.word_index['jeremy'])\n",
    "print(tokenizer.word_index['lanigan'])"
   ]
  },
  {
   "cell_type": "code",
   "execution_count": 19,
   "metadata": {},
   "outputs": [
    {
     "name": "stdout",
     "output_type": "stream",
     "text": [
      "[ 0  0  0  0  4  2 66  8 67 68]\n",
      "[0. 0. 0. 0. 0. 0. 0. 0. 0. 0. 0. 0. 0. 0. 0. 0. 0. 0. 0. 0. 0. 0. 0. 0.\n",
      " 0. 0. 0. 0. 0. 0. 0. 0. 0. 0. 0. 0. 0. 0. 0. 0. 0. 0. 0. 0. 0. 0. 0. 0.\n",
      " 0. 0. 0. 0. 0. 0. 0. 0. 0. 0. 0. 0. 0. 0. 0. 0. 0. 0. 0. 0. 0. 1. 0. 0.\n",
      " 0. 0. 0. 0. 0. 0. 0. 0. 0. 0. 0. 0. 0. 0. 0. 0. 0. 0. 0. 0. 0. 0. 0. 0.\n",
      " 0. 0. 0. 0. 0. 0. 0. 0. 0. 0. 0. 0. 0. 0. 0. 0. 0. 0. 0. 0. 0. 0. 0. 0.\n",
      " 0. 0. 0. 0. 0. 0. 0. 0. 0. 0. 0. 0. 0. 0. 0. 0. 0. 0. 0. 0. 0. 0. 0. 0.\n",
      " 0. 0. 0. 0. 0. 0. 0. 0. 0. 0. 0. 0. 0. 0. 0. 0. 0. 0. 0. 0. 0. 0. 0. 0.\n",
      " 0. 0. 0. 0. 0. 0. 0. 0. 0. 0. 0. 0. 0. 0. 0. 0. 0. 0. 0. 0. 0. 0. 0. 0.\n",
      " 0. 0. 0. 0. 0. 0. 0. 0. 0. 0. 0. 0. 0. 0. 0. 0. 0. 0. 0. 0. 0. 0. 0. 0.\n",
      " 0. 0. 0. 0. 0. 0. 0. 0. 0. 0. 0. 0. 0. 0. 0. 0. 0. 0. 0. 0. 0. 0. 0. 0.\n",
      " 0. 0. 0. 0. 0. 0. 0. 0. 0. 0. 0. 0. 0. 0. 0. 0. 0. 0. 0. 0. 0. 0. 0.]\n",
      "[ 0  0  0  4  2 66  8 67 68 69]\n",
      "[0. 0. 0. 0. 0. 0. 0. 0. 0. 0. 0. 0. 0. 0. 0. 0. 0. 0. 0. 0. 0. 0. 0. 0.\n",
      " 0. 0. 0. 0. 0. 0. 0. 0. 0. 0. 0. 0. 0. 0. 0. 0. 0. 0. 0. 0. 0. 0. 0. 0.\n",
      " 0. 0. 0. 0. 0. 0. 0. 0. 0. 0. 0. 0. 0. 0. 0. 0. 0. 0. 0. 0. 0. 0. 1. 0.\n",
      " 0. 0. 0. 0. 0. 0. 0. 0. 0. 0. 0. 0. 0. 0. 0. 0. 0. 0. 0. 0. 0. 0. 0. 0.\n",
      " 0. 0. 0. 0. 0. 0. 0. 0. 0. 0. 0. 0. 0. 0. 0. 0. 0. 0. 0. 0. 0. 0. 0. 0.\n",
      " 0. 0. 0. 0. 0. 0. 0. 0. 0. 0. 0. 0. 0. 0. 0. 0. 0. 0. 0. 0. 0. 0. 0. 0.\n",
      " 0. 0. 0. 0. 0. 0. 0. 0. 0. 0. 0. 0. 0. 0. 0. 0. 0. 0. 0. 0. 0. 0. 0. 0.\n",
      " 0. 0. 0. 0. 0. 0. 0. 0. 0. 0. 0. 0. 0. 0. 0. 0. 0. 0. 0. 0. 0. 0. 0. 0.\n",
      " 0. 0. 0. 0. 0. 0. 0. 0. 0. 0. 0. 0. 0. 0. 0. 0. 0. 0. 0. 0. 0. 0. 0. 0.\n",
      " 0. 0. 0. 0. 0. 0. 0. 0. 0. 0. 0. 0. 0. 0. 0. 0. 0. 0. 0. 0. 0. 0. 0. 0.\n",
      " 0. 0. 0. 0. 0. 0. 0. 0. 0. 0. 0. 0. 0. 0. 0. 0. 0. 0. 0. 0. 0. 0. 0.]\n"
     ]
    }
   ],
   "source": [
    "print(xs[5])\n",
    "print(ys[5])\n",
    "print(xs[6])\n",
    "print(ys[6])"
   ]
  },
  {
   "cell_type": "code",
   "execution_count": 20,
   "metadata": {},
   "outputs": [
    {
     "name": "stdout",
     "output_type": "stream",
     "text": [
      "{'and': 1, 'the': 2, 'a': 3, 'in': 4, 'all': 5, 'i': 6, 'for': 7, 'of': 8, 'lanigans': 9, 'ball': 10, 'were': 11, 'at': 12, 'to': 13, 'she': 14, 'stepped': 15, 'his': 16, 'girls': 17, 'as': 18, 'they': 19, 'til': 20, 'he': 21, 'again': 22, 'got': 23, 'boys': 24, 'round': 25, 'that': 26, 'her': 27, 'there': 28, 'three': 29, 'weeks': 30, 'up': 31, 'out': 32, 'him': 33, 'was': 34, 'spent': 35, 'learning': 36, 'new': 37, 'steps': 38, 'long': 39, 'away': 40, 'left': 41, 'friends': 42, 'relations': 43, 'when': 44, 'wall': 45, 'myself': 46, 'nice': 47, 'just': 48, 'dancing': 49, 'merry': 50, 'tipped': 51, 'me': 52, 'soon': 53, 'time': 54, 'old': 55, 'their': 56, 'them': 57, 'danced': 58, 'dublin': 59, 'an': 60, 'put': 61, 'leg': 62, 'miss': 63, 'fainted': 64, 'from': 65, 'town': 66, 'athy': 67, 'one': 68, 'jeremy': 69, 'lanigan': 70, 'battered': 71, 'hadnt': 72, 'pound': 73, 'father': 74, 'died': 75, 'made': 76, 'man': 77, 'farm': 78, 'ten': 79, 'acres': 80, 'ground': 81, 'gave': 82, 'grand': 83, 'party': 84, 'who': 85, 'didnt': 86, 'forget': 87, 'come': 88, 'if': 89, 'youll': 90, 'but': 91, 'listen': 92, 'ill': 93, 'make': 94, 'your': 95, 'eyes': 96, 'glisten': 97, 'rows': 98, 'ructions': 99, 'be': 100, 'sure': 101, 'free': 102, 'invitation': 103, 'might': 104, 'ask': 105, 'minute': 106, 'both': 107, 'bees': 108, 'cask': 109, 'judy': 110, 'odaly': 111, 'little': 112, 'milliner': 113, 'wink': 114, 'give': 115, 'call': 116, 'arrived': 117, 'with': 118, 'peggy': 119, 'mcgilligan': 120, 'lashings': 121, 'punch': 122, 'wine': 123, 'ladies': 124, 'potatoes': 125, 'cakes': 126, 'bacon': 127, 'tea': 128, 'nolans': 129, 'dolans': 130, 'ogradys': 131, 'courting': 132, 'songs': 133, 'went': 134, 'plenty': 135, 'water': 136, 'harp': 137, 'once': 138, 'sounded': 139, 'taras': 140, 'hall': 141, 'sweet': 142, 'nelly': 143, 'gray': 144, 'rat': 145, 'catchers': 146, 'daughter': 147, 'singing': 148, 'together': 149, 'doing': 150, 'kinds': 151, 'nonsensical': 152, 'polkas': 153, 'room': 154, 'whirligig': 155, 'julia': 156, 'we': 157, 'banished': 158, 'nonsense': 159, 'twist': 160, 'reel': 161, 'jig': 162, 'ach': 163, 'mavrone': 164, 'how': 165, 'mad': 166, 'youd': 167, 'think': 168, 'ceiling': 169, 'would': 170, 'fall': 171, 'brooks': 172, 'academy': 173, 'learn': 174, 'nothing': 175, 'hearty': 176, 'around': 177, 'couples': 178, 'groups': 179, 'accident': 180, 'happened': 181, 'young': 182, 'terrance': 183, 'mccarthy': 184, 'right': 185, 'through': 186, 'finnertys': 187, 'hoops': 188, 'poor': 189, 'creature': 190, 'cried': 191, 'meelia': 192, 'murther': 193, 'called': 194, 'brothers': 195, 'gathered': 196, 'carmody': 197, 'swore': 198, 'hed': 199, 'go': 200, 'no': 201, 'further': 202, 'had': 203, 'satisfaction': 204, 'midst': 205, 'row': 206, 'kerrigan': 207, 'cheeks': 208, 'same': 209, 'red': 210, 'rose': 211, 'some': 212, 'lads': 213, 'declared': 214, 'painted': 215, 'took': 216, 'small': 217, 'drop': 218, 'too': 219, 'much': 220, 'suppose': 221, 'sweetheart': 222, 'ned': 223, 'morgan': 224, 'so': 225, 'powerful': 226, 'able': 227, 'saw': 228, 'fair': 229, 'colleen': 230, 'stretched': 231, 'by': 232, 'tore': 233, 'under': 234, 'table': 235, 'smashed': 236, 'chaneys': 237, 'oh': 238, 'twas': 239, 'then': 240, 'runctions': 241, 'lick': 242, 'big': 243, 'phelim': 244, 'mchugh': 245, 'replied': 246, 'introduction': 247, 'kicked': 248, 'terrible': 249, 'hullabaloo': 250, 'casey': 251, 'piper': 252, 'near': 253, 'being': 254, 'strangled': 255, 'squeezed': 256, 'pipes': 257, 'bellows': 258, 'chanters': 259, 'ribbons': 260, 'entangled': 261, 'end': 262}\n"
     ]
    }
   ],
   "source": [
    "print(tokenizer.word_index)"
   ]
  },
  {
   "cell_type": "code",
   "execution_count": 21,
   "metadata": {},
   "outputs": [
    {
     "name": "stdout",
     "output_type": "stream",
     "text": [
      "Epoch 1/500\n",
      "15/15 [==============================] - 0s 9ms/step - loss: 5.5688 - accuracy: 0.0155\n",
      "Epoch 2/500\n",
      "15/15 [==============================] - 0s 14ms/step - loss: 5.5452 - accuracy: 0.0552\n",
      "Epoch 3/500\n",
      "15/15 [==============================] - 0s 9ms/step - loss: 5.4903 - accuracy: 0.0552\n",
      "Epoch 4/500\n",
      "15/15 [==============================] - 0s 9ms/step - loss: 5.3280 - accuracy: 0.0464\n",
      "Epoch 5/500\n",
      "15/15 [==============================] - 0s 12ms/step - loss: 5.1366 - accuracy: 0.0486\n",
      "Epoch 6/500\n",
      "15/15 [==============================] - 0s 9ms/step - loss: 5.0782 - accuracy: 0.0331\n",
      "Epoch 7/500\n",
      "15/15 [==============================] - 0s 11ms/step - loss: 5.0402 - accuracy: 0.0508\n",
      "Epoch 8/500\n",
      "15/15 [==============================] - 0s 17ms/step - loss: 5.0124 - accuracy: 0.0508\n",
      "Epoch 9/500\n",
      "15/15 [==============================] - 0s 12ms/step - loss: 4.9863 - accuracy: 0.0486\n",
      "Epoch 10/500\n",
      "15/15 [==============================] - 0s 9ms/step - loss: 4.9573 - accuracy: 0.0596\n",
      "Epoch 11/500\n",
      "15/15 [==============================] - 0s 9ms/step - loss: 4.9205 - accuracy: 0.0552\n",
      "Epoch 12/500\n",
      "15/15 [==============================] - 0s 10ms/step - loss: 4.8834 - accuracy: 0.0574\n",
      "Epoch 13/500\n",
      "15/15 [==============================] - 0s 10ms/step - loss: 4.8483 - accuracy: 0.0530\n",
      "Epoch 14/500\n",
      "15/15 [==============================] - 0s 10ms/step - loss: 4.8007 - accuracy: 0.0508\n",
      "Epoch 15/500\n",
      "15/15 [==============================] - 0s 8ms/step - loss: 4.7564 - accuracy: 0.0640\n",
      "Epoch 16/500\n",
      "15/15 [==============================] - 0s 11ms/step - loss: 4.7074 - accuracy: 0.0751\n",
      "Epoch 17/500\n",
      "15/15 [==============================] - 0s 9ms/step - loss: 4.6615 - accuracy: 0.0662\n",
      "Epoch 18/500\n",
      "15/15 [==============================] - 0s 8ms/step - loss: 4.6164 - accuracy: 0.0817\n",
      "Epoch 19/500\n",
      "15/15 [==============================] - 0s 8ms/step - loss: 4.5840 - accuracy: 0.0795\n",
      "Epoch 20/500\n",
      "15/15 [==============================] - 0s 8ms/step - loss: 4.5419 - accuracy: 0.0883\n",
      "Epoch 21/500\n",
      "15/15 [==============================] - 0s 6ms/step - loss: 4.5026 - accuracy: 0.0883\n",
      "Epoch 22/500\n",
      "15/15 [==============================] - 0s 10ms/step - loss: 4.4618 - accuracy: 0.0949\n",
      "Epoch 23/500\n",
      "15/15 [==============================] - 0s 8ms/step - loss: 4.4269 - accuracy: 0.0927\n",
      "Epoch 24/500\n",
      "15/15 [==============================] - 0s 9ms/step - loss: 4.3841 - accuracy: 0.0993\n",
      "Epoch 25/500\n",
      "15/15 [==============================] - 0s 9ms/step - loss: 4.3389 - accuracy: 0.1015\n",
      "Epoch 26/500\n",
      "15/15 [==============================] - 0s 9ms/step - loss: 4.3018 - accuracy: 0.1038\n",
      "Epoch 27/500\n",
      "15/15 [==============================] - 0s 7ms/step - loss: 4.2551 - accuracy: 0.1082\n",
      "Epoch 28/500\n",
      "15/15 [==============================] - 0s 8ms/step - loss: 4.2117 - accuracy: 0.1148\n",
      "Epoch 29/500\n",
      "15/15 [==============================] - 0s 11ms/step - loss: 4.1719 - accuracy: 0.1148\n",
      "Epoch 30/500\n",
      "15/15 [==============================] - 0s 7ms/step - loss: 4.1152 - accuracy: 0.1302\n",
      "Epoch 31/500\n",
      "15/15 [==============================] - 0s 6ms/step - loss: 4.0708 - accuracy: 0.1347\n",
      "Epoch 32/500\n",
      "15/15 [==============================] - 0s 7ms/step - loss: 4.0241 - accuracy: 0.1413\n",
      "Epoch 33/500\n",
      "15/15 [==============================] - 0s 7ms/step - loss: 3.9690 - accuracy: 0.1634\n",
      "Epoch 34/500\n",
      "15/15 [==============================] - 0s 6ms/step - loss: 3.9238 - accuracy: 0.1634\n",
      "Epoch 35/500\n",
      "15/15 [==============================] - 0s 6ms/step - loss: 3.8679 - accuracy: 0.1744\n",
      "Epoch 36/500\n",
      "15/15 [==============================] - 0s 8ms/step - loss: 3.8327 - accuracy: 0.1832\n",
      "Epoch 37/500\n",
      "15/15 [==============================] - 0s 7ms/step - loss: 3.7847 - accuracy: 0.1943\n",
      "Epoch 38/500\n",
      "15/15 [==============================] - 0s 6ms/step - loss: 3.7349 - accuracy: 0.2185\n",
      "Epoch 39/500\n",
      "15/15 [==============================] - 0s 7ms/step - loss: 3.6871 - accuracy: 0.2119\n",
      "Epoch 40/500\n",
      "15/15 [==============================] - 0s 9ms/step - loss: 3.6451 - accuracy: 0.2296\n",
      "Epoch 41/500\n",
      "15/15 [==============================] - 0s 7ms/step - loss: 3.5970 - accuracy: 0.2406\n",
      "Epoch 42/500\n",
      "15/15 [==============================] - 0s 13ms/step - loss: 3.5501 - accuracy: 0.2472\n",
      "Epoch 43/500\n",
      "15/15 [==============================] - 0s 7ms/step - loss: 3.5085 - accuracy: 0.2781\n",
      "Epoch 44/500\n",
      "15/15 [==============================] - 0s 7ms/step - loss: 3.4750 - accuracy: 0.2804\n",
      "Epoch 45/500\n",
      "15/15 [==============================] - 0s 8ms/step - loss: 3.4636 - accuracy: 0.2693\n",
      "Epoch 46/500\n",
      "15/15 [==============================] - 0s 7ms/step - loss: 3.4307 - accuracy: 0.2826\n",
      "Epoch 47/500\n",
      "15/15 [==============================] - 0s 7ms/step - loss: 3.3732 - accuracy: 0.2980\n",
      "Epoch 48/500\n",
      "15/15 [==============================] - 0s 9ms/step - loss: 3.3142 - accuracy: 0.2958\n",
      "Epoch 49/500\n",
      "15/15 [==============================] - 0s 8ms/step - loss: 3.2776 - accuracy: 0.3223\n",
      "Epoch 50/500\n",
      "15/15 [==============================] - 0s 8ms/step - loss: 3.2611 - accuracy: 0.3179\n",
      "Epoch 51/500\n",
      "15/15 [==============================] - 0s 12ms/step - loss: 3.2236 - accuracy: 0.3289\n",
      "Epoch 52/500\n",
      "15/15 [==============================] - 0s 11ms/step - loss: 3.1738 - accuracy: 0.3400\n",
      "Epoch 53/500\n",
      "15/15 [==============================] - 0s 17ms/step - loss: 3.1285 - accuracy: 0.3753\n",
      "Epoch 54/500\n",
      "15/15 [==============================] - 0s 10ms/step - loss: 3.0882 - accuracy: 0.3753\n",
      "Epoch 55/500\n",
      "15/15 [==============================] - 0s 9ms/step - loss: 3.0488 - accuracy: 0.3731\n",
      "Epoch 56/500\n",
      "15/15 [==============================] - 0s 12ms/step - loss: 3.0081 - accuracy: 0.3819\n",
      "Epoch 57/500\n",
      "15/15 [==============================] - 0s 15ms/step - loss: 2.9841 - accuracy: 0.3929\n",
      "Epoch 58/500\n",
      "15/15 [==============================] - 0s 14ms/step - loss: 2.9535 - accuracy: 0.4040\n",
      "Epoch 59/500\n",
      "15/15 [==============================] - 0s 12ms/step - loss: 2.9176 - accuracy: 0.4238\n",
      "Epoch 60/500\n",
      "15/15 [==============================] - 0s 14ms/step - loss: 2.8707 - accuracy: 0.4238\n",
      "Epoch 61/500\n",
      "15/15 [==============================] - 0s 9ms/step - loss: 2.8345 - accuracy: 0.4371\n",
      "Epoch 62/500\n",
      "15/15 [==============================] - 0s 8ms/step - loss: 2.7960 - accuracy: 0.4415\n",
      "Epoch 63/500\n",
      "15/15 [==============================] - 0s 13ms/step - loss: 2.7687 - accuracy: 0.4547\n",
      "Epoch 64/500\n",
      "15/15 [==============================] - 0s 9ms/step - loss: 2.7388 - accuracy: 0.4658\n",
      "Epoch 65/500\n",
      "15/15 [==============================] - 0s 9ms/step - loss: 2.7147 - accuracy: 0.4636\n",
      "Epoch 66/500\n",
      "15/15 [==============================] - 0s 8ms/step - loss: 2.7096 - accuracy: 0.4614\n",
      "Epoch 67/500\n",
      "15/15 [==============================] - 0s 7ms/step - loss: 2.6675 - accuracy: 0.4879\n",
      "Epoch 68/500\n",
      "15/15 [==============================] - 0s 7ms/step - loss: 2.6332 - accuracy: 0.4967\n",
      "Epoch 69/500\n",
      "15/15 [==============================] - 0s 7ms/step - loss: 2.6052 - accuracy: 0.5077\n",
      "Epoch 70/500\n",
      "15/15 [==============================] - 0s 7ms/step - loss: 2.5692 - accuracy: 0.5143\n",
      "Epoch 71/500\n",
      "15/15 [==============================] - 0s 8ms/step - loss: 2.5326 - accuracy: 0.5188\n",
      "Epoch 72/500\n",
      "15/15 [==============================] - 0s 7ms/step - loss: 2.5054 - accuracy: 0.5143\n",
      "Epoch 73/500\n",
      "15/15 [==============================] - 0s 8ms/step - loss: 2.4789 - accuracy: 0.5342\n",
      "Epoch 74/500\n",
      "15/15 [==============================] - 0s 7ms/step - loss: 2.4545 - accuracy: 0.5342\n",
      "Epoch 75/500\n",
      "15/15 [==============================] - 0s 7ms/step - loss: 2.4377 - accuracy: 0.5342\n",
      "Epoch 76/500\n",
      "15/15 [==============================] - 0s 8ms/step - loss: 2.4134 - accuracy: 0.5342: 0s - loss: 2.3509 - accuracy: 0.\n",
      "Epoch 77/500\n",
      "15/15 [==============================] - 0s 10ms/step - loss: 2.3829 - accuracy: 0.5541\n",
      "Epoch 78/500\n",
      "15/15 [==============================] - 0s 6ms/step - loss: 2.3533 - accuracy: 0.5607\n",
      "Epoch 79/500\n",
      "15/15 [==============================] - 0s 7ms/step - loss: 2.3294 - accuracy: 0.5762\n",
      "Epoch 80/500\n",
      "15/15 [==============================] - 0s 8ms/step - loss: 2.3277 - accuracy: 0.5828\n",
      "Epoch 81/500\n",
      "15/15 [==============================] - 0s 10ms/step - loss: 2.2906 - accuracy: 0.5894\n",
      "Epoch 82/500\n",
      "15/15 [==============================] - 0s 7ms/step - loss: 2.2628 - accuracy: 0.5828\n",
      "Epoch 83/500\n",
      "15/15 [==============================] - 0s 8ms/step - loss: 2.2394 - accuracy: 0.5894: 0s - loss: 2.2394 - accuracy: 0.58\n",
      "Epoch 84/500\n",
      "15/15 [==============================] - 0s 6ms/step - loss: 2.2197 - accuracy: 0.5938\n",
      "Epoch 85/500\n",
      "15/15 [==============================] - 0s 7ms/step - loss: 2.1853 - accuracy: 0.6203\n",
      "Epoch 86/500\n",
      "15/15 [==============================] - 0s 8ms/step - loss: 2.1536 - accuracy: 0.6181\n",
      "Epoch 87/500\n",
      "15/15 [==============================] - 0s 9ms/step - loss: 2.1508 - accuracy: 0.6026\n",
      "Epoch 88/500\n",
      "15/15 [==============================] - 0s 8ms/step - loss: 2.1219 - accuracy: 0.6137\n",
      "Epoch 89/500\n",
      "15/15 [==============================] - 0s 8ms/step - loss: 2.0863 - accuracy: 0.6468\n",
      "Epoch 90/500\n",
      "15/15 [==============================] - 0s 6ms/step - loss: 2.0688 - accuracy: 0.6424\n",
      "Epoch 91/500\n",
      "15/15 [==============================] - 0s 6ms/step - loss: 2.0513 - accuracy: 0.6358: 0s - loss: 2.0522 - accuracy: 0.64\n",
      "Epoch 92/500\n",
      "15/15 [==============================] - 0s 7ms/step - loss: 2.0442 - accuracy: 0.6380\n",
      "Epoch 93/500\n",
      "15/15 [==============================] - 0s 6ms/step - loss: 2.0290 - accuracy: 0.6446\n",
      "Epoch 94/500\n",
      "15/15 [==============================] - 0s 5ms/step - loss: 1.9944 - accuracy: 0.6623\n",
      "Epoch 95/500\n",
      "15/15 [==============================] - 0s 11ms/step - loss: 1.9721 - accuracy: 0.6667\n",
      "Epoch 96/500\n",
      "15/15 [==============================] - 0s 9ms/step - loss: 1.9422 - accuracy: 0.6733\n",
      "Epoch 97/500\n",
      "15/15 [==============================] - 0s 8ms/step - loss: 1.9250 - accuracy: 0.6755\n",
      "Epoch 98/500\n",
      "15/15 [==============================] - 0s 8ms/step - loss: 1.8988 - accuracy: 0.6843\n",
      "Epoch 99/500\n",
      "15/15 [==============================] - 0s 9ms/step - loss: 1.8875 - accuracy: 0.6865\n",
      "Epoch 100/500\n",
      "15/15 [==============================] - 0s 7ms/step - loss: 1.8755 - accuracy: 0.6799\n",
      "Epoch 101/500\n",
      "15/15 [==============================] - 0s 6ms/step - loss: 1.8548 - accuracy: 0.6777\n",
      "Epoch 102/500\n",
      "15/15 [==============================] - 0s 7ms/step - loss: 1.8458 - accuracy: 0.6843\n",
      "Epoch 103/500\n",
      "15/15 [==============================] - 0s 6ms/step - loss: 1.8129 - accuracy: 0.6909\n",
      "Epoch 104/500\n",
      "15/15 [==============================] - 0s 7ms/step - loss: 1.7809 - accuracy: 0.7064\n",
      "Epoch 105/500\n",
      "15/15 [==============================] - 0s 7ms/step - loss: 1.7707 - accuracy: 0.6976\n",
      "Epoch 106/500\n",
      "15/15 [==============================] - 0s 8ms/step - loss: 1.7474 - accuracy: 0.7152\n",
      "Epoch 107/500\n",
      "15/15 [==============================] - 0s 7ms/step - loss: 1.7343 - accuracy: 0.7263\n",
      "Epoch 108/500\n",
      "15/15 [==============================] - 0s 6ms/step - loss: 1.7212 - accuracy: 0.7130\n",
      "Epoch 109/500\n",
      "15/15 [==============================] - 0s 5ms/step - loss: 1.7367 - accuracy: 0.7020\n",
      "Epoch 110/500\n",
      "15/15 [==============================] - 0s 5ms/step - loss: 1.6988 - accuracy: 0.7219\n",
      "Epoch 111/500\n",
      "15/15 [==============================] - 0s 10ms/step - loss: 1.6851 - accuracy: 0.7152\n",
      "Epoch 112/500\n",
      "15/15 [==============================] - 0s 10ms/step - loss: 1.6717 - accuracy: 0.7196\n",
      "Epoch 113/500\n",
      "15/15 [==============================] - 0s 8ms/step - loss: 1.6467 - accuracy: 0.7307\n",
      "Epoch 114/500\n",
      "15/15 [==============================] - 0s 7ms/step - loss: 1.6298 - accuracy: 0.7395\n",
      "Epoch 115/500\n",
      "15/15 [==============================] - 0s 6ms/step - loss: 1.6009 - accuracy: 0.7506\n",
      "Epoch 116/500\n",
      "15/15 [==============================] - 0s 9ms/step - loss: 1.6034 - accuracy: 0.7461\n",
      "Epoch 117/500\n",
      "15/15 [==============================] - 0s 7ms/step - loss: 1.5791 - accuracy: 0.7373\n",
      "Epoch 118/500\n",
      "15/15 [==============================] - 0s 6ms/step - loss: 1.5563 - accuracy: 0.7528\n",
      "Epoch 119/500\n",
      "15/15 [==============================] - 0s 6ms/step - loss: 1.5343 - accuracy: 0.7572\n",
      "Epoch 120/500\n",
      "15/15 [==============================] - 0s 6ms/step - loss: 1.5106 - accuracy: 0.7638\n",
      "Epoch 121/500\n",
      "15/15 [==============================] - 0s 7ms/step - loss: 1.4912 - accuracy: 0.7660\n",
      "Epoch 122/500\n",
      "15/15 [==============================] - 0s 7ms/step - loss: 1.4807 - accuracy: 0.7748\n",
      "Epoch 123/500\n",
      "15/15 [==============================] - 0s 8ms/step - loss: 1.4598 - accuracy: 0.7837\n",
      "Epoch 124/500\n",
      "15/15 [==============================] - 0s 6ms/step - loss: 1.4409 - accuracy: 0.7859\n",
      "Epoch 125/500\n",
      "15/15 [==============================] - 0s 6ms/step - loss: 1.4205 - accuracy: 0.7881\n",
      "Epoch 126/500\n",
      "15/15 [==============================] - 0s 6ms/step - loss: 1.4081 - accuracy: 0.7859\n",
      "Epoch 127/500\n",
      "15/15 [==============================] - 0s 6ms/step - loss: 1.3966 - accuracy: 0.7903\n",
      "Epoch 128/500\n",
      "15/15 [==============================] - 0s 5ms/step - loss: 1.3755 - accuracy: 0.7925\n",
      "Epoch 129/500\n",
      "15/15 [==============================] - 0s 5ms/step - loss: 1.3624 - accuracy: 0.7925\n",
      "Epoch 130/500\n",
      "15/15 [==============================] - 0s 5ms/step - loss: 1.3413 - accuracy: 0.7969\n",
      "Epoch 131/500\n",
      "15/15 [==============================] - 0s 7ms/step - loss: 1.3371 - accuracy: 0.7969\n",
      "Epoch 132/500\n",
      "15/15 [==============================] - 0s 6ms/step - loss: 1.3319 - accuracy: 0.7903\n",
      "Epoch 133/500\n",
      "15/15 [==============================] - 0s 6ms/step - loss: 1.3439 - accuracy: 0.8013\n",
      "Epoch 134/500\n",
      "15/15 [==============================] - 0s 8ms/step - loss: 1.3828 - accuracy: 0.7704\n",
      "Epoch 135/500\n",
      "15/15 [==============================] - 0s 7ms/step - loss: 1.3576 - accuracy: 0.7881\n",
      "Epoch 136/500\n",
      "15/15 [==============================] - 0s 7ms/step - loss: 1.3180 - accuracy: 0.7925\n",
      "Epoch 137/500\n",
      "15/15 [==============================] - 0s 6ms/step - loss: 1.2846 - accuracy: 0.7991: 0s - loss: 1.2890 - accuracy: 0.80\n",
      "Epoch 138/500\n",
      "15/15 [==============================] - 0s 7ms/step - loss: 1.2632 - accuracy: 0.8146\n",
      "Epoch 139/500\n",
      "15/15 [==============================] - 0s 6ms/step - loss: 1.2497 - accuracy: 0.8146\n",
      "Epoch 140/500\n",
      "15/15 [==============================] - 0s 6ms/step - loss: 1.2359 - accuracy: 0.8190\n",
      "Epoch 141/500\n",
      "15/15 [==============================] - 0s 6ms/step - loss: 1.2167 - accuracy: 0.8168\n",
      "Epoch 142/500\n",
      "15/15 [==============================] - 0s 6ms/step - loss: 1.1989 - accuracy: 0.8256\n",
      "Epoch 143/500\n",
      "15/15 [==============================] - 0s 6ms/step - loss: 1.1848 - accuracy: 0.8234\n",
      "Epoch 144/500\n",
      "15/15 [==============================] - 0s 5ms/step - loss: 1.1769 - accuracy: 0.8300\n",
      "Epoch 145/500\n",
      "15/15 [==============================] - 0s 6ms/step - loss: 1.2369 - accuracy: 0.8013\n",
      "Epoch 146/500\n",
      "15/15 [==============================] - 0s 5ms/step - loss: 1.2350 - accuracy: 0.8079\n",
      "Epoch 147/500\n",
      "15/15 [==============================] - 0s 5ms/step - loss: 1.2171 - accuracy: 0.8168\n",
      "Epoch 148/500\n",
      "15/15 [==============================] - 0s 5ms/step - loss: 1.2030 - accuracy: 0.8300\n",
      "Epoch 149/500\n",
      "15/15 [==============================] - 0s 6ms/step - loss: 1.2236 - accuracy: 0.8146\n",
      "Epoch 150/500\n",
      "15/15 [==============================] - 0s 8ms/step - loss: 1.1937 - accuracy: 0.8300\n",
      "Epoch 151/500\n",
      "15/15 [==============================] - 0s 6ms/step - loss: 1.1663 - accuracy: 0.8366\n",
      "Epoch 152/500\n",
      "15/15 [==============================] - 0s 7ms/step - loss: 1.1358 - accuracy: 0.8300\n",
      "Epoch 153/500\n",
      "15/15 [==============================] - 0s 6ms/step - loss: 1.1048 - accuracy: 0.8366\n",
      "Epoch 154/500\n",
      "15/15 [==============================] - 0s 5ms/step - loss: 1.0847 - accuracy: 0.8587\n",
      "Epoch 155/500\n",
      "15/15 [==============================] - 0s 11ms/step - loss: 1.0707 - accuracy: 0.8543\n",
      "Epoch 156/500\n",
      "15/15 [==============================] - 0s 5ms/step - loss: 1.0562 - accuracy: 0.8609\n",
      "Epoch 157/500\n",
      "15/15 [==============================] - 0s 6ms/step - loss: 1.0425 - accuracy: 0.8587\n",
      "Epoch 158/500\n",
      "15/15 [==============================] - 0s 6ms/step - loss: 1.0281 - accuracy: 0.8653\n",
      "Epoch 159/500\n",
      "15/15 [==============================] - 0s 6ms/step - loss: 1.0209 - accuracy: 0.8675\n",
      "Epoch 160/500\n",
      "15/15 [==============================] - 0s 6ms/step - loss: 1.0080 - accuracy: 0.8742\n",
      "Epoch 161/500\n",
      "15/15 [==============================] - 0s 7ms/step - loss: 0.9946 - accuracy: 0.8742\n",
      "Epoch 162/500\n",
      "15/15 [==============================] - 0s 7ms/step - loss: 0.9854 - accuracy: 0.8675\n",
      "Epoch 163/500\n",
      "15/15 [==============================] - 0s 7ms/step - loss: 0.9718 - accuracy: 0.8742\n",
      "Epoch 164/500\n",
      "15/15 [==============================] - 0s 6ms/step - loss: 0.9608 - accuracy: 0.8675\n",
      "Epoch 165/500\n",
      "15/15 [==============================] - 0s 6ms/step - loss: 0.9512 - accuracy: 0.8764\n",
      "Epoch 166/500\n",
      "15/15 [==============================] - 0s 9ms/step - loss: 0.9403 - accuracy: 0.8720\n",
      "Epoch 167/500\n",
      "15/15 [==============================] - 0s 8ms/step - loss: 0.9330 - accuracy: 0.8764\n",
      "Epoch 168/500\n",
      "15/15 [==============================] - 0s 9ms/step - loss: 0.9243 - accuracy: 0.8764\n",
      "Epoch 169/500\n",
      "15/15 [==============================] - 0s 7ms/step - loss: 0.9140 - accuracy: 0.8764\n",
      "Epoch 170/500\n",
      "15/15 [==============================] - 0s 7ms/step - loss: 0.9067 - accuracy: 0.8808\n",
      "Epoch 171/500\n",
      "15/15 [==============================] - 0s 8ms/step - loss: 0.8932 - accuracy: 0.8962\n",
      "Epoch 172/500\n",
      "15/15 [==============================] - 0s 11ms/step - loss: 0.8830 - accuracy: 0.8940\n",
      "Epoch 173/500\n",
      "15/15 [==============================] - 0s 8ms/step - loss: 0.8745 - accuracy: 0.8852\n",
      "Epoch 174/500\n",
      "15/15 [==============================] - 0s 6ms/step - loss: 0.8637 - accuracy: 0.9007\n",
      "Epoch 175/500\n",
      "15/15 [==============================] - 0s 7ms/step - loss: 0.8562 - accuracy: 0.8896\n",
      "Epoch 176/500\n",
      "15/15 [==============================] - 0s 10ms/step - loss: 0.8493 - accuracy: 0.8874\n",
      "Epoch 177/500\n",
      "15/15 [==============================] - 0s 10ms/step - loss: 0.8446 - accuracy: 0.8852\n",
      "Epoch 178/500\n",
      "15/15 [==============================] - 0s 10ms/step - loss: 0.8305 - accuracy: 0.8852\n",
      "Epoch 179/500\n",
      "15/15 [==============================] - 0s 9ms/step - loss: 0.8225 - accuracy: 0.8918\n",
      "Epoch 180/500\n",
      "15/15 [==============================] - 0s 9ms/step - loss: 0.8118 - accuracy: 0.9007\n",
      "Epoch 181/500\n",
      "15/15 [==============================] - 0s 7ms/step - loss: 0.8061 - accuracy: 0.9007\n",
      "Epoch 182/500\n",
      "15/15 [==============================] - 0s 8ms/step - loss: 0.7989 - accuracy: 0.9095\n",
      "Epoch 183/500\n",
      "15/15 [==============================] - 0s 8ms/step - loss: 0.7922 - accuracy: 0.9117\n",
      "Epoch 184/500\n",
      "15/15 [==============================] - 0s 7ms/step - loss: 0.7824 - accuracy: 0.9139\n",
      "Epoch 185/500\n",
      "15/15 [==============================] - 0s 7ms/step - loss: 0.7757 - accuracy: 0.9161\n",
      "Epoch 186/500\n",
      "15/15 [==============================] - 0s 6ms/step - loss: 0.7671 - accuracy: 0.9095\n",
      "Epoch 187/500\n",
      "15/15 [==============================] - 0s 7ms/step - loss: 0.7593 - accuracy: 0.9095\n",
      "Epoch 188/500\n",
      "15/15 [==============================] - 0s 8ms/step - loss: 0.7516 - accuracy: 0.9095\n",
      "Epoch 189/500\n",
      "15/15 [==============================] - 0s 7ms/step - loss: 0.7439 - accuracy: 0.9139\n",
      "Epoch 190/500\n",
      "15/15 [==============================] - 0s 7ms/step - loss: 0.7368 - accuracy: 0.9095\n",
      "Epoch 191/500\n",
      "15/15 [==============================] - 0s 7ms/step - loss: 0.7300 - accuracy: 0.9073\n",
      "Epoch 192/500\n",
      "15/15 [==============================] - 0s 8ms/step - loss: 0.7249 - accuracy: 0.9117\n",
      "Epoch 193/500\n",
      "15/15 [==============================] - 0s 7ms/step - loss: 0.7169 - accuracy: 0.9161\n",
      "Epoch 194/500\n",
      "15/15 [==============================] - 0s 8ms/step - loss: 0.7089 - accuracy: 0.9183\n",
      "Epoch 195/500\n",
      "15/15 [==============================] - 0s 7ms/step - loss: 0.7038 - accuracy: 0.9161\n",
      "Epoch 196/500\n",
      "15/15 [==============================] - 0s 7ms/step - loss: 0.7071 - accuracy: 0.9139\n",
      "Epoch 197/500\n",
      "15/15 [==============================] - 0s 6ms/step - loss: 0.6984 - accuracy: 0.9183\n",
      "Epoch 198/500\n",
      "15/15 [==============================] - 0s 9ms/step - loss: 0.6923 - accuracy: 0.9249\n",
      "Epoch 199/500\n",
      "15/15 [==============================] - 0s 9ms/step - loss: 0.6826 - accuracy: 0.9227\n",
      "Epoch 200/500\n",
      "15/15 [==============================] - 0s 10ms/step - loss: 0.6747 - accuracy: 0.9227\n",
      "Epoch 201/500\n",
      "15/15 [==============================] - 0s 9ms/step - loss: 0.6664 - accuracy: 0.9183\n",
      "Epoch 202/500\n",
      "15/15 [==============================] - 0s 8ms/step - loss: 0.6608 - accuracy: 0.9294\n",
      "Epoch 203/500\n",
      "15/15 [==============================] - 0s 10ms/step - loss: 0.6529 - accuracy: 0.9205\n",
      "Epoch 204/500\n",
      "15/15 [==============================] - 0s 8ms/step - loss: 0.6453 - accuracy: 0.9227\n",
      "Epoch 205/500\n",
      "15/15 [==============================] - 0s 7ms/step - loss: 0.6456 - accuracy: 0.9227\n",
      "Epoch 206/500\n",
      "15/15 [==============================] - 0s 6ms/step - loss: 0.6339 - accuracy: 0.9205\n",
      "Epoch 207/500\n",
      "15/15 [==============================] - 0s 7ms/step - loss: 0.6291 - accuracy: 0.9205\n",
      "Epoch 208/500\n",
      "15/15 [==============================] - 0s 7ms/step - loss: 0.6212 - accuracy: 0.9272\n",
      "Epoch 209/500\n",
      "15/15 [==============================] - 0s 7ms/step - loss: 0.6179 - accuracy: 0.9316\n",
      "Epoch 210/500\n",
      "15/15 [==============================] - 0s 7ms/step - loss: 0.6114 - accuracy: 0.9338\n",
      "Epoch 211/500\n",
      "15/15 [==============================] - 0s 10ms/step - loss: 0.6067 - accuracy: 0.9338\n",
      "Epoch 212/500\n",
      "15/15 [==============================] - ETA: 0s - loss: 0.6414 - accuracy: 0.91 - 0s 6ms/step - loss: 0.6028 - accuracy: 0.9338\n",
      "Epoch 213/500\n",
      "15/15 [==============================] - ETA: 0s - loss: 0.5973 - accuracy: 0.93 - 0s 8ms/step - loss: 0.5965 - accuracy: 0.9316\n",
      "Epoch 214/500\n",
      "15/15 [==============================] - 0s 8ms/step - loss: 0.5931 - accuracy: 0.9316\n",
      "Epoch 215/500\n",
      "15/15 [==============================] - 0s 8ms/step - loss: 0.5882 - accuracy: 0.9338\n",
      "Epoch 216/500\n",
      "15/15 [==============================] - 0s 8ms/step - loss: 0.5850 - accuracy: 0.9316: 0s - loss: 0.5845 - accuracy: 0.93\n",
      "Epoch 217/500\n",
      "15/15 [==============================] - 0s 7ms/step - loss: 0.5798 - accuracy: 0.9338\n",
      "Epoch 218/500\n",
      "15/15 [==============================] - 0s 8ms/step - loss: 0.5730 - accuracy: 0.9360\n",
      "Epoch 219/500\n",
      "15/15 [==============================] - 0s 10ms/step - loss: 0.5674 - accuracy: 0.9338\n",
      "Epoch 220/500\n",
      "15/15 [==============================] - 0s 10ms/step - loss: 0.5605 - accuracy: 0.9360\n",
      "Epoch 221/500\n",
      "15/15 [==============================] - 0s 9ms/step - loss: 0.5571 - accuracy: 0.9360\n",
      "Epoch 222/500\n",
      "15/15 [==============================] - 0s 7ms/step - loss: 0.5509 - accuracy: 0.9360\n",
      "Epoch 223/500\n",
      "15/15 [==============================] - 0s 7ms/step - loss: 0.5504 - accuracy: 0.9360\n",
      "Epoch 224/500\n",
      "15/15 [==============================] - 0s 7ms/step - loss: 0.5416 - accuracy: 0.9316\n",
      "Epoch 225/500\n",
      "15/15 [==============================] - 0s 6ms/step - loss: 0.5372 - accuracy: 0.9338\n",
      "Epoch 226/500\n",
      "15/15 [==============================] - 0s 7ms/step - loss: 0.5295 - accuracy: 0.9360\n",
      "Epoch 227/500\n",
      "15/15 [==============================] - 0s 8ms/step - loss: 0.5256 - accuracy: 0.9360\n",
      "Epoch 228/500\n",
      "15/15 [==============================] - 0s 9ms/step - loss: 0.5234 - accuracy: 0.9338\n",
      "Epoch 229/500\n",
      "15/15 [==============================] - 0s 8ms/step - loss: 0.5178 - accuracy: 0.9360\n",
      "Epoch 230/500\n",
      "15/15 [==============================] - 0s 8ms/step - loss: 0.5126 - accuracy: 0.9360\n",
      "Epoch 231/500\n",
      "15/15 [==============================] - 0s 7ms/step - loss: 0.5087 - accuracy: 0.9360\n",
      "Epoch 232/500\n",
      "15/15 [==============================] - 0s 10ms/step - loss: 0.5053 - accuracy: 0.9404\n",
      "Epoch 233/500\n",
      "15/15 [==============================] - 0s 10ms/step - loss: 0.5042 - accuracy: 0.9294\n",
      "Epoch 234/500\n",
      "15/15 [==============================] - 0s 6ms/step - loss: 0.5075 - accuracy: 0.9294\n",
      "Epoch 235/500\n",
      "15/15 [==============================] - 0s 10ms/step - loss: 0.5129 - accuracy: 0.9316\n",
      "Epoch 236/500\n",
      "15/15 [==============================] - 0s 8ms/step - loss: 0.5217 - accuracy: 0.9227\n",
      "Epoch 237/500\n",
      "15/15 [==============================] - 0s 8ms/step - loss: 0.5263 - accuracy: 0.9272\n",
      "Epoch 238/500\n",
      "15/15 [==============================] - 0s 9ms/step - loss: 0.5383 - accuracy: 0.9161\n",
      "Epoch 239/500\n",
      "15/15 [==============================] - 0s 7ms/step - loss: 0.5420 - accuracy: 0.9073\n",
      "Epoch 240/500\n",
      "15/15 [==============================] - 0s 7ms/step - loss: 0.5834 - accuracy: 0.8896\n",
      "Epoch 241/500\n",
      "15/15 [==============================] - 0s 8ms/step - loss: 0.5389 - accuracy: 0.9183\n",
      "Epoch 242/500\n",
      "15/15 [==============================] - 0s 8ms/step - loss: 0.5377 - accuracy: 0.9227\n",
      "Epoch 243/500\n",
      "15/15 [==============================] - 0s 7ms/step - loss: 0.5194 - accuracy: 0.9294\n",
      "Epoch 244/500\n",
      "15/15 [==============================] - 0s 8ms/step - loss: 0.5039 - accuracy: 0.9249\n",
      "Epoch 245/500\n",
      "15/15 [==============================] - 0s 7ms/step - loss: 0.4872 - accuracy: 0.9316\n",
      "Epoch 246/500\n",
      "15/15 [==============================] - 0s 8ms/step - loss: 0.4870 - accuracy: 0.9338\n",
      "Epoch 247/500\n",
      "15/15 [==============================] - 0s 8ms/step - loss: 0.5728 - accuracy: 0.9139\n",
      "Epoch 248/500\n",
      "15/15 [==============================] - 0s 8ms/step - loss: 0.6002 - accuracy: 0.8985\n",
      "Epoch 249/500\n",
      "15/15 [==============================] - 0s 8ms/step - loss: 0.6256 - accuracy: 0.8830\n",
      "Epoch 250/500\n",
      "15/15 [==============================] - 0s 8ms/step - loss: 0.5792 - accuracy: 0.8896\n",
      "Epoch 251/500\n",
      "15/15 [==============================] - 0s 10ms/step - loss: 0.5314 - accuracy: 0.9161\n",
      "Epoch 252/500\n",
      "15/15 [==============================] - 0s 9ms/step - loss: 0.5138 - accuracy: 0.9117\n",
      "Epoch 253/500\n",
      "15/15 [==============================] - 0s 9ms/step - loss: 0.5296 - accuracy: 0.9029\n",
      "Epoch 254/500\n",
      "15/15 [==============================] - 0s 14ms/step - loss: 0.4853 - accuracy: 0.9272\n",
      "Epoch 255/500\n",
      "15/15 [==============================] - 0s 10ms/step - loss: 0.4665 - accuracy: 0.9316\n",
      "Epoch 256/500\n",
      "15/15 [==============================] - 0s 16ms/step - loss: 0.4536 - accuracy: 0.9316\n",
      "Epoch 257/500\n",
      "15/15 [==============================] - 0s 12ms/step - loss: 0.4364 - accuracy: 0.9382\n",
      "Epoch 258/500\n",
      "15/15 [==============================] - 0s 8ms/step - loss: 0.4272 - accuracy: 0.9360\n",
      "Epoch 259/500\n",
      "15/15 [==============================] - 0s 9ms/step - loss: 0.4226 - accuracy: 0.9404\n",
      "Epoch 260/500\n",
      "15/15 [==============================] - 0s 8ms/step - loss: 0.4145 - accuracy: 0.9404\n",
      "Epoch 261/500\n",
      "15/15 [==============================] - 0s 6ms/step - loss: 0.4082 - accuracy: 0.9360\n",
      "Epoch 262/500\n",
      "15/15 [==============================] - 0s 13ms/step - loss: 0.4029 - accuracy: 0.9382\n",
      "Epoch 263/500\n",
      "15/15 [==============================] - 0s 11ms/step - loss: 0.3996 - accuracy: 0.9426\n",
      "Epoch 264/500\n",
      "15/15 [==============================] - 0s 7ms/step - loss: 0.3965 - accuracy: 0.9426\n",
      "Epoch 265/500\n",
      "15/15 [==============================] - 0s 9ms/step - loss: 0.3942 - accuracy: 0.9448\n",
      "Epoch 266/500\n",
      "15/15 [==============================] - 0s 10ms/step - loss: 0.3918 - accuracy: 0.9404\n",
      "Epoch 267/500\n",
      "15/15 [==============================] - 0s 11ms/step - loss: 0.3879 - accuracy: 0.9426\n",
      "Epoch 268/500\n",
      "15/15 [==============================] - 0s 8ms/step - loss: 0.3841 - accuracy: 0.9404\n",
      "Epoch 269/500\n",
      "15/15 [==============================] - 0s 8ms/step - loss: 0.3802 - accuracy: 0.9448\n",
      "Epoch 270/500\n",
      "15/15 [==============================] - 0s 10ms/step - loss: 0.3773 - accuracy: 0.9426\n",
      "Epoch 271/500\n",
      "15/15 [==============================] - 0s 15ms/step - loss: 0.3740 - accuracy: 0.9470\n",
      "Epoch 272/500\n",
      "15/15 [==============================] - 0s 11ms/step - loss: 0.3709 - accuracy: 0.9448\n",
      "Epoch 273/500\n",
      "15/15 [==============================] - 0s 15ms/step - loss: 0.3683 - accuracy: 0.9448\n",
      "Epoch 274/500\n",
      "15/15 [==============================] - 0s 11ms/step - loss: 0.3654 - accuracy: 0.9448\n",
      "Epoch 275/500\n",
      "15/15 [==============================] - 0s 8ms/step - loss: 0.3645 - accuracy: 0.9404\n",
      "Epoch 276/500\n",
      "15/15 [==============================] - 0s 8ms/step - loss: 0.3606 - accuracy: 0.9492\n",
      "Epoch 277/500\n",
      "15/15 [==============================] - 0s 8ms/step - loss: 0.3600 - accuracy: 0.9492\n",
      "Epoch 278/500\n",
      "15/15 [==============================] - 0s 8ms/step - loss: 0.3560 - accuracy: 0.9426\n",
      "Epoch 279/500\n",
      "15/15 [==============================] - 0s 8ms/step - loss: 0.3518 - accuracy: 0.9492\n",
      "Epoch 280/500\n",
      "15/15 [==============================] - 0s 8ms/step - loss: 0.3495 - accuracy: 0.9470\n",
      "Epoch 281/500\n",
      "15/15 [==============================] - 0s 7ms/step - loss: 0.3471 - accuracy: 0.9492\n",
      "Epoch 282/500\n",
      "15/15 [==============================] - 0s 8ms/step - loss: 0.3449 - accuracy: 0.9514\n",
      "Epoch 283/500\n",
      "15/15 [==============================] - 0s 8ms/step - loss: 0.3436 - accuracy: 0.9470\n",
      "Epoch 284/500\n",
      "15/15 [==============================] - 0s 8ms/step - loss: 0.3400 - accuracy: 0.9536\n",
      "Epoch 285/500\n",
      "15/15 [==============================] - 0s 9ms/step - loss: 0.3392 - accuracy: 0.9470\n",
      "Epoch 286/500\n",
      "15/15 [==============================] - 0s 10ms/step - loss: 0.3363 - accuracy: 0.9514\n",
      "Epoch 287/500\n",
      "15/15 [==============================] - 0s 11ms/step - loss: 0.3332 - accuracy: 0.9492\n",
      "Epoch 288/500\n",
      "15/15 [==============================] - 0s 9ms/step - loss: 0.3376 - accuracy: 0.9448\n",
      "Epoch 289/500\n",
      "15/15 [==============================] - 0s 9ms/step - loss: 0.3309 - accuracy: 0.9448\n",
      "Epoch 290/500\n",
      "15/15 [==============================] - 0s 11ms/step - loss: 0.3278 - accuracy: 0.9492\n",
      "Epoch 291/500\n",
      "15/15 [==============================] - 0s 11ms/step - loss: 0.3246 - accuracy: 0.9448\n",
      "Epoch 292/500\n",
      "15/15 [==============================] - 0s 8ms/step - loss: 0.3245 - accuracy: 0.9448\n",
      "Epoch 293/500\n",
      "15/15 [==============================] - 0s 9ms/step - loss: 0.3193 - accuracy: 0.9470\n",
      "Epoch 294/500\n",
      "15/15 [==============================] - 0s 14ms/step - loss: 0.3182 - accuracy: 0.9426\n",
      "Epoch 295/500\n",
      "15/15 [==============================] - 0s 10ms/step - loss: 0.3155 - accuracy: 0.9448\n",
      "Epoch 296/500\n",
      "15/15 [==============================] - 0s 13ms/step - loss: 0.3141 - accuracy: 0.9426\n",
      "Epoch 297/500\n",
      "15/15 [==============================] - 0s 10ms/step - loss: 0.3128 - accuracy: 0.9470\n",
      "Epoch 298/500\n",
      "15/15 [==============================] - 0s 11ms/step - loss: 0.3101 - accuracy: 0.9448\n",
      "Epoch 299/500\n",
      "15/15 [==============================] - 0s 22ms/step - loss: 0.3080 - accuracy: 0.9492\n",
      "Epoch 300/500\n",
      "15/15 [==============================] - 0s 10ms/step - loss: 0.3053 - accuracy: 0.9448\n",
      "Epoch 301/500\n",
      "15/15 [==============================] - 0s 9ms/step - loss: 0.3029 - accuracy: 0.9448\n",
      "Epoch 302/500\n",
      "15/15 [==============================] - 0s 12ms/step - loss: 0.3022 - accuracy: 0.9448\n",
      "Epoch 303/500\n",
      "15/15 [==============================] - 0s 8ms/step - loss: 0.3002 - accuracy: 0.9470\n",
      "Epoch 304/500\n",
      "15/15 [==============================] - 0s 9ms/step - loss: 0.2987 - accuracy: 0.9448\n",
      "Epoch 305/500\n",
      "15/15 [==============================] - 0s 9ms/step - loss: 0.2972 - accuracy: 0.9492\n",
      "Epoch 306/500\n",
      "15/15 [==============================] - 0s 9ms/step - loss: 0.2951 - accuracy: 0.9492\n",
      "Epoch 307/500\n",
      "15/15 [==============================] - 0s 9ms/step - loss: 0.2928 - accuracy: 0.9492\n",
      "Epoch 308/500\n",
      "15/15 [==============================] - 0s 8ms/step - loss: 0.2916 - accuracy: 0.9470\n",
      "Epoch 309/500\n",
      "15/15 [==============================] - 0s 8ms/step - loss: 0.2899 - accuracy: 0.9470\n",
      "Epoch 310/500\n",
      "15/15 [==============================] - 0s 7ms/step - loss: 0.2875 - accuracy: 0.9470\n",
      "Epoch 311/500\n",
      "15/15 [==============================] - 0s 6ms/step - loss: 0.2861 - accuracy: 0.9492\n",
      "Epoch 312/500\n",
      "15/15 [==============================] - 0s 7ms/step - loss: 0.2854 - accuracy: 0.9492\n",
      "Epoch 313/500\n",
      "15/15 [==============================] - 0s 8ms/step - loss: 0.2844 - accuracy: 0.9492\n",
      "Epoch 314/500\n",
      "15/15 [==============================] - 0s 6ms/step - loss: 0.2813 - accuracy: 0.9470\n",
      "Epoch 315/500\n",
      "15/15 [==============================] - 0s 9ms/step - loss: 0.2805 - accuracy: 0.9514\n",
      "Epoch 316/500\n",
      "15/15 [==============================] - 0s 9ms/step - loss: 0.2790 - accuracy: 0.9492\n",
      "Epoch 317/500\n",
      "15/15 [==============================] - 0s 8ms/step - loss: 0.2775 - accuracy: 0.9470\n",
      "Epoch 318/500\n",
      "15/15 [==============================] - 0s 7ms/step - loss: 0.2774 - accuracy: 0.9536\n",
      "Epoch 319/500\n",
      "15/15 [==============================] - 0s 8ms/step - loss: 0.2751 - accuracy: 0.9448\n",
      "Epoch 320/500\n",
      "15/15 [==============================] - 0s 8ms/step - loss: 0.2717 - accuracy: 0.9492\n",
      "Epoch 321/500\n",
      "15/15 [==============================] - 0s 8ms/step - loss: 0.2687 - accuracy: 0.9514\n",
      "Epoch 322/500\n",
      "15/15 [==============================] - 0s 8ms/step - loss: 0.2674 - accuracy: 0.9514\n",
      "Epoch 323/500\n",
      "15/15 [==============================] - 0s 8ms/step - loss: 0.2654 - accuracy: 0.9492\n",
      "Epoch 324/500\n",
      "15/15 [==============================] - 0s 7ms/step - loss: 0.2676 - accuracy: 0.9492\n",
      "Epoch 325/500\n",
      "15/15 [==============================] - 0s 8ms/step - loss: 0.2663 - accuracy: 0.9470\n",
      "Epoch 326/500\n",
      "15/15 [==============================] - 0s 8ms/step - loss: 0.2625 - accuracy: 0.9470\n",
      "Epoch 327/500\n",
      "15/15 [==============================] - 0s 9ms/step - loss: 0.2607 - accuracy: 0.9470\n",
      "Epoch 328/500\n",
      "15/15 [==============================] - 0s 11ms/step - loss: 0.2579 - accuracy: 0.9492\n",
      "Epoch 329/500\n",
      "15/15 [==============================] - 0s 8ms/step - loss: 0.2564 - accuracy: 0.9470\n",
      "Epoch 330/500\n",
      "15/15 [==============================] - 0s 8ms/step - loss: 0.2550 - accuracy: 0.9470\n",
      "Epoch 331/500\n",
      "15/15 [==============================] - 0s 8ms/step - loss: 0.2545 - accuracy: 0.9426\n",
      "Epoch 332/500\n",
      "15/15 [==============================] - 0s 8ms/step - loss: 0.2523 - accuracy: 0.9448\n",
      "Epoch 333/500\n",
      "15/15 [==============================] - 0s 7ms/step - loss: 0.2523 - accuracy: 0.9426\n",
      "Epoch 334/500\n",
      "15/15 [==============================] - 0s 8ms/step - loss: 0.2500 - accuracy: 0.9470\n",
      "Epoch 335/500\n",
      "15/15 [==============================] - 0s 15ms/step - loss: 0.2487 - accuracy: 0.9470\n",
      "Epoch 336/500\n",
      "15/15 [==============================] - 0s 9ms/step - loss: 0.2474 - accuracy: 0.9448\n",
      "Epoch 337/500\n",
      "15/15 [==============================] - 0s 13ms/step - loss: 0.2468 - accuracy: 0.9448\n",
      "Epoch 338/500\n",
      "15/15 [==============================] - 0s 10ms/step - loss: 0.2441 - accuracy: 0.9448\n",
      "Epoch 339/500\n",
      "15/15 [==============================] - ETA: 0s - loss: 0.2453 - accuracy: 0.94 - 0s 13ms/step - loss: 0.2434 - accuracy: 0.9448\n",
      "Epoch 340/500\n",
      "15/15 [==============================] - 0s 9ms/step - loss: 0.2419 - accuracy: 0.9404\n",
      "Epoch 341/500\n",
      "15/15 [==============================] - 0s 9ms/step - loss: 0.2421 - accuracy: 0.9448\n",
      "Epoch 342/500\n",
      "15/15 [==============================] - 0s 18ms/step - loss: 0.2386 - accuracy: 0.9514\n",
      "Epoch 343/500\n",
      "15/15 [==============================] - 0s 14ms/step - loss: 0.2400 - accuracy: 0.9448\n",
      "Epoch 344/500\n",
      "15/15 [==============================] - 0s 13ms/step - loss: 0.2384 - accuracy: 0.9426 0s - loss: 0.2457 - accuracy: 0.\n",
      "Epoch 345/500\n",
      "15/15 [==============================] - 0s 11ms/step - loss: 0.2358 - accuracy: 0.9448\n",
      "Epoch 346/500\n",
      "15/15 [==============================] - 0s 10ms/step - loss: 0.2347 - accuracy: 0.9448\n",
      "Epoch 347/500\n",
      "15/15 [==============================] - 0s 8ms/step - loss: 0.2331 - accuracy: 0.9470\n",
      "Epoch 348/500\n",
      "15/15 [==============================] - 0s 11ms/step - loss: 0.2318 - accuracy: 0.9448\n",
      "Epoch 349/500\n",
      "15/15 [==============================] - 0s 15ms/step - loss: 0.2318 - accuracy: 0.9426 0s - loss: 0.2261 - accuracy: \n",
      "Epoch 350/500\n",
      "15/15 [==============================] - 0s 13ms/step - loss: 0.2295 - accuracy: 0.9448\n",
      "Epoch 351/500\n",
      "15/15 [==============================] - 0s 12ms/step - loss: 0.2292 - accuracy: 0.9492 0s - loss: 0.2292 - accuracy: 0.94\n",
      "Epoch 352/500\n",
      "15/15 [==============================] - 0s 12ms/step - loss: 0.2280 - accuracy: 0.9470\n",
      "Epoch 353/500\n",
      "15/15 [==============================] - 0s 9ms/step - loss: 0.2265 - accuracy: 0.9492\n",
      "Epoch 354/500\n",
      "15/15 [==============================] - 0s 17ms/step - loss: 0.2254 - accuracy: 0.9470\n",
      "Epoch 355/500\n",
      "15/15 [==============================] - 0s 13ms/step - loss: 0.2243 - accuracy: 0.9492\n",
      "Epoch 356/500\n",
      "15/15 [==============================] - 0s 10ms/step - loss: 0.2232 - accuracy: 0.9470\n",
      "Epoch 357/500\n",
      "15/15 [==============================] - 0s 14ms/step - loss: 0.2218 - accuracy: 0.9492\n",
      "Epoch 358/500\n",
      "15/15 [==============================] - 0s 24ms/step - loss: 0.2210 - accuracy: 0.9492\n",
      "Epoch 359/500\n",
      "15/15 [==============================] - 0s 28ms/step - loss: 0.2200 - accuracy: 0.9426\n",
      "Epoch 360/500\n",
      "15/15 [==============================] - 0s 20ms/step - loss: 0.2184 - accuracy: 0.9514 0s - loss: 0.1875 - accuracy\n",
      "Epoch 361/500\n",
      "15/15 [==============================] - 0s 11ms/step - loss: 0.2180 - accuracy: 0.9470\n",
      "Epoch 362/500\n",
      "15/15 [==============================] - 0s 18ms/step - loss: 0.2166 - accuracy: 0.9448\n",
      "Epoch 363/500\n",
      "15/15 [==============================] - 0s 13ms/step - loss: 0.2156 - accuracy: 0.9470\n",
      "Epoch 364/500\n",
      "15/15 [==============================] - 0s 14ms/step - loss: 0.2142 - accuracy: 0.9448\n",
      "Epoch 365/500\n",
      "15/15 [==============================] - 0s 16ms/step - loss: 0.2131 - accuracy: 0.9448\n",
      "Epoch 366/500\n",
      "15/15 [==============================] - 0s 12ms/step - loss: 0.2125 - accuracy: 0.9492\n",
      "Epoch 367/500\n",
      "15/15 [==============================] - 0s 19ms/step - loss: 0.2149 - accuracy: 0.9448\n",
      "Epoch 368/500\n",
      "15/15 [==============================] - 0s 14ms/step - loss: 0.2122 - accuracy: 0.9470 0s - loss: 0.1859 - accuracy: \n",
      "Epoch 369/500\n",
      "15/15 [==============================] - 0s 12ms/step - loss: 0.2095 - accuracy: 0.9514\n",
      "Epoch 370/500\n",
      "15/15 [==============================] - 0s 12ms/step - loss: 0.2083 - accuracy: 0.9514\n",
      "Epoch 371/500\n",
      "15/15 [==============================] - 0s 9ms/step - loss: 0.2070 - accuracy: 0.9536\n",
      "Epoch 372/500\n",
      "15/15 [==============================] - 0s 7ms/step - loss: 0.2073 - accuracy: 0.9404\n",
      "Epoch 373/500\n",
      "15/15 [==============================] - 0s 10ms/step - loss: 0.2088 - accuracy: 0.9470 0s - loss: 0.2104 - accuracy: 0.94\n",
      "Epoch 374/500\n",
      "15/15 [==============================] - 0s 13ms/step - loss: 0.2128 - accuracy: 0.9470 0s - loss: 0.2222 - accuracy: 0.\n",
      "Epoch 375/500\n",
      "15/15 [==============================] - 0s 12ms/step - loss: 0.2266 - accuracy: 0.9492\n",
      "Epoch 376/500\n",
      "15/15 [==============================] - 0s 14ms/step - loss: 0.2524 - accuracy: 0.9426\n",
      "Epoch 377/500\n",
      "15/15 [==============================] - 0s 10ms/step - loss: 0.2358 - accuracy: 0.9448\n",
      "Epoch 378/500\n",
      "15/15 [==============================] - 0s 8ms/step - loss: 0.2496 - accuracy: 0.9382\n",
      "Epoch 379/500\n",
      "15/15 [==============================] - 0s 11ms/step - loss: 0.2703 - accuracy: 0.9294\n",
      "Epoch 380/500\n",
      "15/15 [==============================] - 0s 8ms/step - loss: 0.3143 - accuracy: 0.9161\n",
      "Epoch 381/500\n",
      "15/15 [==============================] - 0s 13ms/step - loss: 0.3825 - accuracy: 0.8985\n",
      "Epoch 382/500\n",
      "15/15 [==============================] - 0s 12ms/step - loss: 0.3331 - accuracy: 0.9205\n",
      "Epoch 383/500\n",
      "15/15 [==============================] - 0s 10ms/step - loss: 0.3036 - accuracy: 0.9272\n",
      "Epoch 384/500\n",
      "15/15 [==============================] - 0s 10ms/step - loss: 0.3263 - accuracy: 0.9227\n",
      "Epoch 385/500\n",
      "15/15 [==============================] - 0s 8ms/step - loss: 0.3031 - accuracy: 0.9294\n",
      "Epoch 386/500\n",
      "15/15 [==============================] - 0s 9ms/step - loss: 0.3235 - accuracy: 0.9316\n",
      "Epoch 387/500\n",
      "15/15 [==============================] - 0s 8ms/step - loss: 0.2720 - accuracy: 0.9382\n",
      "Epoch 388/500\n",
      "15/15 [==============================] - 0s 9ms/step - loss: 0.2589 - accuracy: 0.9382\n",
      "Epoch 389/500\n",
      "15/15 [==============================] - 0s 10ms/step - loss: 0.2475 - accuracy: 0.9382\n",
      "Epoch 390/500\n",
      "15/15 [==============================] - 0s 10ms/step - loss: 0.2351 - accuracy: 0.9426\n",
      "Epoch 391/500\n",
      "15/15 [==============================] - 0s 10ms/step - loss: 0.2335 - accuracy: 0.9448\n",
      "Epoch 392/500\n",
      "15/15 [==============================] - 0s 9ms/step - loss: 0.2323 - accuracy: 0.9448\n",
      "Epoch 393/500\n",
      "15/15 [==============================] - 0s 9ms/step - loss: 0.2247 - accuracy: 0.9470\n",
      "Epoch 394/500\n",
      "15/15 [==============================] - 0s 9ms/step - loss: 0.2208 - accuracy: 0.9448\n",
      "Epoch 395/500\n",
      "15/15 [==============================] - 0s 8ms/step - loss: 0.2143 - accuracy: 0.9536\n",
      "Epoch 396/500\n",
      "15/15 [==============================] - 0s 8ms/step - loss: 0.2090 - accuracy: 0.9492\n",
      "Epoch 397/500\n",
      "15/15 [==============================] - 0s 8ms/step - loss: 0.2065 - accuracy: 0.9492\n",
      "Epoch 398/500\n",
      "15/15 [==============================] - 0s 8ms/step - loss: 0.2039 - accuracy: 0.9448\n",
      "Epoch 399/500\n",
      "15/15 [==============================] - 0s 8ms/step - loss: 0.2014 - accuracy: 0.9514\n",
      "Epoch 400/500\n",
      "15/15 [==============================] - 0s 8ms/step - loss: 0.2002 - accuracy: 0.9492\n",
      "Epoch 401/500\n",
      "15/15 [==============================] - 0s 9ms/step - loss: 0.1979 - accuracy: 0.9492\n",
      "Epoch 402/500\n",
      "15/15 [==============================] - 0s 8ms/step - loss: 0.1982 - accuracy: 0.9514\n",
      "Epoch 403/500\n",
      "15/15 [==============================] - 0s 8ms/step - loss: 0.1958 - accuracy: 0.9536\n",
      "Epoch 404/500\n",
      "15/15 [==============================] - 0s 8ms/step - loss: 0.1940 - accuracy: 0.9470\n",
      "Epoch 405/500\n",
      "15/15 [==============================] - 0s 8ms/step - loss: 0.1929 - accuracy: 0.9492\n",
      "Epoch 406/500\n",
      "15/15 [==============================] - 0s 7ms/step - loss: 0.1916 - accuracy: 0.9448\n",
      "Epoch 407/500\n",
      "15/15 [==============================] - 0s 9ms/step - loss: 0.1899 - accuracy: 0.9492\n",
      "Epoch 408/500\n",
      "15/15 [==============================] - 0s 8ms/step - loss: 0.1895 - accuracy: 0.9514\n",
      "Epoch 409/500\n",
      "15/15 [==============================] - 0s 8ms/step - loss: 0.1876 - accuracy: 0.9536\n",
      "Epoch 410/500\n",
      "15/15 [==============================] - 0s 11ms/step - loss: 0.1872 - accuracy: 0.9470\n",
      "Epoch 411/500\n",
      "15/15 [==============================] - 0s 10ms/step - loss: 0.1853 - accuracy: 0.9514\n",
      "Epoch 412/500\n",
      "15/15 [==============================] - 0s 8ms/step - loss: 0.1858 - accuracy: 0.9492\n",
      "Epoch 413/500\n",
      "15/15 [==============================] - 0s 9ms/step - loss: 0.1842 - accuracy: 0.9492: 0s - loss: 0.1835 - accuracy: 0.94\n",
      "Epoch 414/500\n",
      "15/15 [==============================] - 0s 9ms/step - loss: 0.1833 - accuracy: 0.9514\n",
      "Epoch 415/500\n",
      "15/15 [==============================] - 0s 10ms/step - loss: 0.1834 - accuracy: 0.9536\n",
      "Epoch 416/500\n",
      "15/15 [==============================] - 0s 12ms/step - loss: 0.1831 - accuracy: 0.9470\n",
      "Epoch 417/500\n",
      "15/15 [==============================] - 0s 8ms/step - loss: 0.1806 - accuracy: 0.9492\n",
      "Epoch 418/500\n",
      "15/15 [==============================] - 0s 8ms/step - loss: 0.1800 - accuracy: 0.9536\n",
      "Epoch 419/500\n",
      "15/15 [==============================] - 0s 9ms/step - loss: 0.1786 - accuracy: 0.9536\n",
      "Epoch 420/500\n",
      "15/15 [==============================] - 0s 9ms/step - loss: 0.1779 - accuracy: 0.9536\n",
      "Epoch 421/500\n",
      "15/15 [==============================] - 0s 8ms/step - loss: 0.1773 - accuracy: 0.9492\n",
      "Epoch 422/500\n",
      "15/15 [==============================] - 0s 8ms/step - loss: 0.1775 - accuracy: 0.9514\n",
      "Epoch 423/500\n",
      "15/15 [==============================] - 0s 8ms/step - loss: 0.1750 - accuracy: 0.9492\n",
      "Epoch 424/500\n",
      "15/15 [==============================] - 0s 8ms/step - loss: 0.1755 - accuracy: 0.9492\n",
      "Epoch 425/500\n",
      "15/15 [==============================] - 0s 9ms/step - loss: 0.1735 - accuracy: 0.9470\n",
      "Epoch 426/500\n",
      "15/15 [==============================] - 0s 9ms/step - loss: 0.1731 - accuracy: 0.9514\n",
      "Epoch 427/500\n",
      "15/15 [==============================] - 0s 10ms/step - loss: 0.1730 - accuracy: 0.9426\n",
      "Epoch 428/500\n",
      "15/15 [==============================] - 0s 10ms/step - loss: 0.1717 - accuracy: 0.9514\n",
      "Epoch 429/500\n",
      "15/15 [==============================] - 0s 8ms/step - loss: 0.1716 - accuracy: 0.9470\n",
      "Epoch 430/500\n",
      "15/15 [==============================] - 0s 9ms/step - loss: 0.1707 - accuracy: 0.9470\n",
      "Epoch 431/500\n",
      "15/15 [==============================] - 0s 8ms/step - loss: 0.1696 - accuracy: 0.9514\n",
      "Epoch 432/500\n",
      "15/15 [==============================] - 0s 9ms/step - loss: 0.1703 - accuracy: 0.9492\n",
      "Epoch 433/500\n",
      "15/15 [==============================] - 0s 9ms/step - loss: 0.1686 - accuracy: 0.9536\n",
      "Epoch 434/500\n",
      "15/15 [==============================] - 0s 9ms/step - loss: 0.1675 - accuracy: 0.9514\n",
      "Epoch 435/500\n",
      "15/15 [==============================] - 0s 14ms/step - loss: 0.1676 - accuracy: 0.9492 0s - loss: 0.1711 - accuracy: 0.94\n",
      "Epoch 436/500\n",
      "15/15 [==============================] - 0s 11ms/step - loss: 0.1662 - accuracy: 0.9492\n",
      "Epoch 437/500\n",
      "15/15 [==============================] - 0s 12ms/step - loss: 0.1657 - accuracy: 0.9492\n",
      "Epoch 438/500\n",
      "15/15 [==============================] - 0s 8ms/step - loss: 0.1650 - accuracy: 0.9448\n",
      "Epoch 439/500\n",
      "15/15 [==============================] - 0s 9ms/step - loss: 0.1635 - accuracy: 0.9492\n",
      "Epoch 440/500\n",
      "15/15 [==============================] - 0s 12ms/step - loss: 0.1626 - accuracy: 0.9514\n",
      "Epoch 441/500\n",
      "15/15 [==============================] - 0s 13ms/step - loss: 0.1619 - accuracy: 0.9470\n",
      "Epoch 442/500\n",
      "15/15 [==============================] - 0s 12ms/step - loss: 0.1616 - accuracy: 0.9448\n",
      "Epoch 443/500\n",
      "15/15 [==============================] - 0s 13ms/step - loss: 0.1617 - accuracy: 0.9470\n",
      "Epoch 444/500\n",
      "15/15 [==============================] - 0s 9ms/step - loss: 0.1718 - accuracy: 0.9470\n",
      "Epoch 445/500\n",
      "15/15 [==============================] - 0s 9ms/step - loss: 0.1636 - accuracy: 0.9492\n",
      "Epoch 446/500\n",
      "15/15 [==============================] - 0s 8ms/step - loss: 0.1688 - accuracy: 0.9470\n",
      "Epoch 447/500\n",
      "15/15 [==============================] - 0s 10ms/step - loss: 0.1645 - accuracy: 0.9470\n",
      "Epoch 448/500\n",
      "15/15 [==============================] - 0s 9ms/step - loss: 0.1622 - accuracy: 0.9470\n",
      "Epoch 449/500\n",
      "15/15 [==============================] - 0s 8ms/step - loss: 0.1667 - accuracy: 0.9492\n",
      "Epoch 450/500\n",
      "15/15 [==============================] - 0s 9ms/step - loss: 0.1700 - accuracy: 0.9536\n",
      "Epoch 451/500\n",
      "15/15 [==============================] - 0s 8ms/step - loss: 0.1712 - accuracy: 0.9404\n",
      "Epoch 452/500\n",
      "15/15 [==============================] - 0s 11ms/step - loss: 0.1737 - accuracy: 0.9470\n",
      "Epoch 453/500\n",
      "15/15 [==============================] - 0s 11ms/step - loss: 0.1667 - accuracy: 0.9426\n",
      "Epoch 454/500\n",
      "15/15 [==============================] - 0s 8ms/step - loss: 0.1613 - accuracy: 0.9404\n",
      "Epoch 455/500\n",
      "15/15 [==============================] - 0s 7ms/step - loss: 0.1570 - accuracy: 0.9448\n",
      "Epoch 456/500\n",
      "15/15 [==============================] - 0s 10ms/step - loss: 0.1551 - accuracy: 0.9470\n",
      "Epoch 457/500\n",
      "15/15 [==============================] - ETA: 0s - loss: 0.1456 - accuracy: 0.95 - 0s 7ms/step - loss: 0.1537 - accuracy: 0.9470\n",
      "Epoch 458/500\n",
      "15/15 [==============================] - 0s 8ms/step - loss: 0.1541 - accuracy: 0.9426\n",
      "Epoch 459/500\n",
      "15/15 [==============================] - 0s 8ms/step - loss: 0.1549 - accuracy: 0.9470\n",
      "Epoch 460/500\n",
      "15/15 [==============================] - 0s 8ms/step - loss: 0.1550 - accuracy: 0.9514\n",
      "Epoch 461/500\n",
      "15/15 [==============================] - 0s 9ms/step - loss: 0.1559 - accuracy: 0.9514\n",
      "Epoch 462/500\n",
      "15/15 [==============================] - 0s 10ms/step - loss: 0.1519 - accuracy: 0.9492\n",
      "Epoch 463/500\n",
      "15/15 [==============================] - 0s 8ms/step - loss: 0.1498 - accuracy: 0.9492\n",
      "Epoch 464/500\n",
      "15/15 [==============================] - 0s 11ms/step - loss: 0.1496 - accuracy: 0.9492\n",
      "Epoch 465/500\n",
      "15/15 [==============================] - 0s 9ms/step - loss: 0.1482 - accuracy: 0.9492\n",
      "Epoch 466/500\n",
      "15/15 [==============================] - 0s 8ms/step - loss: 0.1480 - accuracy: 0.9492\n",
      "Epoch 467/500\n",
      "15/15 [==============================] - 0s 9ms/step - loss: 0.1476 - accuracy: 0.9492\n",
      "Epoch 468/500\n",
      "15/15 [==============================] - 0s 8ms/step - loss: 0.1469 - accuracy: 0.9426\n",
      "Epoch 469/500\n",
      "15/15 [==============================] - 0s 8ms/step - loss: 0.1470 - accuracy: 0.9448\n",
      "Epoch 470/500\n",
      "15/15 [==============================] - 0s 8ms/step - loss: 0.1463 - accuracy: 0.9448\n",
      "Epoch 471/500\n",
      "15/15 [==============================] - 0s 7ms/step - loss: 0.1454 - accuracy: 0.9492\n",
      "Epoch 472/500\n",
      "15/15 [==============================] - 0s 8ms/step - loss: 0.1451 - accuracy: 0.9492: 0s - loss: 0.1458 - accuracy: 0.94\n",
      "Epoch 473/500\n",
      "15/15 [==============================] - 0s 11ms/step - loss: 0.1448 - accuracy: 0.9492\n",
      "Epoch 474/500\n",
      "15/15 [==============================] - 0s 8ms/step - loss: 0.1452 - accuracy: 0.9492\n",
      "Epoch 475/500\n",
      "15/15 [==============================] - 0s 9ms/step - loss: 0.1473 - accuracy: 0.9514\n",
      "Epoch 476/500\n",
      "15/15 [==============================] - 0s 9ms/step - loss: 0.1518 - accuracy: 0.9470\n",
      "Epoch 477/500\n",
      "15/15 [==============================] - 0s 9ms/step - loss: 0.1498 - accuracy: 0.9470\n",
      "Epoch 478/500\n",
      "15/15 [==============================] - 0s 7ms/step - loss: 0.1453 - accuracy: 0.9470\n",
      "Epoch 479/500\n",
      "15/15 [==============================] - 0s 9ms/step - loss: 0.1448 - accuracy: 0.9470\n",
      "Epoch 480/500\n",
      "15/15 [==============================] - 0s 8ms/step - loss: 0.1437 - accuracy: 0.9448\n",
      "Epoch 481/500\n",
      "15/15 [==============================] - 0s 10ms/step - loss: 0.1434 - accuracy: 0.9514\n",
      "Epoch 482/500\n",
      "15/15 [==============================] - 0s 10ms/step - loss: 0.1433 - accuracy: 0.9426\n",
      "Epoch 483/500\n",
      "15/15 [==============================] - 0s 9ms/step - loss: 0.1426 - accuracy: 0.9492\n",
      "Epoch 484/500\n",
      "15/15 [==============================] - 0s 9ms/step - loss: 0.1423 - accuracy: 0.9514\n",
      "Epoch 485/500\n",
      "15/15 [==============================] - 0s 9ms/step - loss: 0.1421 - accuracy: 0.9448\n",
      "Epoch 486/500\n",
      "15/15 [==============================] - 0s 9ms/step - loss: 0.1407 - accuracy: 0.9448\n",
      "Epoch 487/500\n",
      "15/15 [==============================] - 0s 9ms/step - loss: 0.1400 - accuracy: 0.9470\n",
      "Epoch 488/500\n",
      "15/15 [==============================] - 0s 7ms/step - loss: 0.1404 - accuracy: 0.9470\n",
      "Epoch 489/500\n",
      "15/15 [==============================] - 0s 9ms/step - loss: 0.1404 - accuracy: 0.9470\n",
      "Epoch 490/500\n",
      "15/15 [==============================] - 0s 7ms/step - loss: 0.1393 - accuracy: 0.9492\n",
      "Epoch 491/500\n",
      "15/15 [==============================] - 0s 8ms/step - loss: 0.1386 - accuracy: 0.9492\n",
      "Epoch 492/500\n",
      "15/15 [==============================] - 0s 7ms/step - loss: 0.1384 - accuracy: 0.9426\n",
      "Epoch 493/500\n",
      "15/15 [==============================] - 0s 8ms/step - loss: 0.1369 - accuracy: 0.9514\n",
      "Epoch 494/500\n",
      "15/15 [==============================] - 0s 8ms/step - loss: 0.1383 - accuracy: 0.9514\n",
      "Epoch 495/500\n",
      "15/15 [==============================] - 0s 9ms/step - loss: 0.1368 - accuracy: 0.9448\n",
      "Epoch 496/500\n",
      "15/15 [==============================] - 0s 7ms/step - loss: 0.1355 - accuracy: 0.9514\n",
      "Epoch 497/500\n",
      "15/15 [==============================] - 0s 9ms/step - loss: 0.1358 - accuracy: 0.9470\n",
      "Epoch 498/500\n",
      "15/15 [==============================] - 0s 8ms/step - loss: 0.1356 - accuracy: 0.9514\n",
      "Epoch 499/500\n",
      "15/15 [==============================] - 0s 8ms/step - loss: 0.1351 - accuracy: 0.9492\n",
      "Epoch 500/500\n",
      "15/15 [==============================] - 0s 8ms/step - loss: 0.1351 - accuracy: 0.9492\n"
     ]
    }
   ],
   "source": [
    "  model = Sequential()\n",
    "  model.add(Embedding(total_words, 64, input_length=max_sequence_len-1))\n",
    "  model.add(Bidirectional(LSTM(20)))\n",
    "  model.add(Dense(total_words, activation='softmax'))\n",
    "  model.compile(loss='categorical_crossentropy', optimizer='adam', metrics=['accuracy'])\n",
    "  history = model.fit(xs, ys, epochs=500, verbose=1)"
   ]
  },
  {
   "cell_type": "code",
   "execution_count": 22,
   "metadata": {},
   "outputs": [],
   "source": [
    "import matplotlib.pyplot as plt\n",
    "def plot_graphs(history, string):\n",
    "  plt.plot(history.history[string])\n",
    "  plt.xlabel(\"Epochs\")\n",
    "  plt.ylabel(string)\n",
    "  plt.show()"
   ]
  },
  {
   "cell_type": "code",
   "execution_count": 23,
   "metadata": {},
   "outputs": [
    {
     "data": {
      "image/png": "[encoded data removed]",
      "text/plain": [
       "<Figure size 432x288 with 1 Axes>"
      ]
     },
     "metadata": {
      "needs_background": "light"
     },
     "output_type": "display_data"
    }
   ],
   "source": [
    "plot_graphs(history, 'accuracy')"
   ]
  },
  {
   "cell_type": "code",
   "execution_count": 24,
   "metadata": {},
   "outputs": [
    {
     "name": "stdout",
     "output_type": "stream",
     "text": [
      "WARNING:tensorflow:From C:\\Users\\Yash\\AppData\\Local\\Temp/ipykernel_7996/3548191588.py:7: Sequential.predict_classes (from tensorflow.python.keras.engine.sequential) is deprecated and will be removed after 2021-01-01.\n",
      "Instructions for updating:\n",
      "Please use instead:* `np.argmax(model.predict(x), axis=-1)`,   if your model does multi-class classification   (e.g. if it uses a `softmax` last-layer activation).* `(model.predict(x) > 0.5).astype(\"int32\")`,   if your model does binary classification   (e.g. if it uses a `sigmoid` last-layer activation).\n"
     ]
    },
    {
     "name": "stderr",
     "output_type": "stream",
     "text": [
      "WARNING:tensorflow:From C:\\Users\\Yash\\AppData\\Local\\Temp/ipykernel_7996/3548191588.py:7: Sequential.predict_classes (from tensorflow.python.keras.engine.sequential) is deprecated and will be removed after 2021-01-01.\n",
      "Instructions for updating:\n",
      "Please use instead:* `np.argmax(model.predict(x), axis=-1)`,   if your model does multi-class classification   (e.g. if it uses a `softmax` last-layer activation).* `(model.predict(x) > 0.5).astype(\"int32\")`,   if your model does binary classification   (e.g. if it uses a `sigmoid` last-layer activation).\n"
     ]
    },
    {
     "name": "stdout",
     "output_type": "stream",
     "text": [
      "Laurence went to dublin til leg through lanigan hoops hoops rose had for new for stepped and ball all think ball ball all groups couples the rose ladies ladies runctions cried meelia murther mccarthy murther murther right glisten glisten glisten glisten right hoops rose rose runctions round rose rose a rose rose glisten hall had a rose glisten glisten glisten boys for for out and all relations gathered all nelly peggy make your eyes glisten hall glisten glisten glisten boys didnt youd a glisten hall glisten rose cried meelia murther glisten glisten boys relations didnt replied to call me a party for her youd\n"
     ]
    }
   ],
   "source": [
    "seed_text = \"Laurence went to dublin\"\n",
    "next_words = 100\n",
    "  \n",
    "for _ in range(next_words):\n",
    "\ttoken_list = tokenizer.texts_to_sequences([seed_text])[0]\n",
    "\ttoken_list = pad_sequences([token_list], maxlen=max_sequence_len-1, padding='pre')\n",
    "\tpredicted = model.predict_classes(token_list, verbose=0)\n",
    "\toutput_word = \"\"\n",
    "\tfor word, index in tokenizer.word_index.items():\n",
    "\t\tif index == predicted:\n",
    "\t\t\toutput_word = word\n",
    "\t\t\tbreak\n",
    "\tseed_text += \" \" + output_word\n",
    "print(seed_text)"
   ]
  }
 ],
 "metadata": {
  "interpreter": {
   "hash": "8a460da068ad21e825cd853dee63733b8b91400b72d458b93ad7c646498b211f"
  },
  "kernelspec": {
   "display_name": "Python 3.8.8 64-bit ('base': conda)",
   "language": "python",
   "name": "python3"
  },
  "language_info": {
   "codemirror_mode": {
    "name": "ipython",
    "version": 3
   },
   "file_extension": ".py",
   "mimetype": "text/x-python",
   "name": "python",
   "nbconvert_exporter": "python",
   "pygments_lexer": "ipython3",
   "version": "3.7.10"
  },
  "orig_nbformat": 4
 },
 "nbformat": 4,
 "nbformat_minor": 2
}
