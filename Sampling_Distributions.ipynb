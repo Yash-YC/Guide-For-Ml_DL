{
 "cells": [
  {
   "cell_type": "markdown",
   "source": [
    "## Population\r\n",
    "\r\n",
    "Term Population Is refered to large amount of data Set and sample is a subset of data from a larger data set.\r\n"
   ],
   "metadata": {}
  },
  {
   "cell_type": "markdown",
   "source": [
    "## Types of Sampling\r\n",
    "<img src=\"Images/Sampling.PNG\">\r\n",
    "\r\n"
   ],
   "metadata": {}
  },
  {
   "cell_type": "markdown",
   "source": [
    "### Probability Sampling (Equal chances)\r\n",
    "- Random Sampling \r\n",
    "\r\n",
    "Random sampling is a process in which each available member of the population being sampled has an equal chance of being chosen for the sample at each draw. The sample that results is called a simple random sample.\r\n",
    "\r\n",
    "Bias : Systematic error. \r\n",
    "\r\n",
    "Sample bias : A sample that misrepresents the population.\r\n",
    "\r\n",
    "- Systematic Sampling\r\n",
    "\r\n",
    "In this type of sampling, the first individual is selected randomly and others are selected using a fixed ‘sampling interval’.\r\n",
    "\r\n",
    "- Stratified Sampling\r\n",
    "\r\n",
    "In this type of sampling, we divide the population into subgroups (called strata) based on different traits like gender, category, etc. And then we select the sample(s) from these subgroups.\r\n",
    "\r\n",
    "- Cluster Sampling\r\n",
    "\r\n",
    "This type of sampling is used when we focus on a specific region or area.\r\n",
    "\r\n",
    "In a clustered sample, we use the subgroups of the population as the sampling unit rather than individuals. The population is divided into subgroups, known as clusters, and a whole cluster is randomly selected.\r\n"
   ],
   "metadata": {}
  },
  {
   "cell_type": "markdown",
   "source": [
    "### Non-Probability Sampling (No equal Chance)\r\n",
    "- convenience Sampling\r\n",
    "\r\n",
    "This is perhaps the easiest method of sampling because individuals are selected based on their availability and willingness to take part.\r\n",
    "\r\n",
    "- Quota Sampling\r\n",
    "\r\n",
    "In this type of sampling, we choose items based on predetermined characteristics of the population. Consider that we have to select individuals having a number in multiples of four\r\n",
    "\r\n",
    "- Judgment Sampling\r\n",
    "\r\n",
    "It is also known as selective sampling. It depends on the judgment of the experts when choosing whom to ask to participate.\r\n",
    "\r\n",
    "- Snowball Sampling\r\n",
    "\r\n",
    "In this type of sampling, Existing people are asked to nominate further people known to them so that the sample increases in size like a rolling snowball. This method of sampling is effective when a sampling frame is difficult to identify."
   ],
   "metadata": {}
  },
  {
   "cell_type": "markdown",
   "source": [
    "#### Selection Bias\r\n",
    "\r\n",
    "biases where each member of the population is chosen selectively (consciously or unconsciously) - which leads to misleading conclusion.\r\n",
    "\r\n",
    "#### Data snooping \r\n",
    "\r\n",
    "Extensive hunting through data in search of something interesting.\r\n",
    "\r\n",
    "#### Vast search effect \r\n",
    "\r\n",
    "Bias or nonreproducibility resulting from repeated data modeling, or modeling data with large numbers of predictor variables.\r\n"
   ],
   "metadata": {}
  },
  {
   "cell_type": "markdown",
   "source": [
    "## Sampling Distribution\r\n",
    "\r\n",
    "- Data distribution\r\n",
    "\r\n",
    "The frequency distribution of individual values in a data set.\r\n",
    "\r\n",
    "- Central limit theorem\r\n",
    "\r\n",
    "The tendency of the sampling distribution to take on a normal shape as sample size rises.\r\n",
    "\r\n",
    "<img src=\"Images/CLT.PNG\">\r\n",
    "\r\n",
    "- Standard error \r\n",
    "\r\n",
    "The variability (standard deviation) of a sample statistic over many samples (not to be confused with standard deviation, which by itself, refers to variability of individual data values).\r\n",
    "\r\n",
    "#### standard deviation (which measures the variability of individual data points) with standard error (which measures the variability of a sample metric).\r\n"
   ],
   "metadata": {}
  },
  {
   "cell_type": "markdown",
   "source": [
    "# The Bootstrap"
   ],
   "metadata": {}
  },
  {
   "cell_type": "markdown",
   "source": [
    "- Bootstrap Sampling is a method that involves drawing of sample data repeatedly with replacement from a data source to estimate a population parameter.\r\n",
    "\r\n",
    "Resampling : The process of taking repeated samples from observed data; includes both boot‐ strap and permutation (shuffling) procedures.\r\n",
    "\r\n",
    "Example\r\n",
    "\r\n",
    "Student Height.\r\n",
    "\r\n"
   ],
   "metadata": {}
  },
  {
   "cell_type": "markdown",
   "source": [
    "## Confidence Intervel vs Confidence Level \r\n",
    "\r\n",
    "onfidence levels are expressed as a percentage (for example, a 95% confidence level). It means that should you repeat an experiment or survey over and over again, 95 percent of the time your results will match the results you get from a population (in other words, your statistics would be sound!). Confidence intervals are your results and they are usually numbers. For example, you survey a group of pet owners to see how many cans of dog food they purchase a year. You test your statistic at the 99 percent confidence level and get a confidence interval of (200,300). That means you think they buy between 200 and 300 cans a year. You’re super confident (99% is a very high level!)\r\n",
    "\r\n",
    "To find we mostly use T-test"
   ],
   "metadata": {}
  },
  {
   "cell_type": "markdown",
   "source": [],
   "metadata": {}
  }
 ],
 "metadata": {
  "orig_nbformat": 4,
  "language_info": {
   "name": "python",
   "version": "3.9.6"
  },
  "kernelspec": {
   "name": "python3",
   "display_name": "Python 3.9.6 64-bit ('ML_algo': conda)"
  },
  "interpreter": {
   "hash": "3a32990f6da0d7abf7182fdf4d416d4dc1a912d9d1503f9139207ed8cae052ef"
  }
 },
 "nbformat": 4,
 "nbformat_minor": 2
}