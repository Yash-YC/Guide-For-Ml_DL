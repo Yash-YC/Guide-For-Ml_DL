{
 "cells": [
  {
   "cell_type": "code",
   "execution_count": 1,
   "source": [
    "import tensorflow as tf\r\n",
    "from tensorflow import keras\r\n",
    "fashion_mnist = keras.datasets.fashion_mnist \r\n",
    "(X_train_full, y_train_full), (X_test, y_test) = fashion_mnist.load_data()"
   ],
   "outputs": [
    {
     "output_type": "stream",
     "name": "stdout",
     "text": [
      "Downloading data from https://storage.googleapis.com/tensorflow/tf-keras-datasets/train-labels-idx1-ubyte.gz\n",
      "32768/29515 [=================================] - 0s 0us/step\n",
      "40960/29515 [=========================================] - 0s 0us/step\n",
      "Downloading data from https://storage.googleapis.com/tensorflow/tf-keras-datasets/train-images-idx3-ubyte.gz\n",
      "26427392/26421880 [==============================] - 6s 0us/step\n",
      "26435584/26421880 [==============================] - 6s 0us/step\n",
      "Downloading data from https://storage.googleapis.com/tensorflow/tf-keras-datasets/t10k-labels-idx1-ubyte.gz\n",
      "16384/5148 [===============================================================================================] - 0s 0s/step\n",
      "Downloading data from https://storage.googleapis.com/tensorflow/tf-keras-datasets/t10k-images-idx3-ubyte.gz\n",
      "4423680/4422102 [==============================] - 1s 0us/step\n",
      "4431872/4422102 [==============================] - 1s 0us/step\n"
     ]
    }
   ],
   "metadata": {}
  },
  {
   "cell_type": "code",
   "execution_count": 2,
   "source": [
    "print(y_train_full.shape)\r\n",
    "X_train_full.shape"
   ],
   "outputs": [
    {
     "output_type": "stream",
     "name": "stdout",
     "text": [
      "(60000,)\n"
     ]
    },
    {
     "output_type": "execute_result",
     "data": {
      "text/plain": [
       "(60000, 28, 28)"
      ]
     },
     "metadata": {},
     "execution_count": 2
    }
   ],
   "metadata": {}
  },
  {
   "cell_type": "code",
   "execution_count": 3,
   "source": [
    "X_valid, X_train = X_train_full[:5000] / 255.0, X_train_full[5000:] / 255.0 \r\n",
    "y_valid, y_train = y_train_full[:5000], y_train_full[5000:]"
   ],
   "outputs": [],
   "metadata": {}
  },
  {
   "cell_type": "code",
   "execution_count": 4,
   "source": [
    "class_names = [\"T-shirt/top\", \"Trouser\", \"Pullover\", \"Dress\", \"Coat\", \"Sandal\", \"Shirt\", \"Sneaker\", \"Bag\", \"Ankle boot\"]"
   ],
   "outputs": [],
   "metadata": {}
  },
  {
   "cell_type": "code",
   "execution_count": 5,
   "source": [
    "class_names[y_train[0]]"
   ],
   "outputs": [
    {
     "output_type": "execute_result",
     "data": {
      "text/plain": [
       "'Coat'"
      ]
     },
     "metadata": {},
     "execution_count": 5
    }
   ],
   "metadata": {}
  },
  {
   "cell_type": "code",
   "execution_count": 8,
   "source": [
    "model = keras.models.Sequential() \r\n",
    "model = keras.models.Sequential([ keras.layers.Flatten(input_shape=[28, 28]), \r\n",
    "keras.layers.Dense(300, activation=\"relu\"), \r\n",
    "keras.layers.Dense(100, activation=\"relu\"), \r\n",
    "keras.layers.Dense(10, activation=\"softmax\") ])"
   ],
   "outputs": [],
   "metadata": {}
  },
  {
   "cell_type": "code",
   "execution_count": 9,
   "source": [
    "model.summary()"
   ],
   "outputs": [
    {
     "output_type": "stream",
     "name": "stdout",
     "text": [
      "Model: \"sequential_2\"\n",
      "_________________________________________________________________\n",
      "Layer (type)                 Output Shape              Param #   \n",
      "=================================================================\n",
      "flatten_1 (Flatten)          (None, 784)               0         \n",
      "_________________________________________________________________\n",
      "dense_3 (Dense)              (None, 300)               235500    \n",
      "_________________________________________________________________\n",
      "dense_4 (Dense)              (None, 100)               30100     \n",
      "_________________________________________________________________\n",
      "dense_5 (Dense)              (None, 10)                1010      \n",
      "=================================================================\n",
      "Total params: 266,610\n",
      "Trainable params: 266,610\n",
      "Non-trainable params: 0\n",
      "_________________________________________________________________\n"
     ]
    }
   ],
   "metadata": {}
  },
  {
   "cell_type": "code",
   "execution_count": 10,
   "source": [
    "model.layers"
   ],
   "outputs": [
    {
     "output_type": "execute_result",
     "data": {
      "text/plain": [
       "[<keras.layers.core.Flatten at 0x1bf558c7670>,\n",
       " <keras.layers.core.Dense at 0x1bf047d2ca0>,\n",
       " <keras.layers.core.Dense at 0x1bf38bae5e0>,\n",
       " <keras.layers.core.Dense at 0x1bf558e34f0>]"
      ]
     },
     "metadata": {},
     "execution_count": 10
    }
   ],
   "metadata": {}
  },
  {
   "cell_type": "code",
   "execution_count": 14,
   "source": [
    "model.compile(loss=\"sparse_categorical_crossentropy\", optimizer=\"sgd\", metrics=[\"accuracy\"])"
   ],
   "outputs": [],
   "metadata": {}
  },
  {
   "cell_type": "code",
   "execution_count": 17,
   "source": [
    "history = model.fit(X_train, y_train, epochs=50, validation_data=(X_valid, y_valid))"
   ],
   "outputs": [
    {
     "output_type": "stream",
     "name": "stdout",
     "text": [
      "Epoch 1/50\n",
      "1719/1719 [==============================] - 7s 4ms/step - loss: 0.2216 - accuracy: 0.9207 - val_loss: 0.3083 - val_accuracy: 0.8878\n",
      "Epoch 2/50\n",
      "1719/1719 [==============================] - 6s 4ms/step - loss: 0.2183 - accuracy: 0.9216 - val_loss: 0.2965 - val_accuracy: 0.8968\n",
      "Epoch 3/50\n",
      "1719/1719 [==============================] - 6s 3ms/step - loss: 0.2152 - accuracy: 0.9220 - val_loss: 0.2975 - val_accuracy: 0.8938\n",
      "Epoch 4/50\n",
      "1719/1719 [==============================] - 6s 3ms/step - loss: 0.2121 - accuracy: 0.9242 - val_loss: 0.2932 - val_accuracy: 0.8942\n",
      "Epoch 5/50\n",
      "1719/1719 [==============================] - 6s 3ms/step - loss: 0.2083 - accuracy: 0.9258 - val_loss: 0.2993 - val_accuracy: 0.8922\n",
      "Epoch 6/50\n",
      "1719/1719 [==============================] - 6s 3ms/step - loss: 0.2037 - accuracy: 0.9267 - val_loss: 0.2973 - val_accuracy: 0.8904\n",
      "Epoch 7/50\n",
      "1719/1719 [==============================] - 6s 3ms/step - loss: 0.2017 - accuracy: 0.9274 - val_loss: 0.2929 - val_accuracy: 0.8924\n",
      "Epoch 8/50\n",
      "1719/1719 [==============================] - 6s 3ms/step - loss: 0.1993 - accuracy: 0.9284 - val_loss: 0.2890 - val_accuracy: 0.8912\n",
      "Epoch 9/50\n",
      "1719/1719 [==============================] - 6s 3ms/step - loss: 0.1956 - accuracy: 0.9308 - val_loss: 0.2893 - val_accuracy: 0.8938\n",
      "Epoch 10/50\n",
      "1719/1719 [==============================] - 6s 3ms/step - loss: 0.1926 - accuracy: 0.9311 - val_loss: 0.3108 - val_accuracy: 0.8880\n",
      "Epoch 11/50\n",
      "1719/1719 [==============================] - 6s 3ms/step - loss: 0.1904 - accuracy: 0.9317 - val_loss: 0.2951 - val_accuracy: 0.8934\n",
      "Epoch 12/50\n",
      "1719/1719 [==============================] - 6s 3ms/step - loss: 0.1864 - accuracy: 0.9335 - val_loss: 0.2969 - val_accuracy: 0.8936\n",
      "Epoch 13/50\n",
      "1719/1719 [==============================] - 6s 3ms/step - loss: 0.1841 - accuracy: 0.9342 - val_loss: 0.3114 - val_accuracy: 0.8872\n",
      "Epoch 14/50\n",
      "1719/1719 [==============================] - 6s 3ms/step - loss: 0.1817 - accuracy: 0.9359 - val_loss: 0.3225 - val_accuracy: 0.8922\n",
      "Epoch 15/50\n",
      "1719/1719 [==============================] - 6s 3ms/step - loss: 0.1786 - accuracy: 0.9372 - val_loss: 0.2917 - val_accuracy: 0.8964\n",
      "Epoch 16/50\n",
      "1719/1719 [==============================] - 6s 3ms/step - loss: 0.1765 - accuracy: 0.9375 - val_loss: 0.2963 - val_accuracy: 0.8938\n",
      "Epoch 17/50\n",
      "1719/1719 [==============================] - 6s 3ms/step - loss: 0.1724 - accuracy: 0.9383 - val_loss: 0.2999 - val_accuracy: 0.8936\n",
      "Epoch 18/50\n",
      "1719/1719 [==============================] - 6s 3ms/step - loss: 0.1710 - accuracy: 0.9387 - val_loss: 0.3163 - val_accuracy: 0.8890\n",
      "Epoch 19/50\n",
      "1719/1719 [==============================] - 6s 3ms/step - loss: 0.1684 - accuracy: 0.9402 - val_loss: 0.2940 - val_accuracy: 0.8972\n",
      "Epoch 20/50\n",
      "1719/1719 [==============================] - 6s 3ms/step - loss: 0.1651 - accuracy: 0.9409 - val_loss: 0.3110 - val_accuracy: 0.8880\n",
      "Epoch 21/50\n",
      "1719/1719 [==============================] - 6s 3ms/step - loss: 0.1631 - accuracy: 0.9421 - val_loss: 0.3037 - val_accuracy: 0.8936\n",
      "Epoch 22/50\n",
      "1719/1719 [==============================] - 6s 3ms/step - loss: 0.1609 - accuracy: 0.9427 - val_loss: 0.3094 - val_accuracy: 0.8914\n",
      "Epoch 23/50\n",
      "1719/1719 [==============================] - 6s 3ms/step - loss: 0.1561 - accuracy: 0.9449 - val_loss: 0.3045 - val_accuracy: 0.8876\n",
      "Epoch 24/50\n",
      "1719/1719 [==============================] - 6s 3ms/step - loss: 0.1560 - accuracy: 0.9451 - val_loss: 0.3014 - val_accuracy: 0.8960\n",
      "Epoch 25/50\n",
      "1719/1719 [==============================] - 6s 3ms/step - loss: 0.1532 - accuracy: 0.9457 - val_loss: 0.3054 - val_accuracy: 0.8934\n",
      "Epoch 26/50\n",
      "1719/1719 [==============================] - 6s 3ms/step - loss: 0.1511 - accuracy: 0.9462 - val_loss: 0.3227 - val_accuracy: 0.8882\n",
      "Epoch 27/50\n",
      "1719/1719 [==============================] - 6s 3ms/step - loss: 0.1482 - accuracy: 0.9475 - val_loss: 0.2978 - val_accuracy: 0.8972\n",
      "Epoch 28/50\n",
      "1719/1719 [==============================] - 6s 4ms/step - loss: 0.1465 - accuracy: 0.9487 - val_loss: 0.2996 - val_accuracy: 0.8978\n",
      "Epoch 29/50\n",
      "1719/1719 [==============================] - 6s 3ms/step - loss: 0.1437 - accuracy: 0.9489 - val_loss: 0.3349 - val_accuracy: 0.8892\n",
      "Epoch 30/50\n",
      "1719/1719 [==============================] - 6s 3ms/step - loss: 0.1424 - accuracy: 0.9504 - val_loss: 0.3113 - val_accuracy: 0.8922\n",
      "Epoch 31/50\n",
      "1719/1719 [==============================] - 6s 3ms/step - loss: 0.1395 - accuracy: 0.9513 - val_loss: 0.3050 - val_accuracy: 0.8964\n",
      "Epoch 32/50\n",
      "1719/1719 [==============================] - 6s 3ms/step - loss: 0.1370 - accuracy: 0.9511 - val_loss: 0.3686 - val_accuracy: 0.8730\n",
      "Epoch 33/50\n",
      "1719/1719 [==============================] - 6s 3ms/step - loss: 0.1356 - accuracy: 0.9517 - val_loss: 0.3290 - val_accuracy: 0.8854\n",
      "Epoch 34/50\n",
      "1719/1719 [==============================] - 6s 3ms/step - loss: 0.1322 - accuracy: 0.9539 - val_loss: 0.3059 - val_accuracy: 0.8954\n",
      "Epoch 35/50\n",
      "1719/1719 [==============================] - 6s 3ms/step - loss: 0.1307 - accuracy: 0.9535 - val_loss: 0.3208 - val_accuracy: 0.8946\n",
      "Epoch 36/50\n",
      "1719/1719 [==============================] - 6s 3ms/step - loss: 0.1287 - accuracy: 0.9545 - val_loss: 0.3107 - val_accuracy: 0.8972\n",
      "Epoch 37/50\n",
      "1719/1719 [==============================] - 6s 3ms/step - loss: 0.1269 - accuracy: 0.9549 - val_loss: 0.3157 - val_accuracy: 0.8964\n",
      "Epoch 38/50\n",
      "1719/1719 [==============================] - 6s 3ms/step - loss: 0.1244 - accuracy: 0.9565 - val_loss: 0.3278 - val_accuracy: 0.8956\n",
      "Epoch 39/50\n",
      "1719/1719 [==============================] - 6s 4ms/step - loss: 0.1238 - accuracy: 0.9563 - val_loss: 0.3298 - val_accuracy: 0.8934\n",
      "Epoch 40/50\n",
      "1719/1719 [==============================] - 7s 4ms/step - loss: 0.1201 - accuracy: 0.9583 - val_loss: 0.3331 - val_accuracy: 0.8904\n",
      "Epoch 41/50\n",
      "1719/1719 [==============================] - 6s 3ms/step - loss: 0.1184 - accuracy: 0.9584 - val_loss: 0.3345 - val_accuracy: 0.8922\n",
      "Epoch 42/50\n",
      "1719/1719 [==============================] - 6s 3ms/step - loss: 0.1159 - accuracy: 0.9604 - val_loss: 0.3185 - val_accuracy: 0.8922\n",
      "Epoch 43/50\n",
      "1719/1719 [==============================] - 6s 3ms/step - loss: 0.1141 - accuracy: 0.9611 - val_loss: 0.3218 - val_accuracy: 0.8968\n",
      "Epoch 44/50\n",
      "1719/1719 [==============================] - 6s 3ms/step - loss: 0.1139 - accuracy: 0.9595 - val_loss: 0.3155 - val_accuracy: 0.8990\n",
      "Epoch 45/50\n",
      "1719/1719 [==============================] - 6s 3ms/step - loss: 0.1123 - accuracy: 0.9608 - val_loss: 0.3372 - val_accuracy: 0.8948\n",
      "Epoch 46/50\n",
      "1719/1719 [==============================] - 6s 3ms/step - loss: 0.1098 - accuracy: 0.9615 - val_loss: 0.3259 - val_accuracy: 0.8938\n",
      "Epoch 47/50\n",
      "1719/1719 [==============================] - 6s 3ms/step - loss: 0.1085 - accuracy: 0.9627 - val_loss: 0.3337 - val_accuracy: 0.8956\n",
      "Epoch 48/50\n",
      "1719/1719 [==============================] - 6s 3ms/step - loss: 0.1057 - accuracy: 0.9635 - val_loss: 0.3569 - val_accuracy: 0.8912\n",
      "Epoch 49/50\n",
      "1719/1719 [==============================] - 6s 3ms/step - loss: 0.1044 - accuracy: 0.9641 - val_loss: 0.3211 - val_accuracy: 0.8974\n",
      "Epoch 50/50\n",
      "1719/1719 [==============================] - 6s 3ms/step - loss: 0.1033 - accuracy: 0.9643 - val_loss: 0.3496 - val_accuracy: 0.8860\n"
     ]
    }
   ],
   "metadata": {}
  },
  {
   "cell_type": "code",
   "execution_count": 18,
   "source": [
    "import pandas as pd\r\n",
    "import matplotlib.pyplot as plt\r\n",
    "pd.DataFrame(history.history).plot(figsize=(8, 5)) \r\n",
    "plt.grid(True) \r\n",
    "plt.gca().set_ylim(0, 1) # set the vertical range to [0-1] plt.show()"
   ],
   "outputs": [
    {
     "output_type": "execute_result",
     "data": {
      "text/plain": [
       "(0.0, 1.0)"
      ]
     },
     "metadata": {},
     "execution_count": 18
    },
    {
     "output_type": "display_data",
     "data": {
      "image/png": "[encoded data removed]",
      "text/plain": [
       "<Figure size 576x360 with 1 Axes>"
      ]
     },
     "metadata": {
      "needs_background": "light"
     }
    }
   ],
   "metadata": {}
  },
  {
   "cell_type": "code",
   "execution_count": 21,
   "source": [
    "model.evaluate(X_test, y_test)"
   ],
   "outputs": [
    {
     "output_type": "stream",
     "name": "stdout",
     "text": [
      "313/313 [==============================] - 2s 4ms/step - loss: 81.4717 - accuracy: 0.8522\n"
     ]
    },
    {
     "output_type": "execute_result",
     "data": {
      "text/plain": [
       "[81.4716567993164, 0.8521999716758728]"
      ]
     },
     "metadata": {},
     "execution_count": 21
    }
   ],
   "metadata": {}
  },
  {
   "cell_type": "code",
   "execution_count": 22,
   "source": [
    "X_new = X_test[:3]\r\n"
   ],
   "outputs": [
    {
     "output_type": "execute_result",
     "data": {
      "text/plain": [
       "array([[0., 0., 0., 0., 0., 0., 0., 0., 0., 1.],\n",
       "       [0., 0., 1., 0., 0., 0., 0., 0., 0., 0.],\n",
       "       [0., 1., 0., 0., 0., 0., 0., 0., 0., 0.]], dtype=float32)"
      ]
     },
     "metadata": {},
     "execution_count": 22
    }
   ],
   "metadata": {}
  },
  {
   "cell_type": "code",
   "execution_count": 45,
   "source": [
    "import numpy as np\r\n",
    "X_new = X_test[:3]\r\n",
    "y_pred= model.predict(X_new)\r\n",
    "print(y_pred) \r\n",
    "y_classes= np.argmax(y_pred,axis=1)\r\n",
    "y_classes"
   ],
   "outputs": [
    {
     "output_type": "stream",
     "name": "stdout",
     "text": [
      "[[0. 0. 0. 0. 0. 0. 0. 0. 0. 1.]\n",
      " [0. 0. 1. 0. 0. 0. 0. 0. 0. 0.]\n",
      " [0. 1. 0. 0. 0. 0. 0. 0. 0. 0.]]\n"
     ]
    },
    {
     "output_type": "execute_result",
     "data": {
      "text/plain": [
       "array([9, 2, 1], dtype=int64)"
      ]
     },
     "metadata": {},
     "execution_count": 45
    }
   ],
   "metadata": {}
  },
  {
   "cell_type": "code",
   "execution_count": 46,
   "source": [
    "np.array(class_names)[y_classes]"
   ],
   "outputs": [
    {
     "output_type": "execute_result",
     "data": {
      "text/plain": [
       "array(['Ankle boot', 'Pullover', 'Trouser'], dtype='<U11')"
      ]
     },
     "metadata": {},
     "execution_count": 46
    }
   ],
   "metadata": {}
  },
  {
   "cell_type": "code",
   "execution_count": null,
   "source": [],
   "outputs": [],
   "metadata": {}
  }
 ],
 "metadata": {
  "orig_nbformat": 4,
  "language_info": {
   "name": "python",
   "version": "3.9.6",
   "mimetype": "text/x-python",
   "codemirror_mode": {
    "name": "ipython",
    "version": 3
   },
   "pygments_lexer": "ipython3",
   "nbconvert_exporter": "python",
   "file_extension": ".py"
  },
  "kernelspec": {
   "name": "python3",
   "display_name": "Python 3.9.6 64-bit ('ML_algo': conda)"
  },
  "interpreter": {
   "hash": "3a32990f6da0d7abf7182fdf4d416d4dc1a912d9d1503f9139207ed8cae052ef"
  }
 },
 "nbformat": 4,
 "nbformat_minor": 2
}