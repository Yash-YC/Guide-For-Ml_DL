{
 "cells": [
  {
   "cell_type": "markdown",
   "metadata": {},
   "source": [
    "## **Feedforward Neural Network**"
   ]
  },
  {
   "cell_type": "markdown",
   "metadata": {},
   "source": [
    "It is also called as MLP's( Multi layers Preceptron's)\n",
    "\n",
    "The goal of a feedforward network is to approximate some function .\n",
    "\n",
    "For example, for a classifier, **y = f(x)** maps an input **x** to a category **y**. \n",
    "\n",
    "A feedforward network defines a mapping **y = f(x; θ)** and learns the value of the parameters **θ** that result in the best function approximation.\n",
    "\n",
    "These models are called feedforward because information flows through the function being evaluated from **x**, through the intermediate computations used to define **f** , and finally to the output **y**. There are no feedback connections in which outputs of the model are fed back into itself.\n",
    "\n",
    "When feedforward neural networks are extended to include feedback connections, they are called recurrent neural networks,\n"
   ]
  }
 ],
 "metadata": {
  "interpreter": {
   "hash": "8a460da068ad21e825cd853dee63733b8b91400b72d458b93ad7c646498b211f"
  },
  "kernelspec": {
   "display_name": "Python 3.8.8 64-bit ('base': conda)",
   "name": "python3"
  },
  "language_info": {
   "codemirror_mode": {
    "name": "ipython",
    "version": 3
   },
   "file_extension": ".py",
   "mimetype": "text/x-python",
   "name": "python",
   "nbconvert_exporter": "python",
   "pygments_lexer": "ipython3",
   "version": "3.8.8"
  },
  "orig_nbformat": 4
 },
 "nbformat": 4,
 "nbformat_minor": 2
}
