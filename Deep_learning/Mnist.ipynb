{
 "cells": [
  {
   "cell_type": "code",
   "execution_count": 42,
   "metadata": {},
   "outputs": [],
   "source": [
    "import tensorflow\n",
    "from tensorflow import keras\n",
    "from tensorflow.keras import Sequential\n",
    "from tensorflow.keras.layers import Flatten,Dense"
   ]
  },
  {
   "cell_type": "code",
   "execution_count": 43,
   "metadata": {},
   "outputs": [],
   "source": [
    "(X_train,y_train),(X_test,y_test) = keras.datasets.mnist.load_data()"
   ]
  },
  {
   "cell_type": "code",
   "execution_count": 44,
   "metadata": {},
   "outputs": [
    {
     "data": {
      "text/plain": [
       "'(60000, 28, 28) (60000,) (10000, 28, 28) (10000,)'"
      ]
     },
     "execution_count": 44,
     "metadata": {},
     "output_type": "execute_result"
    }
   ],
   "source": [
    "f\"{X_train.shape} {y_train.shape} {X_test.shape} {y_test.shape}\" "
   ]
  },
  {
   "cell_type": "code",
   "execution_count": 45,
   "metadata": {},
   "outputs": [],
   "source": [
    "import matplotlib.pyplot as plt"
   ]
  },
  {
   "cell_type": "code",
   "execution_count": 46,
   "metadata": {},
   "outputs": [
    {
     "data": {
      "text/plain": [
       "<matplotlib.image.AxesImage at 0x15da478d648>"
      ]
     },
     "execution_count": 46,
     "metadata": {},
     "output_type": "execute_result"
    },
    {
     "data": {
      "image/png": "[encoded data removed]",
      "text/plain": [
       "<Figure size 432x288 with 1 Axes>"
      ]
     },
     "metadata": {
      "needs_background": "light"
     },
     "output_type": "display_data"
    }
   ],
   "source": [
    "plt.imshow(X_train[0])"
   ]
  },
  {
   "cell_type": "code",
   "execution_count": 47,
   "metadata": {},
   "outputs": [],
   "source": [
    "X_train = X_train/255\n",
    "X_test = X_test/255"
   ]
  },
  {
   "cell_type": "code",
   "execution_count": 48,
   "metadata": {},
   "outputs": [],
   "source": [
    "model = Sequential()"
   ]
  },
  {
   "cell_type": "code",
   "execution_count": 49,
   "metadata": {},
   "outputs": [],
   "source": [
    "model.add(Flatten(input_shape = (28,28)))\n",
    "model.add(Dense(128,activation='relu'))\n",
    "model.add(Dense(10,activation='softmax'))"
   ]
  },
  {
   "cell_type": "code",
   "execution_count": 50,
   "metadata": {},
   "outputs": [
    {
     "name": "stdout",
     "output_type": "stream",
     "text": [
      "Model: \"sequential_1\"\n",
      "_________________________________________________________________\n",
      "Layer (type)                 Output Shape              Param #   \n",
      "=================================================================\n",
      "flatten_1 (Flatten)          (None, 784)               0         \n",
      "_________________________________________________________________\n",
      "dense_2 (Dense)              (None, 128)               100480    \n",
      "_________________________________________________________________\n",
      "dense_3 (Dense)              (None, 10)                1290      \n",
      "=================================================================\n",
      "Total params: 101,770\n",
      "Trainable params: 101,770\n",
      "Non-trainable params: 0\n",
      "_________________________________________________________________\n"
     ]
    }
   ],
   "source": [
    "model.summary()"
   ]
  },
  {
   "cell_type": "code",
   "execution_count": 51,
   "metadata": {},
   "outputs": [],
   "source": [
    "model.compile(optimizer='Adam', loss ='sparse_categorical_crossentropy',metrics=['accuracy'] )"
   ]
  },
  {
   "cell_type": "code",
   "execution_count": 52,
   "metadata": {},
   "outputs": [
    {
     "name": "stdout",
     "output_type": "stream",
     "text": [
      "Epoch 1/20\n",
      "750/750 [==============================] - 2s 3ms/step - loss: 0.3313 - accuracy: 0.9073 - val_loss: 0.1837 - val_accuracy: 0.9491\n",
      "Epoch 2/20\n",
      "750/750 [==============================] - 2s 2ms/step - loss: 0.1513 - accuracy: 0.9563 - val_loss: 0.1344 - val_accuracy: 0.9611\n",
      "Epoch 3/20\n",
      "750/750 [==============================] - 2s 2ms/step - loss: 0.1065 - accuracy: 0.9694 - val_loss: 0.1189 - val_accuracy: 0.9663\n",
      "Epoch 4/20\n",
      "750/750 [==============================] - 2s 2ms/step - loss: 0.0803 - accuracy: 0.9766 - val_loss: 0.1073 - val_accuracy: 0.9679\n",
      "Epoch 5/20\n",
      "750/750 [==============================] - 2s 2ms/step - loss: 0.0632 - accuracy: 0.9820 - val_loss: 0.0962 - val_accuracy: 0.9728\n",
      "Epoch 6/20\n",
      "750/750 [==============================] - 2s 2ms/step - loss: 0.0509 - accuracy: 0.9851 - val_loss: 0.0903 - val_accuracy: 0.9734\n",
      "Epoch 7/20\n",
      "750/750 [==============================] - 1s 2ms/step - loss: 0.0399 - accuracy: 0.9890 - val_loss: 0.0888 - val_accuracy: 0.9741\n",
      "Epoch 8/20\n",
      "750/750 [==============================] - 2s 2ms/step - loss: 0.0332 - accuracy: 0.9911 - val_loss: 0.0891 - val_accuracy: 0.9734\n",
      "Epoch 9/20\n",
      "750/750 [==============================] - 1s 2ms/step - loss: 0.0268 - accuracy: 0.9927 - val_loss: 0.0902 - val_accuracy: 0.9753\n",
      "Epoch 10/20\n",
      "750/750 [==============================] - 1s 2ms/step - loss: 0.0224 - accuracy: 0.9940 - val_loss: 0.0926 - val_accuracy: 0.9750\n",
      "Epoch 11/20\n",
      "750/750 [==============================] - 1s 2ms/step - loss: 0.0186 - accuracy: 0.9951 - val_loss: 0.0947 - val_accuracy: 0.9761\n",
      "Epoch 12/20\n",
      "750/750 [==============================] - 2s 2ms/step - loss: 0.0150 - accuracy: 0.9964 - val_loss: 0.0912 - val_accuracy: 0.9762\n",
      "Epoch 13/20\n",
      "750/750 [==============================] - 2s 2ms/step - loss: 0.0128 - accuracy: 0.9967 - val_loss: 0.0928 - val_accuracy: 0.9759\n",
      "Epoch 14/20\n",
      "750/750 [==============================] - 1s 2ms/step - loss: 0.0099 - accuracy: 0.9980 - val_loss: 0.0939 - val_accuracy: 0.9768\n",
      "Epoch 15/20\n",
      "750/750 [==============================] - 2s 2ms/step - loss: 0.0105 - accuracy: 0.9974 - val_loss: 0.0996 - val_accuracy: 0.9772\n",
      "Epoch 16/20\n",
      "750/750 [==============================] - 1s 2ms/step - loss: 0.0076 - accuracy: 0.9983 - val_loss: 0.0989 - val_accuracy: 0.9768\n",
      "Epoch 17/20\n",
      "750/750 [==============================] - 1s 2ms/step - loss: 0.0066 - accuracy: 0.9987 - val_loss: 0.1003 - val_accuracy: 0.9758\n",
      "Epoch 18/20\n",
      "750/750 [==============================] - 2s 2ms/step - loss: 0.0048 - accuracy: 0.9991 - val_loss: 0.1245 - val_accuracy: 0.9737\n",
      "Epoch 19/20\n",
      "750/750 [==============================] - 1s 2ms/step - loss: 0.0064 - accuracy: 0.9985 - val_loss: 0.1142 - val_accuracy: 0.9754\n",
      "Epoch 20/20\n",
      "750/750 [==============================] - 1s 2ms/step - loss: 0.0053 - accuracy: 0.9988 - val_loss: 0.1116 - val_accuracy: 0.9758\n"
     ]
    }
   ],
   "source": [
    "history = model.fit(X_train,y_train,batch_size=64,epochs = 20,verbose = 1,validation_split= 0.2)"
   ]
  },
  {
   "cell_type": "code",
   "execution_count": 53,
   "metadata": {},
   "outputs": [
    {
     "name": "stdout",
     "output_type": "stream",
     "text": [
      "313/313 [==============================] - 0s 936us/step - loss: 0.1003 - accuracy: 0.9749\n"
     ]
    },
    {
     "data": {
      "text/plain": [
       "[0.1002637967467308, 0.9749000072479248]"
      ]
     },
     "execution_count": 53,
     "metadata": {},
     "output_type": "execute_result"
    }
   ],
   "source": [
    "model.evaluate(X_test,y_test)"
   ]
  },
  {
   "cell_type": "code",
   "execution_count": 54,
   "metadata": {},
   "outputs": [
    {
     "data": {
      "text/plain": [
       "array([[3.1228164e-10, 4.9066332e-14, 4.3055741e-09, ..., 9.9997699e-01,\n",
       "        3.6112151e-11, 1.2334199e-08],\n",
       "       [2.9641955e-13, 4.8545189e-07, 9.9999952e-01, ..., 1.7247315e-20,\n",
       "        1.7162280e-10, 2.7211936e-24],\n",
       "       [9.0673247e-09, 9.9983644e-01, 1.0825246e-05, ..., 4.4252272e-05,\n",
       "        1.0772728e-04, 8.3388962e-10],\n",
       "       ...,\n",
       "       [8.5070366e-19, 4.8967132e-18, 3.9744121e-19, ..., 5.9300611e-12,\n",
       "        1.3250109e-13, 6.8188100e-08],\n",
       "       [4.6760559e-20, 4.3219710e-21, 8.4924603e-16, ..., 3.4394232e-19,\n",
       "        1.5019449e-08, 1.0958216e-20],\n",
       "       [6.7497948e-14, 3.3827688e-19, 9.4227354e-16, ..., 2.3625407e-22,\n",
       "        5.9674472e-16, 1.0642863e-17]], dtype=float32)"
      ]
     },
     "execution_count": 54,
     "metadata": {},
     "output_type": "execute_result"
    }
   ],
   "source": [
    "model.predict(X_test)"
   ]
  },
  {
   "cell_type": "code",
   "execution_count": 55,
   "metadata": {},
   "outputs": [
    {
     "data": {
      "text/plain": [
       "array([7, 2, 1, ..., 4, 5, 6], dtype=int64)"
      ]
     },
     "execution_count": 55,
     "metadata": {},
     "output_type": "execute_result"
    }
   ],
   "source": [
    "model.predict_classes(X_test)"
   ]
  },
  {
   "cell_type": "code",
   "execution_count": 56,
   "metadata": {},
   "outputs": [
    {
     "data": {
      "text/plain": [
       "[<matplotlib.lines.Line2D at 0x15da773d948>]"
      ]
     },
     "execution_count": 56,
     "metadata": {},
     "output_type": "execute_result"
    },
    {
     "data": {
      "image/png": "[encoded data removed]",
      "text/plain": [
       "<Figure size 432x288 with 1 Axes>"
      ]
     },
     "metadata": {
      "needs_background": "light"
     },
     "output_type": "display_data"
    }
   ],
   "source": [
    "plt.plot(history.history['loss'])\n",
    "plt.plot(history.history['val_loss'])"
   ]
  }
 ],
 "metadata": {
  "interpreter": {
   "hash": "ed0756f5960a631e3dd683117ae6243e966d5a08d07ac0421c72495d07fb007b"
  },
  "kernelspec": {
   "display_name": "Python 3.7.10 64-bit ('Tf': conda)",
   "language": "python",
   "name": "python3"
  },
  "language_info": {
   "codemirror_mode": {
    "name": "ipython",
    "version": 3
   },
   "file_extension": ".py",
   "mimetype": "text/x-python",
   "name": "python",
   "nbconvert_exporter": "python",
   "pygments_lexer": "ipython3",
   "version": "3.7.10"
  },
  "orig_nbformat": 4
 },
 "nbformat": 4,
 "nbformat_minor": 2
}
