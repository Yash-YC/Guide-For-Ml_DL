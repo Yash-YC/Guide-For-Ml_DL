{
 "cells": [
  {
   "cell_type": "code",
   "execution_count": 36,
   "source": [
    "import numpy as np\r\n",
    "from sklearn.linear_model import Perceptron\r\n",
    "from sklearn.datasets import load_iris\r\n",
    "from sklearn.linear_model import SGDClassifier"
   ],
   "outputs": [],
   "metadata": {}
  },
  {
   "cell_type": "code",
   "execution_count": 37,
   "source": [
    "data = load_iris()\r\n",
    "X = data.data[:, (2,3)]\r\n",
    "Y = (data.target == 0).astype(np.int)"
   ],
   "outputs": [
    {
     "output_type": "stream",
     "name": "stderr",
     "text": [
      "C:\\Users\\Yash\\AppData\\Local\\Temp/ipykernel_15736/3917511036.py:3: DeprecationWarning: `np.int` is a deprecated alias for the builtin `int`. To silence this warning, use `int` by itself. Doing this will not modify any behavior and is safe. When replacing `np.int`, you may wish to use e.g. `np.int64` or `np.int32` to specify the precision. If you wish to review your current use, check the release note link for additional information.\n",
      "Deprecated in NumPy 1.20; for more details and guidance: https://numpy.org/devdocs/release/1.20.0-notes.html#deprecations\n",
      "  Y = (data.target == 0).astype(np.int)\n"
     ]
    }
   ],
   "metadata": {}
  },
  {
   "cell_type": "code",
   "execution_count": 38,
   "source": [
    "model  = Perceptron()\r\n",
    "model1 = SGDClassifier(loss=\"perceptron\", learning_rate=\"constant\", eta0=1 , penalty=None)\r\n",
    "model.fit(X,Y)\r\n",
    "model1.fit(X,Y)"
   ],
   "outputs": [
    {
     "output_type": "execute_result",
     "data": {
      "text/plain": [
       "SGDClassifier(eta0=1, learning_rate='constant', loss='perceptron', penalty=None)"
      ]
     },
     "metadata": {},
     "execution_count": 38
    }
   ],
   "metadata": {}
  },
  {
   "cell_type": "code",
   "execution_count": 40,
   "source": [
    "print(model.predict([[2, 0.5]]))\r\n",
    "print(model1.predict([[2, 0.5]]))"
   ],
   "outputs": [
    {
     "output_type": "stream",
     "name": "stdout",
     "text": [
      "[0]\n",
      "[1]\n"
     ]
    }
   ],
   "metadata": {}
  }
 ],
 "metadata": {
  "orig_nbformat": 4,
  "language_info": {
   "name": "python",
   "version": "3.9.6",
   "mimetype": "text/x-python",
   "codemirror_mode": {
    "name": "ipython",
    "version": 3
   },
   "pygments_lexer": "ipython3",
   "nbconvert_exporter": "python",
   "file_extension": ".py"
  },
  "kernelspec": {
   "name": "python3",
   "display_name": "Python 3.9.6 64-bit ('ML_algo': conda)"
  },
  "interpreter": {
   "hash": "3a32990f6da0d7abf7182fdf4d416d4dc1a912d9d1503f9139207ed8cae052ef"
  }
 },
 "nbformat": 4,
 "nbformat_minor": 2
}